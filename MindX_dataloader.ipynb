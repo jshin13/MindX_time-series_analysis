{
  "nbformat": 4,
  "nbformat_minor": 0,
  "metadata": {
    "colab": {
      "name": "MindX_dataloader.ipynb",
      "provenance": [],
      "collapsed_sections": [],
      "toc_visible": true,
      "authorship_tag": "ABX9TyNSXVDyT91DFPks39hzqpra",
      "include_colab_link": true
    },
    "kernelspec": {
      "name": "python3",
      "display_name": "Python 3"
    },
    "widgets": {
      "application/vnd.jupyter.widget-state+json": {
        "65448885d32648288a7993cb104fc940": {
          "model_module": "@jupyter-widgets/controls",
          "model_name": "HBoxModel",
          "state": {
            "_view_name": "HBoxView",
            "_dom_classes": [],
            "_model_name": "HBoxModel",
            "_view_module": "@jupyter-widgets/controls",
            "_model_module_version": "1.5.0",
            "_view_count": null,
            "_view_module_version": "1.5.0",
            "box_style": "",
            "layout": "IPY_MODEL_95d176a50ce34d4397397e975c67b5e3",
            "_model_module": "@jupyter-widgets/controls",
            "children": [
              "IPY_MODEL_7e5de998013b42a2a0ffd52a6c374a85",
              "IPY_MODEL_25d066953c2f478daaa11e52105b8ff4"
            ]
          }
        },
        "95d176a50ce34d4397397e975c67b5e3": {
          "model_module": "@jupyter-widgets/base",
          "model_name": "LayoutModel",
          "state": {
            "_view_name": "LayoutView",
            "grid_template_rows": null,
            "right": null,
            "justify_content": null,
            "_view_module": "@jupyter-widgets/base",
            "overflow": null,
            "_model_module_version": "1.2.0",
            "_view_count": null,
            "flex_flow": null,
            "width": null,
            "min_width": null,
            "border": null,
            "align_items": null,
            "bottom": null,
            "_model_module": "@jupyter-widgets/base",
            "top": null,
            "grid_column": null,
            "overflow_y": null,
            "overflow_x": null,
            "grid_auto_flow": null,
            "grid_area": null,
            "grid_template_columns": null,
            "flex": null,
            "_model_name": "LayoutModel",
            "justify_items": null,
            "grid_row": null,
            "max_height": null,
            "align_content": null,
            "visibility": null,
            "align_self": null,
            "height": null,
            "min_height": null,
            "padding": null,
            "grid_auto_rows": null,
            "grid_gap": null,
            "max_width": null,
            "order": null,
            "_view_module_version": "1.2.0",
            "grid_template_areas": null,
            "object_position": null,
            "object_fit": null,
            "grid_auto_columns": null,
            "margin": null,
            "display": null,
            "left": null
          }
        },
        "7e5de998013b42a2a0ffd52a6c374a85": {
          "model_module": "@jupyter-widgets/controls",
          "model_name": "FloatProgressModel",
          "state": {
            "_view_name": "ProgressView",
            "style": "IPY_MODEL_3339d1c3233a491fa633bc2031a89465",
            "_dom_classes": [],
            "description": "100%",
            "_model_name": "FloatProgressModel",
            "bar_style": "success",
            "max": 10,
            "_view_module": "@jupyter-widgets/controls",
            "_model_module_version": "1.5.0",
            "value": 10,
            "_view_count": null,
            "_view_module_version": "1.5.0",
            "orientation": "horizontal",
            "min": 0,
            "description_tooltip": null,
            "_model_module": "@jupyter-widgets/controls",
            "layout": "IPY_MODEL_2ae8aca494c94c3b8f08a004a884b0e0"
          }
        },
        "25d066953c2f478daaa11e52105b8ff4": {
          "model_module": "@jupyter-widgets/controls",
          "model_name": "HTMLModel",
          "state": {
            "_view_name": "HTMLView",
            "style": "IPY_MODEL_07788418e8204b2fbea50cc952b4c1e6",
            "_dom_classes": [],
            "description": "",
            "_model_name": "HTMLModel",
            "placeholder": "​",
            "_view_module": "@jupyter-widgets/controls",
            "_model_module_version": "1.5.0",
            "value": " 10/10 [00:12&lt;00:00,  1.20s/it]",
            "_view_count": null,
            "_view_module_version": "1.5.0",
            "description_tooltip": null,
            "_model_module": "@jupyter-widgets/controls",
            "layout": "IPY_MODEL_a0d14c446a1d44a2a0058f28b19dc66b"
          }
        },
        "3339d1c3233a491fa633bc2031a89465": {
          "model_module": "@jupyter-widgets/controls",
          "model_name": "ProgressStyleModel",
          "state": {
            "_view_name": "StyleView",
            "_model_name": "ProgressStyleModel",
            "description_width": "initial",
            "_view_module": "@jupyter-widgets/base",
            "_model_module_version": "1.5.0",
            "_view_count": null,
            "_view_module_version": "1.2.0",
            "bar_color": null,
            "_model_module": "@jupyter-widgets/controls"
          }
        },
        "2ae8aca494c94c3b8f08a004a884b0e0": {
          "model_module": "@jupyter-widgets/base",
          "model_name": "LayoutModel",
          "state": {
            "_view_name": "LayoutView",
            "grid_template_rows": null,
            "right": null,
            "justify_content": null,
            "_view_module": "@jupyter-widgets/base",
            "overflow": null,
            "_model_module_version": "1.2.0",
            "_view_count": null,
            "flex_flow": null,
            "width": null,
            "min_width": null,
            "border": null,
            "align_items": null,
            "bottom": null,
            "_model_module": "@jupyter-widgets/base",
            "top": null,
            "grid_column": null,
            "overflow_y": null,
            "overflow_x": null,
            "grid_auto_flow": null,
            "grid_area": null,
            "grid_template_columns": null,
            "flex": null,
            "_model_name": "LayoutModel",
            "justify_items": null,
            "grid_row": null,
            "max_height": null,
            "align_content": null,
            "visibility": null,
            "align_self": null,
            "height": null,
            "min_height": null,
            "padding": null,
            "grid_auto_rows": null,
            "grid_gap": null,
            "max_width": null,
            "order": null,
            "_view_module_version": "1.2.0",
            "grid_template_areas": null,
            "object_position": null,
            "object_fit": null,
            "grid_auto_columns": null,
            "margin": null,
            "display": null,
            "left": null
          }
        },
        "07788418e8204b2fbea50cc952b4c1e6": {
          "model_module": "@jupyter-widgets/controls",
          "model_name": "DescriptionStyleModel",
          "state": {
            "_view_name": "StyleView",
            "_model_name": "DescriptionStyleModel",
            "description_width": "",
            "_view_module": "@jupyter-widgets/base",
            "_model_module_version": "1.5.0",
            "_view_count": null,
            "_view_module_version": "1.2.0",
            "_model_module": "@jupyter-widgets/controls"
          }
        },
        "a0d14c446a1d44a2a0058f28b19dc66b": {
          "model_module": "@jupyter-widgets/base",
          "model_name": "LayoutModel",
          "state": {
            "_view_name": "LayoutView",
            "grid_template_rows": null,
            "right": null,
            "justify_content": null,
            "_view_module": "@jupyter-widgets/base",
            "overflow": null,
            "_model_module_version": "1.2.0",
            "_view_count": null,
            "flex_flow": null,
            "width": null,
            "min_width": null,
            "border": null,
            "align_items": null,
            "bottom": null,
            "_model_module": "@jupyter-widgets/base",
            "top": null,
            "grid_column": null,
            "overflow_y": null,
            "overflow_x": null,
            "grid_auto_flow": null,
            "grid_area": null,
            "grid_template_columns": null,
            "flex": null,
            "_model_name": "LayoutModel",
            "justify_items": null,
            "grid_row": null,
            "max_height": null,
            "align_content": null,
            "visibility": null,
            "align_self": null,
            "height": null,
            "min_height": null,
            "padding": null,
            "grid_auto_rows": null,
            "grid_gap": null,
            "max_width": null,
            "order": null,
            "_view_module_version": "1.2.0",
            "grid_template_areas": null,
            "object_position": null,
            "object_fit": null,
            "grid_auto_columns": null,
            "margin": null,
            "display": null,
            "left": null
          }
        },
        "265562f78e904d8f9a1ce19c98dda87d": {
          "model_module": "@jupyter-widgets/controls",
          "model_name": "HBoxModel",
          "state": {
            "_view_name": "HBoxView",
            "_dom_classes": [],
            "_model_name": "HBoxModel",
            "_view_module": "@jupyter-widgets/controls",
            "_model_module_version": "1.5.0",
            "_view_count": null,
            "_view_module_version": "1.5.0",
            "box_style": "",
            "layout": "IPY_MODEL_5abd294fa70d43f3aea89e8f1c01dcab",
            "_model_module": "@jupyter-widgets/controls",
            "children": [
              "IPY_MODEL_336746161eeb414fb62389ce12eece35",
              "IPY_MODEL_08f735df16d743f7ae74ad13c30bad07"
            ]
          }
        },
        "5abd294fa70d43f3aea89e8f1c01dcab": {
          "model_module": "@jupyter-widgets/base",
          "model_name": "LayoutModel",
          "state": {
            "_view_name": "LayoutView",
            "grid_template_rows": null,
            "right": null,
            "justify_content": null,
            "_view_module": "@jupyter-widgets/base",
            "overflow": null,
            "_model_module_version": "1.2.0",
            "_view_count": null,
            "flex_flow": null,
            "width": null,
            "min_width": null,
            "border": null,
            "align_items": null,
            "bottom": null,
            "_model_module": "@jupyter-widgets/base",
            "top": null,
            "grid_column": null,
            "overflow_y": null,
            "overflow_x": null,
            "grid_auto_flow": null,
            "grid_area": null,
            "grid_template_columns": null,
            "flex": null,
            "_model_name": "LayoutModel",
            "justify_items": null,
            "grid_row": null,
            "max_height": null,
            "align_content": null,
            "visibility": null,
            "align_self": null,
            "height": null,
            "min_height": null,
            "padding": null,
            "grid_auto_rows": null,
            "grid_gap": null,
            "max_width": null,
            "order": null,
            "_view_module_version": "1.2.0",
            "grid_template_areas": null,
            "object_position": null,
            "object_fit": null,
            "grid_auto_columns": null,
            "margin": null,
            "display": null,
            "left": null
          }
        },
        "336746161eeb414fb62389ce12eece35": {
          "model_module": "@jupyter-widgets/controls",
          "model_name": "FloatProgressModel",
          "state": {
            "_view_name": "ProgressView",
            "style": "IPY_MODEL_b919a197c912417c84e3d7f2abfc3e91",
            "_dom_classes": [],
            "description": "100%",
            "_model_name": "FloatProgressModel",
            "bar_style": "success",
            "max": 10,
            "_view_module": "@jupyter-widgets/controls",
            "_model_module_version": "1.5.0",
            "value": 10,
            "_view_count": null,
            "_view_module_version": "1.5.0",
            "orientation": "horizontal",
            "min": 0,
            "description_tooltip": null,
            "_model_module": "@jupyter-widgets/controls",
            "layout": "IPY_MODEL_5ee094e53fbf4d78b59fd3dc0009dcfd"
          }
        },
        "08f735df16d743f7ae74ad13c30bad07": {
          "model_module": "@jupyter-widgets/controls",
          "model_name": "HTMLModel",
          "state": {
            "_view_name": "HTMLView",
            "style": "IPY_MODEL_1774ac35a8244ee69e0900f4301d11ff",
            "_dom_classes": [],
            "description": "",
            "_model_name": "HTMLModel",
            "placeholder": "​",
            "_view_module": "@jupyter-widgets/controls",
            "_model_module_version": "1.5.0",
            "value": " 10/10 [00:07&lt;00:00,  1.38it/s]",
            "_view_count": null,
            "_view_module_version": "1.5.0",
            "description_tooltip": null,
            "_model_module": "@jupyter-widgets/controls",
            "layout": "IPY_MODEL_ab98968ab9364d3bb21c954a1d7f0b3b"
          }
        },
        "b919a197c912417c84e3d7f2abfc3e91": {
          "model_module": "@jupyter-widgets/controls",
          "model_name": "ProgressStyleModel",
          "state": {
            "_view_name": "StyleView",
            "_model_name": "ProgressStyleModel",
            "description_width": "initial",
            "_view_module": "@jupyter-widgets/base",
            "_model_module_version": "1.5.0",
            "_view_count": null,
            "_view_module_version": "1.2.0",
            "bar_color": null,
            "_model_module": "@jupyter-widgets/controls"
          }
        },
        "5ee094e53fbf4d78b59fd3dc0009dcfd": {
          "model_module": "@jupyter-widgets/base",
          "model_name": "LayoutModel",
          "state": {
            "_view_name": "LayoutView",
            "grid_template_rows": null,
            "right": null,
            "justify_content": null,
            "_view_module": "@jupyter-widgets/base",
            "overflow": null,
            "_model_module_version": "1.2.0",
            "_view_count": null,
            "flex_flow": null,
            "width": null,
            "min_width": null,
            "border": null,
            "align_items": null,
            "bottom": null,
            "_model_module": "@jupyter-widgets/base",
            "top": null,
            "grid_column": null,
            "overflow_y": null,
            "overflow_x": null,
            "grid_auto_flow": null,
            "grid_area": null,
            "grid_template_columns": null,
            "flex": null,
            "_model_name": "LayoutModel",
            "justify_items": null,
            "grid_row": null,
            "max_height": null,
            "align_content": null,
            "visibility": null,
            "align_self": null,
            "height": null,
            "min_height": null,
            "padding": null,
            "grid_auto_rows": null,
            "grid_gap": null,
            "max_width": null,
            "order": null,
            "_view_module_version": "1.2.0",
            "grid_template_areas": null,
            "object_position": null,
            "object_fit": null,
            "grid_auto_columns": null,
            "margin": null,
            "display": null,
            "left": null
          }
        },
        "1774ac35a8244ee69e0900f4301d11ff": {
          "model_module": "@jupyter-widgets/controls",
          "model_name": "DescriptionStyleModel",
          "state": {
            "_view_name": "StyleView",
            "_model_name": "DescriptionStyleModel",
            "description_width": "",
            "_view_module": "@jupyter-widgets/base",
            "_model_module_version": "1.5.0",
            "_view_count": null,
            "_view_module_version": "1.2.0",
            "_model_module": "@jupyter-widgets/controls"
          }
        },
        "ab98968ab9364d3bb21c954a1d7f0b3b": {
          "model_module": "@jupyter-widgets/base",
          "model_name": "LayoutModel",
          "state": {
            "_view_name": "LayoutView",
            "grid_template_rows": null,
            "right": null,
            "justify_content": null,
            "_view_module": "@jupyter-widgets/base",
            "overflow": null,
            "_model_module_version": "1.2.0",
            "_view_count": null,
            "flex_flow": null,
            "width": null,
            "min_width": null,
            "border": null,
            "align_items": null,
            "bottom": null,
            "_model_module": "@jupyter-widgets/base",
            "top": null,
            "grid_column": null,
            "overflow_y": null,
            "overflow_x": null,
            "grid_auto_flow": null,
            "grid_area": null,
            "grid_template_columns": null,
            "flex": null,
            "_model_name": "LayoutModel",
            "justify_items": null,
            "grid_row": null,
            "max_height": null,
            "align_content": null,
            "visibility": null,
            "align_self": null,
            "height": null,
            "min_height": null,
            "padding": null,
            "grid_auto_rows": null,
            "grid_gap": null,
            "max_width": null,
            "order": null,
            "_view_module_version": "1.2.0",
            "grid_template_areas": null,
            "object_position": null,
            "object_fit": null,
            "grid_auto_columns": null,
            "margin": null,
            "display": null,
            "left": null
          }
        }
      }
    }
  },
  "cells": [
    {
      "cell_type": "markdown",
      "metadata": {
        "id": "view-in-github",
        "colab_type": "text"
      },
      "source": [
        "<a href=\"https://colab.research.google.com/github/jshin13/MindX_time-series_analysis/blob/temp/MindX_dataloader.ipynb\" target=\"_parent\"><img src=\"https://colab.research.google.com/assets/colab-badge.svg\" alt=\"Open In Colab\"/></a>"
      ]
    },
    {
      "cell_type": "code",
      "metadata": {
        "id": "8Ref7nVNaYu_",
        "colab": {
          "base_uri": "https://localhost:8080/"
        },
        "outputId": "8a49d317-609a-48c9-925c-e83a5b4ec773"
      },
      "source": [
        "import os\r\n",
        "import shutil\r\n",
        "import zipfile\r\n",
        "import urllib.request\r\n",
        "from google.colab import drive\r\n",
        "from google.colab import files\r\n",
        "\r\n",
        "drive.mount('/content/drive')"
      ],
      "execution_count": null,
      "outputs": [
        {
          "output_type": "stream",
          "text": [
            "Mounted at /content/drive\n"
          ],
          "name": "stdout"
        }
      ]
    },
    {
      "cell_type": "code",
      "metadata": {
        "id": "N-XhcQWmcDDN"
      },
      "source": [
        "dirpath = '/content/drive/MyDrive/MindX_Data/Optical Imaging System Data Sets/'\r\n",
        "dirpath2 = '/content/drive/MyDrive/MindX_Data/dat/'\r\n",
        "# fpath = 'offaxis_10_27_2020/tf'\r\n",
        "fpath = 'offaxis_s1_11_30_2020/tf'"
      ],
      "execution_count": null,
      "outputs": []
    },
    {
      "cell_type": "code",
      "metadata": {
        "colab": {
          "base_uri": "https://localhost:8080/"
        },
        "id": "tclH4bsD6l1C",
        "outputId": "5370b52f-825d-4496-f020-3254defc38cf"
      },
      "source": [
        "import tensorflow as tf\r\n",
        "from pathlib import Path\r\n",
        "\r\n",
        "def load_dataset(path):\r\n",
        "    return (tf.data.Dataset.list_files(str(Path(path) / '*'), shuffle=False)\r\n",
        "        # Note: cycle_length=1 ensures that sessions are loaded sequentially.\r\n",
        "        # If sessions can be intermingled, then cycle_length can be increased for better performance.\r\n",
        "        .interleave(_load_session, cycle_length=1, num_parallel_calls=tf.data.AUTOTUNE)\r\n",
        "    )\r\n",
        "\r\n",
        "@tf.function\r\n",
        "def _load_session(path):\r\n",
        "    name = tf.strings.split(tf.strings.split(path, '/')[-1], '\\\\')[-1]\r\n",
        "\r\n",
        "    @tf.function\r\n",
        "    def _label(data):\r\n",
        "        out = dict(data)\r\n",
        "        out['dataset'] = name\r\n",
        "        return out\r\n",
        "\r\n",
        "    ds = tf.data.experimental.load(\r\n",
        "        path,\r\n",
        "        dict(\r\n",
        "            data=tf.TensorSpec((None, None), dtype=tf.float32),\r\n",
        "            time=tf.TensorSpec((), dtype=tf.float64),\r\n",
        "            stimulus=tf.TensorSpec((), dtype=tf.bool),\r\n",
        "            ekg=tf.TensorSpec((), dtype=tf.float32),\r\n",
        "            ppg=tf.TensorSpec((), dtype=tf.float32),\r\n",
        "        ),\r\n",
        "    )\r\n",
        "    return ds.map(_label, num_parallel_calls=tf.data.AUTOTUNE)\r\n",
        "\r\n",
        "ds = load_dataset(dirpath + fpath)\r\n",
        "ds"
      ],
      "execution_count": null,
      "outputs": [
        {
          "output_type": "execute_result",
          "data": {
            "text/plain": [
              "<ParallelInterleaveDataset shapes: {data: (None, None), time: (), stimulus: (), ekg: (), ppg: (), dataset: ()}, types: {data: tf.float32, time: tf.float64, stimulus: tf.bool, ekg: tf.float32, ppg: tf.float32, dataset: tf.string}>"
            ]
          },
          "metadata": {
            "tags": []
          },
          "execution_count": 3
        }
      ]
    },
    {
      "cell_type": "code",
      "metadata": {
        "id": "22Ba1YueF3MT"
      },
      "source": [
        "import matplotlib.pyplot as plt\r\n",
        "import matplotlib\r\n",
        "# matplotlib.use('Agg')\r\n",
        "from tqdm.notebook import tqdm\r\n",
        "import numpy as np\r\n",
        "import pandas as pd\r\n",
        "from scipy import signal\r\n",
        "# from IPython.display import clear_output\r\n",
        "import pickle\r\n",
        "import os"
      ],
      "execution_count": null,
      "outputs": []
    },
    {
      "cell_type": "code",
      "metadata": {
        "colab": {
          "base_uri": "https://localhost:8080/"
        },
        "id": "QWV00Xchwcz0",
        "outputId": "bc7da9ef-58dc-47ed-d91a-4c04de9ca2be"
      },
      "source": [
        "from zipfile import ZipFile\r\n",
        "\r\n",
        "if os.path.exists('hyppo-master'):\r\n",
        "    print('HYPPO ALREADY INSTALLED')\r\n",
        "else:\r\n",
        "    try:\r\n",
        "        with ZipFile(dirpath2 + 'hyppo-master.zip', 'r') as zipObj:\r\n",
        "            # Extract all the contents of zip file in current directory\r\n",
        "            zipObj.extractall()\r\n",
        "\r\n",
        "        # % git clone https://github.com/neurodata/hyppo\r\n",
        "        %cd hyppo-master\r\n",
        "        %pip install .\r\n",
        "        %cd ..\r\n",
        "    except:\r\n",
        "        print('ZIP FILE DOES NOT EXIST')"
      ],
      "execution_count": null,
      "outputs": [
        {
          "output_type": "stream",
          "text": [
            "/content/hyppo-master\n",
            "Processing /content/hyppo-master\n",
            "Requirement already satisfied: numpy>=1.17 in /usr/local/lib/python3.6/dist-packages (from hyppo==0.1.3) (1.19.5)\n",
            "Requirement already satisfied: scipy>=1.4.0 in /usr/local/lib/python3.6/dist-packages (from hyppo==0.1.3) (1.4.1)\n",
            "Requirement already satisfied: numba>=0.46 in /usr/local/lib/python3.6/dist-packages (from hyppo==0.1.3) (0.51.2)\n",
            "Requirement already satisfied: scikit-learn>=0.19.1 in /usr/local/lib/python3.6/dist-packages (from hyppo==0.1.3) (0.22.2.post1)\n",
            "Requirement already satisfied: llvmlite<0.35,>=0.34.0.dev0 in /usr/local/lib/python3.6/dist-packages (from numba>=0.46->hyppo==0.1.3) (0.34.0)\n",
            "Requirement already satisfied: setuptools in /usr/local/lib/python3.6/dist-packages (from numba>=0.46->hyppo==0.1.3) (53.0.0)\n",
            "Requirement already satisfied: joblib>=0.11 in /usr/local/lib/python3.6/dist-packages (from scikit-learn>=0.19.1->hyppo==0.1.3) (1.0.0)\n",
            "Building wheels for collected packages: hyppo\n",
            "  Building wheel for hyppo (setup.py) ... \u001b[?25l\u001b[?25hdone\n",
            "  Created wheel for hyppo: filename=hyppo-0.1.3-cp36-none-any.whl size=81176 sha256=d7647f46b322c2511105259e95abbc2e9b8d15209105a9599c8e9a133b2a4957\n",
            "  Stored in directory: /root/.cache/pip/wheels/46/25/90/1df2af5a7937d793b436456291fac7ea71b47a3b579abee957\n",
            "Successfully built hyppo\n",
            "Installing collected packages: hyppo\n",
            "Successfully installed hyppo-0.1.3\n",
            "/content\n"
          ],
          "name": "stdout"
        }
      ]
    },
    {
      "cell_type": "code",
      "metadata": {
        "id": "iPDI59yed7wf"
      },
      "source": [
        "# %pip install hyppo # does not have KMERF yet\r\n",
        "import hyppo"
      ],
      "execution_count": null,
      "outputs": []
    },
    {
      "cell_type": "code",
      "metadata": {
        "id": "s_dYOVAwIURv"
      },
      "source": [
        "def compute_ROI(ds1):\r\n",
        "\r\n",
        "    origin = [0.5, 0.5]\r\n",
        "    radius = 0.3\r\n",
        "    holograms = tf.convert_to_tensor(ds1, tf.float32)\r\n",
        "    shape = [64, 64]#tf.shape(holograms)[1:]\r\n",
        "\r\n",
        "    x, y = tf.meshgrid(\r\n",
        "        tf.linspace(0. - origin[0], 1. - origin[0], shape[0]),\r\n",
        "        tf.linspace(0. - origin[1], 1. - origin[1], shape[1]),\r\n",
        "    )\r\n",
        "    grid = tf.sqrt(x**2 + y**2)\r\n",
        "    mask = grid <= radius\r\n",
        "\r\n",
        "    region = tf.boolean_mask(holograms, mask, axis=0)\r\n",
        "    mean = tf.math.reduce_mean(region, axis=-1)\r\n",
        "\r\n",
        "    return mean, mask"
      ],
      "execution_count": null,
      "outputs": []
    },
    {
      "cell_type": "code",
      "metadata": {
        "id": "_nRJ3O1acRnl"
      },
      "source": [
        "# filename = 'ds_10_27_s1.pickle'\r\n",
        "filename = dirpath2 + 'ds_11_30_s1.pickle'\r\n",
        "\r\n",
        "if os.path.exists(filename):\r\n",
        "    with open(filename, 'rb') as f:\r\n",
        "        ds1 = pickle.load(f, encoding='bytes')\r\n",
        "else:\r\n",
        "    ds1 = [[],[],[],[],[],[],[]]\r\n",
        "\r\n",
        "    for idx, data in enumerate(tqdm(ds)):\r\n",
        "        # if data['dataset'] == bytes(b'AQ'):\r\n",
        "        temp = data['data'].numpy()\r\n",
        "        # ds1[0].append(temp)\r\n",
        "        ds1[1].append(data['time'].numpy())\r\n",
        "        ds1[2].append(data['stimulus'].numpy())\r\n",
        "        ds1[3].append(data['dataset'].numpy())\r\n",
        "        ds1[4].append(data['ekg'].numpy())\r\n",
        "        ds1[5].append(data['ppg'].numpy())\r\n",
        "        roi, _ = compute_ROI(temp) # compute ROI for all range\r\n",
        "        ds1[6].append(roi.numpy())\r\n",
        "\r\n",
        "    with open(filename, 'wb') as f:\r\n",
        "        pickle.dump(ds1, f)"
      ],
      "execution_count": null,
      "outputs": []
    },
    {
      "cell_type": "code",
      "metadata": {
        "id": "ngsM8zJaIC2Y"
      },
      "source": [
        "# data, time, stimulus, dataset, ekg, ppg"
      ],
      "execution_count": null,
      "outputs": []
    },
    {
      "cell_type": "code",
      "metadata": {
        "id": "-Mi8s7GqOuBh"
      },
      "source": [
        "for data in ds:\r\n",
        "    mean, mask = compute_ROI(data['data'].numpy())\r\n",
        "    sample_data = data['data'].numpy()\r\n",
        "    break"
      ],
      "execution_count": null,
      "outputs": []
    },
    {
      "cell_type": "code",
      "metadata": {
        "colab": {
          "base_uri": "https://localhost:8080/",
          "height": 319
        },
        "id": "Z-DDbOgXLBuj",
        "outputId": "f5027971-9294-4310-81ea-cf5bb0e62dd6"
      },
      "source": [
        "fig, (ax1,ax2,ax3) = plt.subplots(1,3, figsize=(15,5))\r\n",
        "\r\n",
        "ax1.imshow(sample_data)\r\n",
        "ax2.imshow(mask)\r\n",
        "\r\n",
        "ax3.imshow(sample_data)\r\n",
        "ax3.imshow(mask, alpha=0.5)\r\n",
        "\r\n",
        "labels = ['Hologram', 'Mask', 'Overlap']\r\n",
        "\r\n",
        "for i, lab in enumerate((ax1,ax2,ax3)):\r\n",
        "    lab.set_title(labels[i], fontsize=25)\r\n",
        "\r\n",
        "fig.savefig('hologram_mask.png', bbox_inches='tight')"
      ],
      "execution_count": null,
      "outputs": [
        {
          "output_type": "display_data",
          "data": {
            "image/png": "[encoded data removed]",
            "text/plain": [
              "<Figure size 1080x360 with 3 Axes>"
            ]
          },
          "metadata": {
            "tags": [],
            "needs_background": "light"
          }
        }
      ]
    },
    {
      "cell_type": "code",
      "metadata": {
        "colab": {
          "base_uri": "https://localhost:8080/"
        },
        "id": "Qw3inGuVsQW6",
        "outputId": "fa6cd488-23be-4acd-f6c0-c8f624261f61"
      },
      "source": [
        "ds1 = np.array(ds1)"
      ],
      "execution_count": null,
      "outputs": [
        {
          "output_type": "stream",
          "text": [
            "/usr/local/lib/python3.6/dist-packages/ipykernel_launcher.py:1: VisibleDeprecationWarning: Creating an ndarray from ragged nested sequences (which is a list-or-tuple of lists-or-tuples-or ndarrays with different lengths or shapes) is deprecated. If you meant to do this, you must specify 'dtype=object' when creating the ndarray\n",
            "  \"\"\"Entry point for launching an IPython kernel.\n"
          ],
          "name": "stderr"
        }
      ]
    },
    {
      "cell_type": "code",
      "metadata": {
        "colab": {
          "base_uri": "https://localhost:8080/"
        },
        "id": "LFFW_fTdHXVv",
        "outputId": "33dfb467-9830-4528-8ea2-d433d70cb8ee"
      },
      "source": [
        "for i in ds1:\r\n",
        "    try: print(i[0])\r\n",
        "    except: print([])"
      ],
      "execution_count": null,
      "outputs": [
        {
          "output_type": "stream",
          "text": [
            "[]\n",
            "0.00022700001770600137\n",
            "False\n",
            "b'AC'\n",
            "0.41137695\n",
            "2.2644043\n",
            "18.902588\n"
          ],
          "name": "stdout"
        }
      ]
    },
    {
      "cell_type": "code",
      "metadata": {
        "colab": {
          "base_uri": "https://localhost:8080/"
        },
        "id": "O_KGdh-XlT65",
        "outputId": "8ffaf8dd-911b-4697-fc85-d54cfd0d5086"
      },
      "source": [
        "# only one dataset type\r\n",
        "idx = np.unique(ds1[3], return_index=True)\r\n",
        "idx[0], set(ds1[3])"
      ],
      "execution_count": null,
      "outputs": [
        {
          "output_type": "execute_result",
          "data": {
            "text/plain": [
              "(array([b'AC', b'AD', b'AE', b'AF', b'AG', b'AH', b'AI', b'AJ', b'AK',\n",
              "        b'AL'], dtype='|S2'),\n",
              " {b'AC', b'AD', b'AE', b'AF', b'AG', b'AH', b'AI', b'AJ', b'AK', b'AL'})"
            ]
          },
          "metadata": {
            "tags": []
          },
          "execution_count": 14
        }
      ]
    },
    {
      "cell_type": "code",
      "metadata": {
        "id": "htk4ZGp9dPWW"
      },
      "source": [
        "if False:\r\n",
        "    for sess in range(10):\r\n",
        "        aq = np.array(ds1[3]) == idx[0][sess]#bytes(b'AQ')\r\n",
        "\r\n",
        "        t_i = np.arange(0,np.array(ds1[1])[aq].size)\r\n",
        "        t = np.array(ds1[2])[aq]+0\r\n",
        "\r\n",
        "        fig, (ax1,ax2,ax3) = plt.subplots(3,1, figsize=(14,7*3))\r\n",
        "\r\n",
        "        ax1.scatter(t_i, np.array(ds1[6])[aq], ls='-', marker='.', s=1, c=t)\r\n",
        "        ax2.scatter(t_i, np.array(ds1[4])[aq], ls='-', marker='.', s=1, c=t)\r\n",
        "        ax3.scatter(t_i, np.array(ds1[5])[aq], ls='-', marker='.', s=1, c=t)\r\n",
        "\r\n",
        "        labels = ['hologram ROI', 'EKG', 'PPG']\r\n",
        "\r\n",
        "        for i, lab in enumerate((ax1,ax2,ax3)):\r\n",
        "            lab.set_title(labels[i], fontsize=25)\r\n",
        "\r\n",
        "        fig.savefig(f'data_visualization_{sess}.png', bbox_inches='tight')"
      ],
      "execution_count": null,
      "outputs": []
    },
    {
      "cell_type": "code",
      "metadata": {
        "id": "D8WvtePJ3EGF"
      },
      "source": [
        "def normalize(dat):\r\n",
        "    return (dat - dat.min()) / (dat.max() - dat.min())"
      ],
      "execution_count": null,
      "outputs": []
    },
    {
      "cell_type": "code",
      "metadata": {
        "colab": {
          "base_uri": "https://localhost:8080/",
          "height": 340
        },
        "id": "cGfRu8CmS7Ui",
        "outputId": "357b3344-4ce7-45d7-8211-383559474576"
      },
      "source": [
        "# ppg vs ekg\r\n",
        "fig, (ax1, ax2, ax3, ax4) = plt.subplots(1,4, figsize=(20,5))\r\n",
        "\r\n",
        "nlim = 5000\r\n",
        "\r\n",
        "ax1.plot((np.array(ds1[6]))[:nlim])\r\n",
        "# ax1.plot(np.fft.fft((np.array(ds1[6])[aq])[:nlim]))\r\n",
        "# np.fft.fft((np.array(ds1[6])[aq])[:nlim])\r\n",
        "ax1.set_title('ROI', fontsize=18)\r\n",
        "ax2.plot((np.array(ds1[4]))[:nlim])\r\n",
        "ax2.set_title('EKG', fontsize=18)\r\n",
        "ax3.plot((np.array(ds1[5]))[:nlim])\r\n",
        "ax3.set_title('PPG', fontsize=18)\r\n",
        "\r\n",
        "ax4.plot(normalize(np.array(ds1[4])[:nlim]))\r\n",
        "ax4.plot(normalize(np.array(ds1[5])[:nlim])**2)\r\n",
        "ax4.plot(normalize(np.array(ds1[6])[:nlim]), alpha=0.4)\r\n",
        "# ax4.plot(normalize(np.array(ds1[6])[aq][:nlim])-normalize(np.array(ds1[4])[aq][:nlim]))\r\n",
        "ax4.set_title('ALL(normalized)', fontsize=18)\r\n",
        "\r\n",
        "plt.savefig('PPG_EKG.png', bbox_inches='tight')"
      ],
      "execution_count": null,
      "outputs": [
        {
          "output_type": "display_data",
          "data": {
            "image/png": "[encoded data removed]",
            "text/plain": [
              "<Figure size 1440x360 with 4 Axes>"
            ]
          },
          "metadata": {
            "tags": [],
            "needs_background": "light"
          }
        }
      ]
    },
    {
      "cell_type": "code",
      "metadata": {
        "id": "LGtuQToAE3wZ"
      },
      "source": [
        "# np.fft.fft((np.array(ds1[6])[aq])[:nlim])"
      ],
      "execution_count": null,
      "outputs": []
    },
    {
      "cell_type": "code",
      "metadata": {
        "id": "PGG9OZB-qGT_"
      },
      "source": [
        "import scipy\r\n",
        "from scipy.optimize import curve_fit\r\n",
        "from sklearn.neighbors import KernelDensity"
      ],
      "execution_count": null,
      "outputs": []
    },
    {
      "cell_type": "code",
      "metadata": {
        "id": "xONAjiRr18vD"
      },
      "source": [
        "# wave_p[:,None]"
      ],
      "execution_count": null,
      "outputs": []
    },
    {
      "cell_type": "code",
      "metadata": {
        "id": "bxVG3LuWwlhu"
      },
      "source": [
        "# wave_p\r\n",
        "# nlim = 20000\r\n",
        "\r\n",
        "# kde = KernelDensity()\r\n",
        "# kde.fit(wave_p[:,None])\r\n",
        "# kde_idx = np.linspace(0,nlim,nlim)[:,None]#.reshape(-1,1)\r\n",
        "# # new_wavep = np.column_stack((np.linspace(0,nlim,nlim), wave_p))\r\n",
        "# # kde.fit(new_wavep)\r\n",
        "# kde_i = kde.score_samples(kde_idx)"
      ],
      "execution_count": null,
      "outputs": []
    },
    {
      "cell_type": "code",
      "metadata": {
        "id": "VMxdzyt-01EA"
      },
      "source": [
        "# np.column_stack((np.linspace(0,nlim,nlim), wave_p)).shape"
      ],
      "execution_count": null,
      "outputs": []
    },
    {
      "cell_type": "code",
      "metadata": {
        "id": "D79FLEL54O--"
      },
      "source": [
        "# fig, ax = plt.subplots(1,1, figsize=(20,10))\r\n",
        "# wave_e = normalize(np.array(ds1[4])[aq][:nlim]) \r\n",
        "# wave_p = normalize(np.array(ds1[5])[aq][:nlim]) \r\n",
        "# wave_r = normalize(np.array(ds1[6])[aq][:nlim]) \r\n",
        "# ax.plot(normalize(wave_r - wave_e))\r\n",
        "# ax.plot(wave_r)\r\n",
        "# ax.plot(wave_e)\r\n",
        "# ax.plot(wave_p)\r\n",
        "# ax.plot(wave_p[:nlim])\r\n",
        "# ax.plot(normalize(np.sin(np.linspace(0, np.pi, nlim))))\r\n",
        "# ax.plot(normalize(wave_p + normalize(np.sin(np.linspace(0, np.pi, nlim)))))\r\n",
        "\r\n",
        "\r\n",
        "# ax.plot(wave_r, alpha=0.2)\r\n",
        "# ax.plot(normalize(wave_p + np.fft.fftshift(wave_p)))\r\n",
        "\r\n",
        "# kde = scipy.stats.kde.gaussian_kde(wave_p)\r\n",
        "# kde = KernelDensity()\r\n",
        "# ax.plot(normalize(kde_i))\r\n",
        "\r\n",
        "# ax.plot(normalize(kde_i))\r\n",
        "\r\n",
        "# ax.plot(wave_p[:nlim] - normalize(kde_i))\r\n",
        "\r\n",
        "# ax.plot(new_wavep[:,0],new_wavep[:,1])\r\n",
        "\r\n",
        "# temp_x = np.array(ds1[6])[aq][:nlim]\r\n",
        "# temp_fft = np.fft.fft(temp_x)\r\n",
        "# ax.plot(np.fft.ifft(temp_fft))\r\n",
        "\r\n",
        "# temp_x = np.array(ds1[6])[aq][19990:nlim]\r\n",
        "# temp_fft = np.fft.fft(temp_x)\r\n",
        "# ax.plot(temp_fft)\r\n",
        "# temp_x = np.array(ds1[5])[aq][:nlim]\r\n",
        "# temp_fft = temp_fft - np.fft.fft(temp_x)\r\n",
        "# # ax.plot(np.fft.ifft(temp_fft))\r\n",
        "# temp_x = np.array(ds1[4])[aq][:nlim]\r\n",
        "# temp_fft = temp_fft - np.fft.fft(temp_x)\r\n",
        "# temp_fft[100:] = 0\r\n",
        "# temp_fft = np.fft.fft(temp_x)\r\n",
        "# ax.plot(temp_fft)\r\n",
        "# ax.plot(np.fft.ifft(temp_fft))\r\n",
        "# ax.plot(np.array(ds1[6])[aq][:nlim])\r\n",
        "# ax.plot(normalize(np.array(ds1[5])[aq][:nlim]))\r\n",
        "# ax.plot(normalize(np.array(ds1[6])[aq][:nlim]))\r\n",
        "# ax.set_title('ALL', fontsize=18)"
      ],
      "execution_count": null,
      "outputs": []
    },
    {
      "cell_type": "code",
      "metadata": {
        "id": "R51-gk8986Wn"
      },
      "source": [
        "new_ds = np.array([])\r\n",
        "new_ds = [[] for i in range(7)]\r\n",
        "\r\n",
        "for i, dat in enumerate(ds1):\r\n",
        "    new_ds[i] = np.array(dat)"
      ],
      "execution_count": null,
      "outputs": []
    },
    {
      "cell_type": "code",
      "metadata": {
        "colab": {
          "base_uri": "https://localhost:8080/"
        },
        "id": "KYIUH4PV_IfE",
        "outputId": "5e0083c1-49ae-4698-a609-29461247d832"
      },
      "source": [
        "# binarize boolean\r\n",
        "new_ds[2] = new_ds[2] + 0\r\n",
        "new_ds[2]"
      ],
      "execution_count": null,
      "outputs": [
        {
          "output_type": "execute_result",
          "data": {
            "text/plain": [
              "array([0, 0, 0, ..., 0, 0, 0])"
            ]
          },
          "metadata": {
            "tags": []
          },
          "execution_count": 25
        }
      ]
    },
    {
      "cell_type": "code",
      "metadata": {
        "id": "vflgtICX_Un7"
      },
      "source": [
        "# data, time, stimulus, dataset, ekg, ppg\r\n",
        "ds_by_session = [[] for i in range(10)]\r\n",
        "\r\n",
        "for i, b_id in enumerate(set(new_ds[3])):\r\n",
        "    idx = new_ds[3] == b_id\r\n",
        "    ds_by_session[i].append(new_ds[1][idx]) #time\r\n",
        "    ds_by_session[i].append(new_ds[2][idx]) #stimulus\r\n",
        "    ds_by_session[i].append(np.array([new_ds[6][idx], new_ds[4][idx], new_ds[5][idx]]).T) #ekg, ppg, hologram ROI"
      ],
      "execution_count": null,
      "outputs": []
    },
    {
      "cell_type": "code",
      "metadata": {
        "colab": {
          "base_uri": "https://localhost:8080/"
        },
        "id": "5gHzW7Q1BVyd",
        "outputId": "72698b69-8ec8-4fd4-bc2f-841404c9ee76"
      },
      "source": [
        "ds_by_session[0][2][:,0]"
      ],
      "execution_count": null,
      "outputs": [
        {
          "output_type": "execute_result",
          "data": {
            "text/plain": [
              "array([18.902588, 16.810802, 14.809025, ..., 38.51426 , 41.535267,\n",
              "       34.110626], dtype=float32)"
            ]
          },
          "metadata": {
            "tags": []
          },
          "execution_count": 27
        }
      ]
    },
    {
      "cell_type": "code",
      "metadata": {
        "id": "2wVmH7JWh0pm"
      },
      "source": [
        "def check_discontinuity(data):\r\n",
        "    '''input is a list of 0 and 1'''\r\n",
        "    new_list = [[], []]\r\n",
        "    temp = []\r\n",
        "    for i in range(len(data)-1):\r\n",
        "        temp.append(i)\r\n",
        "        if data[i] != data[i+1]:\r\n",
        "            new_list[data[i]].append(temp)\r\n",
        "            temp = []\r\n",
        "    if len(temp) != 0:\r\n",
        "        new_list[data[temp[0]]].append(temp)\r\n",
        "    return new_list"
      ],
      "execution_count": null,
      "outputs": []
    },
    {
      "cell_type": "code",
      "metadata": {
        "id": "rTS6rcGfjm03"
      },
      "source": [
        "# # makes separate lists of baseline (0) and stimulus (1)\r\n",
        "# ds_two_sample = [[] for i in range(10)]\r\n",
        "\r\n",
        "# for ii, dat in enumerate(ds_by_session):\r\n",
        "#     temp_idx = check_discontinuity(dat[1])\r\n",
        "#     ds_two_sample[ii].append([]) \r\n",
        "#     ds_two_sample[ii].append([]) \r\n",
        "#     try:\r\n",
        "#         for i in range(len(temp_idx[0])):\r\n",
        "#             ds_two_sample[ii][0].append(dat[2][temp_idx[0][i]]) \r\n",
        "#         for i in range(len(temp_idx[1])):\r\n",
        "#             ds_two_sample[ii][1].append(dat[2][temp_idx[1][i]])\r\n",
        "#             # print(dat[2][temp_idx[1][i]].shape)\r\n",
        "#     except:\r\n",
        "#         print('Index out of bound: there are more than 6 stimulations')"
      ],
      "execution_count": null,
      "outputs": []
    },
    {
      "cell_type": "code",
      "metadata": {
        "id": "r5f0nNXdJnWU"
      },
      "source": [
        "# # resampling to average baseline length\r\n",
        "# ds_two_sample_resampled = ds_two_sample.copy()\r\n",
        "\r\n",
        "# for ii, dat in enumerate(ds_two_sample_resampled):\r\n",
        "#     avg = 0\r\n",
        "#     for i in range(len(dat[0])):\r\n",
        "#         avg += dat[0][i].shape[0] #assumes baseline to be longer\r\n",
        "#     avg = avg // 6\r\n",
        "\r\n",
        "#     for i in range(len(dat[0])):\r\n",
        "#         ds_two_sample_resampled[ii][0][i] = signal.resample(dat[0][i], avg)\r\n",
        "#     for i in range(len(dat[1])):\r\n",
        "#         ds_two_sample_resampled[ii][1][i] = signal.resample(dat[1][i], avg)"
      ],
      "execution_count": null,
      "outputs": []
    },
    {
      "cell_type": "code",
      "metadata": {
        "id": "9S7-wjLrnxjD"
      },
      "source": [
        "# # plot concatenated resampled signal\r\n",
        "# fig, (ax1,ax2,ax3) = plt.subplots(3,1, figsize=(14,7*3))\r\n",
        "\r\n",
        "# labels = ['hologram ROI', 'EKG', 'PPG']\r\n",
        "# rnd = True #pre-registering\r\n",
        "\r\n",
        "# for k, ax in enumerate((ax1,ax2,ax3)):\r\n",
        "\r\n",
        "#     temp_array = np.array([])\r\n",
        "#     temp_idx = []\r\n",
        "\r\n",
        "#     for i in range(6):    \r\n",
        "#         for j in [1,0]:\r\n",
        "#             if rnd:\r\n",
        "#                 temp_array2 = ds_two_sample_resampled[0][j][i][:,k].copy()\r\n",
        "#                 np.random.shuffle(temp_array2)\r\n",
        "#                 temp_array = np.append(temp_array,temp_array2)\r\n",
        "#             else:\r\n",
        "#                 temp_array = np.append(temp_array,ds_two_sample_resampled[0][j][i][:,k])\r\n",
        "#             size = ds_two_sample_resampled[0][j][i][:,k].size\r\n",
        "#             temp_idx += [j]*size\r\n",
        "\r\n",
        "#     x_i = np.arange(0,len(temp_idx))\r\n",
        "#     ax.scatter(x_i, temp_array, c=temp_idx, s=1)\r\n",
        "#     ax.set_title(labels[k], fontsize=25)\r\n",
        "\r\n",
        "# if rnd:\r\n",
        "#     fig.savefig('data_visualization_resampled_preregistered.png', bbox_inches='tight')\r\n",
        "# else:\r\n",
        "#     fig.savefig('data_visualization_resampled.png', bbox_inches='tight')"
      ],
      "execution_count": null,
      "outputs": []
    },
    {
      "cell_type": "code",
      "metadata": {
        "id": "2_ooC5S1zhQX"
      },
      "source": [
        "# # session / stimulus / time / [ROI, EKG, PPG]\r\n",
        "# ds_two_sample_resampled_prereg = ds_two_sample_resampled.copy()\r\n",
        "# for i in range(2):\r\n",
        "#     for j in range(len(ds_two_sample_resampled[0][0])):\r\n",
        "#         for k in range(len(ds_two_sample_resampled[0][0][0][0])):\r\n",
        "#             np.random.shuffle(ds_two_sample_resampled_prereg[0][i][j][:,k])"
      ],
      "execution_count": null,
      "outputs": []
    },
    {
      "cell_type": "code",
      "metadata": {
        "id": "J1mGfet0vRgX"
      },
      "source": [
        "dcorr = hyppo.independence.Dcorr()\r\n",
        "mgc   = hyppo.independence.MGC()\r\n",
        "kmerf = hyppo.independence.KMERF()"
      ],
      "execution_count": null,
      "outputs": []
    },
    {
      "cell_type": "markdown",
      "metadata": {
        "id": "e-7sRDmBOfgf"
      },
      "source": [
        "## Binning and fast dcorr"
      ]
    },
    {
      "cell_type": "code",
      "metadata": {
        "colab": {
          "base_uri": "https://localhost:8080/"
        },
        "id": "_8ua2DAzGEHW",
        "outputId": "54ccd7bb-e8eb-4a09-963c-0dafdb83935b"
      },
      "source": [
        "for i in range(10):\r\n",
        "    print(list(set(ds1[3]))[i], ':', ds_by_session[i][0].shape[0])"
      ],
      "execution_count": null,
      "outputs": [
        {
          "output_type": "stream",
          "text": [
            "b'AC' : 68469\n",
            "b'AJ' : 68177\n",
            "b'AG' : 68237\n",
            "b'AI' : 68612\n",
            "b'AF' : 68233\n",
            "b'AE' : 68557\n",
            "b'AL' : 68305\n",
            "b'AK' : 68603\n",
            "b'AD' : 68623\n",
            "b'AH' : 68553\n"
          ],
          "name": "stdout"
        }
      ]
    },
    {
      "cell_type": "code",
      "metadata": {
        "colab": {
          "base_uri": "https://localhost:8080/"
        },
        "id": "p61GmoSSMg7J",
        "outputId": "ba4c211e-11f4-4a0e-e327-1ead18d97685"
      },
      "source": [
        "#size before binning\r\n",
        "ds_by_session[0][0].shape"
      ],
      "execution_count": null,
      "outputs": [
        {
          "output_type": "execute_result",
          "data": {
            "text/plain": [
              "(68469,)"
            ]
          },
          "metadata": {
            "tags": []
          },
          "execution_count": 35
        }
      ]
    },
    {
      "cell_type": "code",
      "metadata": {
        "id": "mRHmvDJC3BD5"
      },
      "source": [
        "def binning(ds, k=10):\r\n",
        "    '''follows ds_by_session structure\r\n",
        "    ds = narray embedded in a list\r\n",
        "    k = number of bins\r\n",
        "    '''\r\n",
        "    # new_ds = np.array([])\r\n",
        "    new_ds = []\r\n",
        "    st_lst = [] #new baseline vs stimulus binary\r\n",
        "\r\n",
        "    for s in tqdm(range(len(ds))): #session\r\n",
        "        new_ds.append([])\r\n",
        "        st_lst.append([])\r\n",
        "\r\n",
        "        for i in range(ds[s][2].shape[0]-k): #[time, stimulus, (roi, ekg, ppg)]\r\n",
        "            st = np.unique(ds[s][1][i:i+k])\r\n",
        "            if st.size == 1:\r\n",
        "                st_lst[s].append(st[0])\r\n",
        "                new_ds[s].append(ds[s][2][i:i+k].tolist())\r\n",
        "                \r\n",
        "    return new_ds, st_lst"
      ],
      "execution_count": null,
      "outputs": []
    },
    {
      "cell_type": "code",
      "metadata": {
        "id": "qj70j8UecUa7"
      },
      "source": [
        "BIN_NUM = 10\r\n",
        "# dsetID = '1027'\r\n",
        "dsetID = '1130'\r\n",
        "\r\n",
        "results = []\r\n",
        "results_no_inf = []\r\n",
        "\r\n",
        "filename = dirpath2 + f'results_{dsetID}_dcorr_k={BIN_NUM}.pickle'\r\n",
        "\r\n",
        "if os.path.exists(filename):\r\n",
        "    with open(filename, 'rb') as f:\r\n",
        "        results = pickle.load(f, encoding='bytes')\r\n",
        "else:    \r\n",
        "    ds_by_session_bin, st_lst = binning(ds_by_session, k=BIN_NUM)\r\n",
        "\r\n",
        "    for i in tqdm(range(10)):\r\n",
        "        new_idx = np.arange(0,len(ds_by_session_bin[i]), 6) #choose every 6th\r\n",
        "        new_x = np.array(ds_by_session_bin[i])[new_idx]\r\n",
        "        new_y = np.array(st_lst[i])[new_idx]\r\n",
        "        results.append([])\r\n",
        "        new_wave = []\r\n",
        "        for j in tqdm(range(3), leave=False):        \r\n",
        "            results[i].append(dcorr.test(new_x[:,:,j],new_y, reps=0))\r\n",
        "            new_wave.append(normalize(new_x[:,:,j]))\r\n",
        "        r_e = new_wave[2] - new_wave[0]\r\n",
        "        r_p = new_wave[2] - new_wave[1]\r\n",
        "        r_ep = new_wave[2] - new_wave[1] - new_wave[0]\r\n",
        "        for k in tqdm([r_e, r_p, r_ep], leave=False):        \r\n",
        "            results[i].append(dcorr.test(k,new_y, reps=0))\r\n",
        "\r\n",
        "    with open(filename, 'wb') as f:\r\n",
        "        pickle.dump(results, f)"
      ],
      "execution_count": null,
      "outputs": []
    },
    {
      "cell_type": "code",
      "metadata": {
        "colab": {
          "base_uri": "https://localhost:8080/",
          "height": 115,
          "referenced_widgets": [
            "65448885d32648288a7993cb104fc940",
            "95d176a50ce34d4397397e975c67b5e3",
            "7e5de998013b42a2a0ffd52a6c374a85",
            "25d066953c2f478daaa11e52105b8ff4",
            "3339d1c3233a491fa633bc2031a89465",
            "2ae8aca494c94c3b8f08a004a884b0e0",
            "07788418e8204b2fbea50cc952b4c1e6",
            "a0d14c446a1d44a2a0058f28b19dc66b",
            "265562f78e904d8f9a1ce19c98dda87d",
            "5abd294fa70d43f3aea89e8f1c01dcab",
            "336746161eeb414fb62389ce12eece35",
            "08f735df16d743f7ae74ad13c30bad07",
            "b919a197c912417c84e3d7f2abfc3e91",
            "5ee094e53fbf4d78b59fd3dc0009dcfd",
            "1774ac35a8244ee69e0900f4301d11ff",
            "ab98968ab9364d3bb21c954a1d7f0b3b"
          ]
        },
        "id": "fxj6czom5Cpc",
        "outputId": "fd173c91-e560-4007-817a-34da5718819f"
      },
      "source": [
        "# concatenate X and y for plotting\r\n",
        "\r\n",
        "newX, newY = [], []\r\n",
        "ds_by_session_bin, st_lst = binning(ds_by_session, k=BIN_NUM)\r\n",
        "\r\n",
        "for i in tqdm(range(10)):\r\n",
        "    \r\n",
        "    newX.append([])\r\n",
        "    newY.append([])\r\n",
        "    \r\n",
        "    new_idx = np.arange(0,len(ds_by_session_bin[i]), 6) #choose every 6th\r\n",
        "    new_x = np.array(ds_by_session_bin[i])[new_idx]\r\n",
        "    new_y = np.array(st_lst[i])[new_idx]\r\n",
        "    \r\n",
        "    newX[i] = new_x\r\n",
        "    newY[i] = new_y"
      ],
      "execution_count": null,
      "outputs": [
        {
          "output_type": "display_data",
          "data": {
            "application/vnd.jupyter.widget-view+json": {
              "model_id": "65448885d32648288a7993cb104fc940",
              "version_minor": 0,
              "version_major": 2
            },
            "text/plain": [
              "HBox(children=(FloatProgress(value=0.0, max=10.0), HTML(value='')))"
            ]
          },
          "metadata": {
            "tags": []
          }
        },
        {
          "output_type": "stream",
          "text": [
            "\n"
          ],
          "name": "stdout"
        },
        {
          "output_type": "display_data",
          "data": {
            "application/vnd.jupyter.widget-view+json": {
              "model_id": "265562f78e904d8f9a1ce19c98dda87d",
              "version_minor": 0,
              "version_major": 2
            },
            "text/plain": [
              "HBox(children=(FloatProgress(value=0.0, max=10.0), HTML(value='')))"
            ]
          },
          "metadata": {
            "tags": []
          }
        },
        {
          "output_type": "stream",
          "text": [
            "\n"
          ],
          "name": "stdout"
        }
      ]
    },
    {
      "cell_type": "code",
      "metadata": {
        "id": "oDwPTLCRaGyr"
      },
      "source": [
        "sess = 0\r\n",
        "# np.array(ds_by_session_bin[sess])[np.array(st_lst[sess]) == 0]"
      ],
      "execution_count": null,
      "outputs": []
    },
    {
      "cell_type": "code",
      "metadata": {
        "id": "oKnVnELUW05R"
      },
      "source": [
        "# ds_by_session_bin[0][2000], len(st_lst[0])\r\n",
        "# np.array(ds_by_session_bin[0])[np.array(st_lst[0]) == 0].shape\r\n",
        "# df_table = pd.DataFrame(columns=['stat(baseline)', 'p-value(baseline)', 'stat(stimulus)', 'p-value(stimulus)'])\r\n",
        "\r\n",
        "# for sess in range(10):\r\n",
        "#     np.array(ds_by_session_bin[sess])[np.array(st_lst[sess]) == 0]\r\n",
        "#     df_table.append()"
      ],
      "execution_count": 66,
      "outputs": []
    },
    {
      "cell_type": "code",
      "metadata": {
        "id": "LNoEqOyu5iXS"
      },
      "source": [
        "import seaborn as sns"
      ],
      "execution_count": null,
      "outputs": []
    },
    {
      "cell_type": "code",
      "metadata": {
        "id": "AjT8-ML7T8S5"
      },
      "source": [
        "# get rid of extremely low p-val\r\n",
        "results2 = np.array(results)\r\n",
        "\r\n",
        "for i, dat in enumerate(results2[:,:,1]):\r\n",
        "    results2[:,:,1][i][dat < 0.0001] = 0.0001"
      ],
      "execution_count": null,
      "outputs": []
    },
    {
      "cell_type": "code",
      "metadata": {
        "id": "5pVCyjAeVT7f",
        "colab": {
          "base_uri": "https://localhost:8080/",
          "height": 483
        },
        "outputId": "78365233-1d8e-4514-ea58-85a4ea401c8d"
      },
      "source": [
        "f = plt.figure(figsize=(6*3,4*2))\r\n",
        "gs = f.add_gridspec(1, 2)\r\n",
        "\r\n",
        "ax = f.add_subplot(gs[0, 0])\r\n",
        "sns.stripplot(data=pd.DataFrame(np.array(results2)[:,:3,0],columns=col[:3])) #first three columns\r\n",
        "\r\n",
        "ax = f.add_subplot(gs[0, 1])\r\n",
        "plt.yscale('log')\r\n",
        "sns.stripplot(data=pd.DataFrame(np.array(results2)[:,:3,1],columns=col[:3]))\r\n",
        "\r\n",
        "plt.savefig('new_bin_dcorr_plot.pdf', bbox_inches='tight')"
      ],
      "execution_count": null,
      "outputs": [
        {
          "output_type": "display_data",
          "data": {
            "image/png": "[encoded data removed]",
            "text/plain": [
              "<Figure size 1296x576 with 2 Axes>"
            ]
          },
          "metadata": {
            "tags": [],
            "needs_background": "light"
          }
        }
      ]
    },
    {
      "cell_type": "code",
      "metadata": {
        "id": "tCX3ERHQc8hk"
      },
      "source": [
        "# plotting seaborn pairplot\r\n",
        "if False:\r\n",
        "    col = [f'Column #{i+1}' for i in range(10)] + ['Labels']\r\n",
        "    for j, char in enumerate(tqdm(['ROI', 'EKG', 'PPG'])):\r\n",
        "        for i in tqdm(range(10),leave=False):\r\n",
        "            fname = f'pairplot_{char}_{i}.png'\r\n",
        "            if os.path.exists(fname):\r\n",
        "                pass\r\n",
        "            # if j < 2:\r\n",
        "            #     print(f'{char}_{i}_passed')\r\n",
        "            #     pass\r\n",
        "            else:\r\n",
        "                fig, ax = plt.subplots(1,1)\r\n",
        "                ax = sns.set(rc={'axes.facecolor':'cornflowerblue', 'axes.grid':'False'});#, 'figure.facecolor':'cornflowerblue'\r\n",
        "                ax = sns.pairplot(pd.DataFrame(np.column_stack([newX[i][:,:,j], newY[i]]), columns=col), hue='Labels', palette=['purple','yellow'])\r\n",
        "                plt.savefig(fname, bbox_inches='tight')\r\n",
        "                \r\n",
        "                plt.cla() # Clear the current axes\r\n",
        "                plt.clf() # Clear the current figure\r\n",
        "                plt.close('all')   \r\n",
        "                plt.close(fig)\r\n",
        "                gc.collect()"
      ],
      "execution_count": null,
      "outputs": []
    },
    {
      "cell_type": "code",
      "metadata": {
        "colab": {
          "base_uri": "https://localhost:8080/"
        },
        "id": "72PaW9R9N06h",
        "outputId": "c0649631-382b-42d6-ee79-80ce5249854f"
      },
      "source": [
        "col = [f'Column #{i+1}' for i in range(10)] + ['Labels']\r\n",
        "newX[0][:,:,0].shape"
      ],
      "execution_count": 75,
      "outputs": [
        {
          "output_type": "execute_result",
          "data": {
            "text/plain": [
              "(11395, 10)"
            ]
          },
          "metadata": {
            "tags": []
          },
          "execution_count": 75
        }
      ]
    },
    {
      "cell_type": "code",
      "metadata": {
        "colab": {
          "base_uri": "https://localhost:8080/",
          "height": 235
        },
        "id": "5HD5OJiVQOUT",
        "outputId": "38625a1c-a279-4eda-c4b3-b976d51629be"
      },
      "source": [
        "# np.array(temp).reshape(-1,1)\r\n",
        "pd.DataFrame(np.array(temp).reshape(-1,1))"
      ],
      "execution_count": 103,
      "outputs": [
        {
          "output_type": "execute_result",
          "data": {
            "text/html": [
              "<div>\n",
              "<style scoped>\n",
              "    .dataframe tbody tr th:only-of-type {\n",
              "        vertical-align: middle;\n",
              "    }\n",
              "\n",
              "    .dataframe tbody tr th {\n",
              "        vertical-align: top;\n",
              "    }\n",
              "\n",
              "    .dataframe thead th {\n",
              "        text-align: right;\n",
              "    }\n",
              "</style>\n",
              "<table border=\"1\" class=\"dataframe\">\n",
              "  <thead>\n",
              "    <tr style=\"text-align: right;\">\n",
              "      <th></th>\n",
              "      <th>0</th>\n",
              "    </tr>\n",
              "  </thead>\n",
              "  <tbody>\n",
              "    <tr>\n",
              "      <th>0</th>\n",
              "      <td>1.447342</td>\n",
              "    </tr>\n",
              "    <tr>\n",
              "      <th>1</th>\n",
              "      <td>0.250950</td>\n",
              "    </tr>\n",
              "    <tr>\n",
              "      <th>2</th>\n",
              "      <td>0.528246</td>\n",
              "    </tr>\n",
              "    <tr>\n",
              "      <th>3</th>\n",
              "      <td>0.537827</td>\n",
              "    </tr>\n",
              "    <tr>\n",
              "      <th>4</th>\n",
              "      <td>-0.524149</td>\n",
              "    </tr>\n",
              "    <tr>\n",
              "      <th>5</th>\n",
              "      <td>-0.760180</td>\n",
              "    </tr>\n",
              "  </tbody>\n",
              "</table>\n",
              "</div>"
            ],
            "text/plain": [
              "          0\n",
              "0  1.447342\n",
              "1  0.250950\n",
              "2  0.528246\n",
              "3  0.537827\n",
              "4 -0.524149\n",
              "5 -0.760180"
            ]
          },
          "metadata": {
            "tags": []
          },
          "execution_count": 103
        }
      ]
    },
    {
      "cell_type": "code",
      "metadata": {
        "id": "IoqBe4kyMFag"
      },
      "source": [
        "col_m = ['ROI(0)', 'ROI(1)','EKG(0)', 'EKG(1)','PPG(0)', 'PPG(1)']\r\n",
        "\r\n",
        "df_mean = pd.DataFrame(columns=col_m)\r\n",
        "\r\n",
        "for i in range(10):\r\n",
        "    temp = [[]]\r\n",
        "    for j in range(3):\r\n",
        "        temp_df = pd.DataFrame(np.column_stack([newX[i][:,:,j], newY[i]]), columns=col).groupby('Labels')\r\n",
        "        mu = round(temp_df.mean().mean(axis=1),2)\r\n",
        "        sig = round(temp_df.var().mean(axis=1),2)\r\n",
        "        temp[0].append(f'u={mu[0]}, s={sig[0]}')\r\n",
        "        temp[0].append(f'u={mu[1]}, s={sig[1]}')\r\n",
        "    df_mean = df_mean.append(pd.DataFrame(np.array(temp), columns=col_m, index=[f'session(trial) #{i+1}']))"
      ],
      "execution_count": 157,
      "outputs": []
    },
    {
      "cell_type": "code",
      "metadata": {
        "colab": {
          "base_uri": "https://localhost:8080/"
        },
        "id": "3EWGT7d1P8B1",
        "outputId": "6c17fbfa-f25b-48ca-a678-e03eb6097d18"
      },
      "source": [
        "round(temp_df.mean().mean(axis=1),2)\r\n",
        "(pd.DataFrame(np.column_stack([newX[i][:,:,j], newY[i]]), columns=col)['Column #1'] < 0).sum()"
      ],
      "execution_count": 156,
      "outputs": [
        {
          "output_type": "execute_result",
          "data": {
            "text/plain": [
              "5135"
            ]
          },
          "metadata": {
            "tags": []
          },
          "execution_count": 156
        }
      ]
    },
    {
      "cell_type": "code",
      "metadata": {
        "colab": {
          "base_uri": "https://localhost:8080/"
        },
        "id": "WAJjs_ElTWY8",
        "outputId": "1fae4749-4f84-4f2b-cc59-07c90c624478"
      },
      "source": [
        "newX[0][:,:,0].mean(axis=1)"
      ],
      "execution_count": 139,
      "outputs": [
        {
          "output_type": "execute_result",
          "data": {
            "text/plain": [
              "array([30.93303661, 31.18647547, 31.98779421, ..., 41.09757156,\n",
              "       40.75088234, 45.81892052])"
            ]
          },
          "metadata": {
            "tags": []
          },
          "execution_count": 139
        }
      ]
    },
    {
      "cell_type": "code",
      "metadata": {
        "colab": {
          "base_uri": "https://localhost:8080/",
          "height": 359
        },
        "id": "w2fmjf1RP1hj",
        "outputId": "fe016c57-823d-49f1-a520-1f3da1353e54"
      },
      "source": [
        "df_mean"
      ],
      "execution_count": 158,
      "outputs": [
        {
          "output_type": "execute_result",
          "data": {
            "text/html": [
              "<div>\n",
              "<style scoped>\n",
              "    .dataframe tbody tr th:only-of-type {\n",
              "        vertical-align: middle;\n",
              "    }\n",
              "\n",
              "    .dataframe tbody tr th {\n",
              "        vertical-align: top;\n",
              "    }\n",
              "\n",
              "    .dataframe thead th {\n",
              "        text-align: right;\n",
              "    }\n",
              "</style>\n",
              "<table border=\"1\" class=\"dataframe\">\n",
              "  <thead>\n",
              "    <tr style=\"text-align: right;\">\n",
              "      <th></th>\n",
              "      <th>ROI(0)</th>\n",
              "      <th>ROI(1)</th>\n",
              "      <th>EKG(0)</th>\n",
              "      <th>EKG(1)</th>\n",
              "      <th>PPG(0)</th>\n",
              "      <th>PPG(1)</th>\n",
              "    </tr>\n",
              "  </thead>\n",
              "  <tbody>\n",
              "    <tr>\n",
              "      <th>session(trial) #1</th>\n",
              "      <td>u=1.45, s=2111.42</td>\n",
              "      <td>u=0.25, s=2211.02</td>\n",
              "      <td>u=0.53, s=0.52</td>\n",
              "      <td>u=0.54, s=0.53</td>\n",
              "      <td>u=-0.52, s=2.5</td>\n",
              "      <td>u=-0.76, s=3.97</td>\n",
              "    </tr>\n",
              "    <tr>\n",
              "      <th>session(trial) #2</th>\n",
              "      <td>u=-0.17, s=2852.03</td>\n",
              "      <td>u=1.28, s=2851.39</td>\n",
              "      <td>u=0.61, s=0.63</td>\n",
              "      <td>u=0.55, s=0.58</td>\n",
              "      <td>u=-0.7, s=2.78</td>\n",
              "      <td>u=-0.29, s=1.72</td>\n",
              "    </tr>\n",
              "    <tr>\n",
              "      <th>session(trial) #3</th>\n",
              "      <td>u=1.37, s=2548.55</td>\n",
              "      <td>u=-0.48, s=3010.03</td>\n",
              "      <td>u=0.55, s=0.57</td>\n",
              "      <td>u=0.57, s=0.58</td>\n",
              "      <td>u=-0.1, s=8.79</td>\n",
              "      <td>u=-0.12, s=6.57</td>\n",
              "    </tr>\n",
              "    <tr>\n",
              "      <th>session(trial) #4</th>\n",
              "      <td>u=-0.34, s=2871.73</td>\n",
              "      <td>u=1.08, s=2918.83</td>\n",
              "      <td>u=0.59, s=0.59</td>\n",
              "      <td>u=0.57, s=0.58</td>\n",
              "      <td>u=-0.57, s=2.88</td>\n",
              "      <td>u=0.05, s=3.29</td>\n",
              "    </tr>\n",
              "    <tr>\n",
              "      <th>session(trial) #5</th>\n",
              "      <td>u=0.64, s=2799.83</td>\n",
              "      <td>u=0.46, s=2755.2</td>\n",
              "      <td>u=0.53, s=0.52</td>\n",
              "      <td>u=0.57, s=0.59</td>\n",
              "      <td>u=-0.19, s=2.49</td>\n",
              "      <td>u=-0.68, s=2.48</td>\n",
              "    </tr>\n",
              "    <tr>\n",
              "      <th>session(trial) #6</th>\n",
              "      <td>u=0.79, s=2831.58</td>\n",
              "      <td>u=0.56, s=2445.52</td>\n",
              "      <td>u=0.54, s=0.54</td>\n",
              "      <td>u=0.56, s=0.57</td>\n",
              "      <td>u=-0.29, s=2.3</td>\n",
              "      <td>u=-0.25, s=2.25</td>\n",
              "    </tr>\n",
              "    <tr>\n",
              "      <th>session(trial) #7</th>\n",
              "      <td>u=1.63, s=2738.94</td>\n",
              "      <td>u=-0.77, s=2735.34</td>\n",
              "      <td>u=0.55, s=0.56</td>\n",
              "      <td>u=0.58, s=0.59</td>\n",
              "      <td>u=-0.2, s=3.12</td>\n",
              "      <td>u=0.02, s=2.58</td>\n",
              "    </tr>\n",
              "    <tr>\n",
              "      <th>session(trial) #8</th>\n",
              "      <td>u=-1.09, s=3011.97</td>\n",
              "      <td>u=1.31, s=3021.07</td>\n",
              "      <td>u=0.57, s=0.6</td>\n",
              "      <td>u=0.57, s=0.58</td>\n",
              "      <td>u=-0.29, s=1.78</td>\n",
              "      <td>u=-0.55, s=1.93</td>\n",
              "    </tr>\n",
              "    <tr>\n",
              "      <th>session(trial) #9</th>\n",
              "      <td>u=0.05, s=2699.7</td>\n",
              "      <td>u=0.24, s=2384.12</td>\n",
              "      <td>u=0.54, s=0.53</td>\n",
              "      <td>u=0.53, s=0.55</td>\n",
              "      <td>u=-0.33, s=2.19</td>\n",
              "      <td>u=-0.07, s=1.98</td>\n",
              "    </tr>\n",
              "    <tr>\n",
              "      <th>session(trial) #10</th>\n",
              "      <td>u=2.8, s=2672.12</td>\n",
              "      <td>u=-1.93, s=2864.38</td>\n",
              "      <td>u=0.55, s=0.57</td>\n",
              "      <td>u=0.59, s=0.58</td>\n",
              "      <td>u=-0.33, s=1.01</td>\n",
              "      <td>u=-0.21, s=1.38</td>\n",
              "    </tr>\n",
              "  </tbody>\n",
              "</table>\n",
              "</div>"
            ],
            "text/plain": [
              "                                ROI(0)  ...           PPG(1)\n",
              "session(trial) #1    u=1.45, s=2111.42  ...  u=-0.76, s=3.97\n",
              "session(trial) #2   u=-0.17, s=2852.03  ...  u=-0.29, s=1.72\n",
              "session(trial) #3    u=1.37, s=2548.55  ...  u=-0.12, s=6.57\n",
              "session(trial) #4   u=-0.34, s=2871.73  ...   u=0.05, s=3.29\n",
              "session(trial) #5    u=0.64, s=2799.83  ...  u=-0.68, s=2.48\n",
              "session(trial) #6    u=0.79, s=2831.58  ...  u=-0.25, s=2.25\n",
              "session(trial) #7    u=1.63, s=2738.94  ...   u=0.02, s=2.58\n",
              "session(trial) #8   u=-1.09, s=3011.97  ...  u=-0.55, s=1.93\n",
              "session(trial) #9     u=0.05, s=2699.7  ...  u=-0.07, s=1.98\n",
              "session(trial) #10    u=2.8, s=2672.12  ...  u=-0.21, s=1.38\n",
              "\n",
              "[10 rows x 6 columns]"
            ]
          },
          "metadata": {
            "tags": []
          },
          "execution_count": 158
        }
      ]
    },
    {
      "cell_type": "code",
      "metadata": {
        "id": "rNB0s16tehFv",
        "colab": {
          "base_uri": "https://localhost:8080/",
          "height": 320
        },
        "outputId": "aa42dbb4-7e98-4755-d74e-41ac5a933300"
      },
      "source": [
        "fig, (ax1, ax2) = plt.subplots(1,2,figsize=(10,5))\r\n",
        "ax1.bar(x=col, height=np.array(results[1])[:,0])\r\n",
        "ax2.bar(x=col, height=np.array(results[1])[:,1])\r\n",
        "plt.savefig('new_plot.pdf', bbox_inches='tight')"
      ],
      "execution_count": 65,
      "outputs": [
        {
          "output_type": "display_data",
          "data": {
            "image/png": "[encoded data removed]",
            "text/plain": [
              "<Figure size 720x360 with 2 Axes>"
            ]
          },
          "metadata": {
            "tags": [],
            "needs_background": "light"
          }
        }
      ]
    },
    {
      "cell_type": "code",
      "metadata": {
        "id": "FHADi8QwTflM"
      },
      "source": [
        "stop"
      ],
      "execution_count": null,
      "outputs": []
    },
    {
      "cell_type": "markdown",
      "metadata": {
        "id": "0UAlcMHb_fmL"
      },
      "source": [
        "## Pairwise distance heatmap plotting"
      ]
    },
    {
      "cell_type": "code",
      "metadata": {
        "id": "UNMccF7aRHCY"
      },
      "source": [
        "from sklearn.metrics import pairwise_distances"
      ],
      "execution_count": null,
      "outputs": []
    },
    {
      "cell_type": "code",
      "metadata": {
        "id": "7D_Lg6vKT4jF"
      },
      "source": [
        "x = np.array(ds_by_session_bin[1])[:,:,1]"
      ],
      "execution_count": null,
      "outputs": []
    },
    {
      "cell_type": "code",
      "metadata": {
        "id": "5spr-sm4Rrc0"
      },
      "source": [
        "metric = 'euclidean'"
      ],
      "execution_count": null,
      "outputs": []
    },
    {
      "cell_type": "code",
      "metadata": {
        "id": "VLCwvMAhW0HK"
      },
      "source": [
        "idx_lst = np.cumsum([0] + [round(x.shape[0]/6) for i in range(6)])\r\n",
        "idx_lst, x.shape[0]"
      ],
      "execution_count": null,
      "outputs": []
    },
    {
      "cell_type": "code",
      "metadata": {
        "id": "-118EseVJokP"
      },
      "source": [
        "import gc"
      ],
      "execution_count": null,
      "outputs": []
    },
    {
      "cell_type": "code",
      "metadata": {
        "id": "hlRz3ojjSY4c"
      },
      "source": [
        "# distx.shape\r\n",
        "# fig, ax = plt.subplots(5,2, figsize=(40,20))\r\n",
        "\r\n",
        "n = idx_lst.shape[0]\r\n",
        "sess_num = 1\r\n",
        "\r\n",
        "dtype = ['ROI', 'EKG', 'PPG']\r\n",
        "\r\n",
        "plt.style.use('ggplot')\r\n",
        "sns.set(rc={'axes.grid':'False'});\r\n",
        "\r\n",
        "for iii, dt in enumerate(tqdm(dtype)):\r\n",
        "\r\n",
        "    x = np.array(ds_by_session_bin[sess_num])[:,:,iii]\r\n",
        "\r\n",
        "    for ii, i in enumerate(tqdm(range(n-1), leave=False)):\r\n",
        "\r\n",
        "        # if ii < 4:\r\n",
        "        fig, (ax1,ax2) = plt.subplots(1,2, figsize=(20,10))\r\n",
        "        i_0 = idx_lst[i]\r\n",
        "        i_1 = idx_lst[i+1]\r\n",
        "        # fig.add_subplot(5,2,ii+1)\r\n",
        "        distx = pairwise_distances(x[i_0:i_1], metric=metric)\r\n",
        "        mlp = ax1.imshow(distx)\r\n",
        "        fig.colorbar(mlp, ax=ax1)\r\n",
        "        del distx\r\n",
        "\r\n",
        "        y = np.array(st_lst[sess_num])[i_0:i_1]\r\n",
        "        ax2.plot(np.arange(0,y.shape[0]), y)\r\n",
        "        filename = 'heatmap_{}_{}'.format(dt, ii)\r\n",
        "        plt.savefig(filename, bbox_inches='tight')\r\n",
        "        \r\n",
        "        plt.cla() # Clear the current axes\r\n",
        "        plt.clf() # Clear the current figure\r\n",
        "        plt.close('all')   \r\n",
        "        plt.close(fig)\r\n",
        "        gc.collect()"
      ],
      "execution_count": null,
      "outputs": []
    },
    {
      "cell_type": "code",
      "metadata": {
        "id": "Pwp-H_IfBeHb"
      },
      "source": [
        "i = 2\r\n",
        "y = np.array(st_lst[0])#[idx_lst[i]:idx_lst[i+1]]\r\n",
        "plt.plot(np.arange(0,y.shape[0]), y)"
      ],
      "execution_count": null,
      "outputs": []
    },
    {
      "cell_type": "code",
      "metadata": {
        "id": "QsooXMYfM7Dx"
      },
      "source": [
        "# ds_by_session_bin[0]\r\n",
        "np.array(ds_by_session_bin[0])[:,:,0].shape\r\n",
        "# np.array(st_lst[0])\r\n",
        "x = np.array(ds_by_session_bin[0])[:,:,0]\r\n",
        "# np.sqrt(x[0]**2 + x[0]**2)\r\n",
        "# np.sum(np.sqrt(x[0]**2 - x[0]**2))\r\n",
        "# for i in range()\r\n",
        "# new_matrix = [[] for i in range(x.shape[0])]\r\n",
        "\r\n",
        "# for i, x_i in enumerate(tqdm(x)):\r\n",
        "#     for x_j in tqdm(x):\r\n",
        "#         new_matrix[i].append(np.sum(np.sqrt(x_i**2 - x_j**2)))"
      ],
      "execution_count": null,
      "outputs": []
    },
    {
      "cell_type": "code",
      "metadata": {
        "id": "zVDGXEJRKhma"
      },
      "source": [
        "# fig, ax = plt.subplots(1,1, figsize=(150,20))\r\n",
        "fig, ax = plt.subplots(1,1, figsize=(5,5))\r\n",
        "x = np.array(ds_by_session_bin[4])[:,:,0]\r\n",
        "y = np.array(st_lst[4])[:]\r\n",
        "plt.plot(np.arange(0,y.shape[0]), y)\r\n",
        "# ax.imshow(x[np.argwhere(y[y == 1]).T.squeeze()][:50])"
      ],
      "execution_count": null,
      "outputs": []
    },
    {
      "cell_type": "markdown",
      "metadata": {
        "id": "HtaXawmpGDSV"
      },
      "source": [
        "##############################"
      ]
    },
    {
      "cell_type": "code",
      "metadata": {
        "id": "PS8I0IufGuhv"
      },
      "source": [
        "stop here"
      ],
      "execution_count": null,
      "outputs": []
    },
    {
      "cell_type": "code",
      "metadata": {
        "id": "tlK0pIdeXJ2B"
      },
      "source": [
        "#size after binning\r\n",
        "len(ds_by_session_bin[0]), len(st_lst[0])"
      ],
      "execution_count": null,
      "outputs": []
    },
    {
      "cell_type": "code",
      "metadata": {
        "id": "GCC4YUlnUjGE"
      },
      "source": [
        "filename = 'df_stat_ind_crossover_k={}.pickle'.format(BIN_NUM)\r\n",
        "\r\n",
        "if os.path.exists(filename):\r\n",
        "    with open(filename, 'rb') as f:\r\n",
        "        df_stat = pickle.load(f, encoding='bytes')\r\n",
        "else:\r\n",
        "    # ds_by_session_bin, st_lst = binning(ds_by_session, k=BIN_NUM)\r\n",
        "\r\n",
        "    # makes separate lists of baseline (0) and stimulus (1)\r\n",
        "    ds_two_sample_bin = [[] for i in range(10)]\r\n",
        "\r\n",
        "    for ii, dat in enumerate(tqdm(ds_by_session_bin, desc=\"binarize\")):\r\n",
        "        temp_idx = check_discontinuity(st_lst[ii])\r\n",
        "        ds_two_sample_bin[ii].append([]) \r\n",
        "        ds_two_sample_bin[ii].append([])\r\n",
        "        try:\r\n",
        "            for i in range(6):                   \r\n",
        "                ds_two_sample_bin[ii][0].append(np.array(dat)[temp_idx[0][i+1]]) #skips the first baseline segment\r\n",
        "                ds_two_sample_bin[ii][1].append(np.array(dat)[temp_idx[1][i]])\r\n",
        "        except:\r\n",
        "            print('Index out of bound: there are more than 6 stimulations')\r\n",
        "\r\n",
        "    # resampling to average baseline length\r\n",
        "    ds_two_sample_bin_resampled = ds_two_sample_bin.copy()\r\n",
        "\r\n",
        "    for ii, dat in enumerate(tqdm(ds_two_sample_bin_resampled, desc=\"resampling\")):\r\n",
        "        avg = 0\r\n",
        "        for i in range(6):\r\n",
        "            avg += dat[0][i].shape[0] #assumes baseline to be longer\r\n",
        "        avg = avg // 6\r\n",
        "\r\n",
        "        for i in range(6):\r\n",
        "            ds_two_sample_bin_resampled[ii][0][i] = signal.resample(dat[0][i], avg)\r\n",
        "            ds_two_sample_bin_resampled[ii][1][i] = signal.resample(dat[1][i], avg)\r\n",
        "\r\n",
        "    col = ['Dataset', 'Session', 'Baseline', 'Stimulus']\r\n",
        "    for i in ['Hologram-ROI', 'EKG', 'PPG']:\r\n",
        "        for j in ['Dcorr']:\r\n",
        "            col.append(i+'('+j+')')\r\n",
        "    dat_name = '10_27'\r\n",
        "    df_stat = pd.DataFrame(columns=col)\r\n",
        "    data = ds_two_sample_bin_resampled.copy()\r\n",
        "\r\n",
        "    for i in tqdm(range(len(data)), desc=\"fast dcorr\"): #num of session\r\n",
        "        for j in tqdm(range(len(data[0][0])), leave=False): #num of baseline events\r\n",
        "            for stim in tqdm(range(len(data[0][0])), leave=False): #num of stimulus events\r\n",
        "                temp_row = [[dat_name, i, j, stim]]\r\n",
        "                for k in tqdm(range(len(data[0][0][0][0][0])), leave=False): #timeframe\r\n",
        "                    stat, pval = dcorr.test(data[i][0][j][:,:,k], data[i][1][stim][:,:,k], reps=0)\r\n",
        "                    # stat, pval = 1,1\r\n",
        "                    temp_row[0].append((stat, pval))\r\n",
        "                df_stat = df_stat.append(pd.DataFrame(temp_row, columns=col), ignore_index=True)\r\n",
        "\r\n",
        "    with open(filename, 'wb') as f:\r\n",
        "        pickle.dump(df_stat,f)"
      ],
      "execution_count": null,
      "outputs": []
    },
    {
      "cell_type": "code",
      "metadata": {
        "id": "RBcJnSWiVgJd"
      },
      "source": [
        "df_stat.head()"
      ],
      "execution_count": null,
      "outputs": []
    },
    {
      "cell_type": "code",
      "metadata": {
        "id": "SFnUcSh5Q5D4"
      },
      "source": [
        "#checking to make sure the samples are reshaped\r\n",
        "# ds_two_sample_bin_all_resampled[0][0].shape, ds_two_sample_bin_all_resampled[0][1].shape "
      ],
      "execution_count": null,
      "outputs": []
    },
    {
      "cell_type": "code",
      "metadata": {
        "id": "DBzhY4QCRSeY"
      },
      "source": [
        "filename = 'df_stat_ind_all_k={}.pickle'.format(BIN_NUM)\r\n",
        "\r\n",
        "if os.path.exists(filename):\r\n",
        "    with open(filename, 'rb') as f:\r\n",
        "        df_stat = pickle.load(f, encoding='bytes')\r\n",
        "else:\r\n",
        "    # makes separate lists of baseline (0) and stimulus (1)\r\n",
        "    ds_two_sample_bin_all = [[] for i in range(10)]\r\n",
        "\r\n",
        "    for ii, dat in enumerate(tqdm(ds_by_session_bin, desc=\"binarize\")):\r\n",
        "        temp_idx = check_discontinuity(st_lst[ii])\r\n",
        "        ds_two_sample_bin_all[ii].append([]) \r\n",
        "        ds_two_sample_bin_all[ii].append([]) \r\n",
        "        \r\n",
        "        try:\r\n",
        "            for i in range(6):                   \r\n",
        "                ds_two_sample_bin_all[ii][0] += np.array(dat)[temp_idx[0][i+1]].tolist() #skips the first baseline segment\r\n",
        "                ds_two_sample_bin_all[ii][1] += np.array(dat)[temp_idx[1][i]].tolist()\r\n",
        "        except:\r\n",
        "            print('Index out of bound: there are more than 6 stimulations')\r\n",
        "\r\n",
        "    # resampling to average baseline length\r\n",
        "    ds_two_sample_bin_all_resampled = ds_two_sample_bin_all.copy()\r\n",
        "\r\n",
        "    for ii, dat in enumerate(tqdm(ds_two_sample_bin_all_resampled, desc=\"resampling\")):\r\n",
        "        avg = len(dat[1])\r\n",
        "        ds_two_sample_bin_all_resampled[ii][0] = signal.resample(dat[0], avg)#signal.resample(dat[0][i], avg)\r\n",
        "        ds_two_sample_bin_all_resampled[ii][1] = np.array(dat[1])\r\n",
        "\r\n",
        "    col = ['Dataset', 'Session']\r\n",
        "    for i in ['Hologram-ROI', 'EKG', 'PPG']:\r\n",
        "        for j in ['Dcorr']:\r\n",
        "            col.append(i+'('+j+')')\r\n",
        "    dat_name = '10_27'\r\n",
        "    df_stat = pd.DataFrame(columns=col)\r\n",
        "    data = ds_two_sample_bin_all_resampled.copy()\r\n",
        "\r\n",
        "    for i in tqdm(range(len(data)), desc=\"fast dcorr\"): #num of session\r\n",
        "        temp_row = [[dat_name, i]]\r\n",
        "        for k in tqdm(range(len(data[0][0][0][0])), leave=False): #timeframe\r\n",
        "            stat, pval = dcorr.test(data[i][0][:,:,k], data[i][1][:,:,k], reps=0)\r\n",
        "            temp_row[0].append((stat, pval))\r\n",
        "        df_stat = df_stat.append(pd.DataFrame(temp_row, columns=col), ignore_index=True)\r\n",
        "\r\n",
        "    with open(filename, 'wb') as f:\r\n",
        "        pickle.dump(df_stat,f)"
      ],
      "execution_count": null,
      "outputs": []
    },
    {
      "cell_type": "code",
      "metadata": {
        "id": "gYp9gjUyXBhW"
      },
      "source": [
        "df_stat.head()"
      ],
      "execution_count": null,
      "outputs": []
    },
    {
      "cell_type": "code",
      "metadata": {
        "id": "OQOMw1qETAdh"
      },
      "source": [
        "stop here"
      ],
      "execution_count": null,
      "outputs": []
    },
    {
      "cell_type": "markdown",
      "metadata": {
        "id": "7bclOgMRYzBW"
      },
      "source": [
        "## Note below"
      ]
    },
    {
      "cell_type": "code",
      "metadata": {
        "id": "H_tQHMIAedsQ"
      },
      "source": [
        "# abnormality in time variable (resolved by Dexter)\r\n",
        "# fig, (ax1) = plt.subplots(1,1, figsize=(10,5))\r\n",
        "\r\n",
        "# ax1.plot(ds1[6])\r\n",
        "# # ax1.plot(ds1[1])\r\n",
        "# # ax1.plot(ds1[1])\r\n",
        "# # ax2.plot(ds1[1][113100:113200])\r\n",
        "# # ax3.plot(ds1[1][4450:4500])\r\n",
        "# ax1.set_ylabel('Time stamp')\r\n",
        "\r\n",
        "# fig.savefig('time.png', bbox_inches='tight')"
      ],
      "execution_count": null,
      "outputs": []
    },
    {
      "cell_type": "code",
      "metadata": {
        "id": "GKWU-fVAcM4S"
      },
      "source": [
        "# mgc.test(ds_two_sample_resampled_prereg[0][0][0][:,1], ds_two_sample_resampled_prereg[0][1][0][:,1], reps=0)"
      ],
      "execution_count": null,
      "outputs": []
    },
    {
      "cell_type": "code",
      "metadata": {
        "id": "7hf0_r_6cX5Y"
      },
      "source": [
        "%time dcorr.test(ds_two_sample_resampled_prereg[0][0][0][:,1], ds_two_sample_resampled_prereg[0][1][0][:,1], reps=0)"
      ],
      "execution_count": null,
      "outputs": []
    },
    {
      "cell_type": "code",
      "metadata": {
        "id": "LMrnpEKLKhQB"
      },
      "source": [
        "%time kmerf.test(ds_two_sample_resampled_prereg[0][0][0][:,1], ds_two_sample_resampled_prereg[0][1][0][:,1], reps=0)"
      ],
      "execution_count": null,
      "outputs": []
    },
    {
      "cell_type": "code",
      "metadata": {
        "id": "jjaVAvj3jJ0T"
      },
      "source": [
        "%time kmerf.test(ds_two_sample_resampled_prereg[0][0][0][:,1], ds_two_sample_resampled_prereg[0][1][0][:,1], workers=10, reps=0)"
      ],
      "execution_count": null,
      "outputs": []
    },
    {
      "cell_type": "code",
      "metadata": {
        "id": "cTmYuzGXDT5G"
      },
      "source": [
        "col = ['Dataset', 'Session', 'Stimulus']# ,'Hologram-ROI', 'EKG', 'PPG']\r\n",
        "for i in ['Hologram-ROI', 'EKG', 'PPG']:\r\n",
        "    for j in ['Dcorr', 'KMERF']:\r\n",
        "        col.append(i+'('+j+')')\r\n",
        "dat_name = '10_27'\r\n",
        "df_stat = pd.DataFrame(columns=col)\r\n",
        "for i in tqdm(range(len(ds_two_sample_resampled))):\r\n",
        "    for j in range(len(ds_two_sample_resampled[0][0])):\r\n",
        "        temp_row = [[dat_name, i , j]]\r\n",
        "        # df_stat['Dataset'] = dat_name\r\n",
        "        # df_stat['Session'] = i\r\n",
        "        # df_stat['Stimulus'] = j\r\n",
        "        for k in range(len(ds_two_sample_resampled[0][0][0][0])):\r\n",
        "            stat, pval = dcorr.test(ds_two_sample_resampled_prereg[i][0][j][:,k], ds_two_sample_resampled_prereg[i][1][j][:,k], reps=0)\r\n",
        "            temp_row[0].append((round(stat,5), round(pval,5)))\r\n",
        "            stat, pval = kmerf.test(ds_two_sample_resampled_prereg[i][0][j][:,k], ds_two_sample_resampled_prereg[i][1][j][:,k], reps=0)\r\n",
        "            # df_stat[col[k+3]] = (round(stat,2), round(pval,2))\r\n",
        "            temp_row[0].append((round(stat,5), round(pval,5)))\r\n",
        "        df_stat = df_stat.append(pd.DataFrame(temp_row, columns=col), ignore_index=True)\r\n",
        "    break"
      ],
      "execution_count": null,
      "outputs": []
    },
    {
      "cell_type": "code",
      "metadata": {
        "id": "htrRq9JWQAoP"
      },
      "source": [
        "df_stat"
      ],
      "execution_count": null,
      "outputs": []
    },
    {
      "cell_type": "code",
      "metadata": {
        "id": "Uc2g0JWrYdGh"
      },
      "source": [
        "# # makes separate lists of baseline (0) and stimulus (1)\r\n",
        "# ds_two_sample_bin = [[] for i in range(10)]\r\n",
        "\r\n",
        "# for ii, dat in enumerate(tqdm(ds_by_session_bin)):\r\n",
        "#     temp_idx = check_discontinuity(st_lst[ii])\r\n",
        "#     ds_two_sample_bin[ii].append([]) \r\n",
        "#     ds_two_sample_bin[ii].append([])\r\n",
        "#     try:\r\n",
        "#         for i in range(6):                   \r\n",
        "#             ds_two_sample_bin[ii][0].append(np.array(dat)[temp_idx[0][i+1]]) #skips the first baseline segment\r\n",
        "#             ds_two_sample_bin[ii][1].append(np.array(dat)[temp_idx[1][i]])\r\n",
        "#     except:\r\n",
        "#         print('Index out of bound: there are more than 6 stimulations')"
      ],
      "execution_count": null,
      "outputs": []
    },
    {
      "cell_type": "code",
      "metadata": {
        "id": "S_RT6C85YdGu"
      },
      "source": [
        "# ds_two_sample_bin[0][0][0].shape #1st session, baseline, 1 of 6"
      ],
      "execution_count": null,
      "outputs": []
    },
    {
      "cell_type": "code",
      "metadata": {
        "id": "BkbsTzRoYdGu"
      },
      "source": [
        "# # resampling to average baseline length\r\n",
        "# ds_two_sample_bin_resampled = ds_two_sample_bin.copy()\r\n",
        "\r\n",
        "# for ii, dat in enumerate(tqdm(ds_two_sample_bin_resampled)):\r\n",
        "#     avg = 0\r\n",
        "#     for i in range(6):\r\n",
        "#         avg += dat[0][i].shape[0] #assumes baseline to be longer\r\n",
        "#     avg = avg // 6\r\n",
        "\r\n",
        "#     for i in range(6):\r\n",
        "#         ds_two_sample_bin_resampled[ii][0][i] = signal.resample(dat[0][i], avg)\r\n",
        "#         ds_two_sample_bin_resampled[ii][1][i] = signal.resample(dat[1][i], avg)"
      ],
      "execution_count": null,
      "outputs": []
    },
    {
      "cell_type": "code",
      "metadata": {
        "id": "LbU3sj-sYdGv"
      },
      "source": [
        "# resampling check\r\n",
        "# ds_two_sample_bin_resampled[0][0][0].shape, ds_two_sample_bin_resampled[0][0][1].shape #1st session, baseline, 1 of 6"
      ],
      "execution_count": null,
      "outputs": []
    },
    {
      "cell_type": "code",
      "metadata": {
        "id": "SipkmwNzYdGv"
      },
      "source": [
        "# %time dcorr.test(ds_two_sample_bin_resampled[0][0][0][:,:,0], ds_two_sample_bin_resampled[0][1][0][:,:,0], reps=0)"
      ],
      "execution_count": null,
      "outputs": []
    },
    {
      "cell_type": "code",
      "metadata": {
        "id": "Ar__9Av6YdGv"
      },
      "source": [
        "# filename = 'df_stat_ind.pickle'\r\n",
        "\r\n",
        "# if os.path.exists(filename):\r\n",
        "#     with open(filename, 'rb') as f:\r\n",
        "#         df_stat = pickle.load(f, encoding='bytes')\r\n",
        "# else:\r\n",
        "#     col = ['Dataset', 'Session', 'Stimulus']# ,'Hologram-ROI', 'EKG', 'PPG']\r\n",
        "#     for i in ['Hologram-ROI', 'EKG', 'PPG']:\r\n",
        "#         for j in ['Dcorr']:\r\n",
        "#             col.append(i+'('+j+')')\r\n",
        "#     dat_name = '10_27'\r\n",
        "#     df_stat = pd.DataFrame(columns=col)\r\n",
        "#     data = ds_two_sample_bin_resampled.copy()\r\n",
        "\r\n",
        "#     for i in tqdm(range(len(data))): #num of session\r\n",
        "#         for j in tqdm(range(len(data[0][0])), leave=False): #num of stimulus events\r\n",
        "#             temp_row = [[dat_name, i, j]]\r\n",
        "#             for k in tqdm(range(len(data[0][0][0][0][0])), leave=False): #timeframe\r\n",
        "#                 stat, pval = dcorr.test(data[i][0][j][:,:,k], data[i][1][j][:,:,k], reps=0)\r\n",
        "#                 temp_row[0].append((stat, pval))\r\n",
        "#             df_stat = df_stat.append(pd.DataFrame(temp_row, columns=col), ignore_index=True)\r\n",
        "\r\n",
        "#     with open(filename, 'wb') as f:\r\n",
        "#         pickle.dump(df_stat,f)"
      ],
      "execution_count": null,
      "outputs": []
    },
    {
      "cell_type": "code",
      "metadata": {
        "id": "NnDSY44JYdGv"
      },
      "source": [
        "# df_stat.head()"
      ],
      "execution_count": null,
      "outputs": []
    },
    {
      "cell_type": "code",
      "metadata": {
        "id": "EutvKOEpYdGw"
      },
      "source": [
        "# filename = 'df_stat_ind_crossover_k={}.pickle'.format(BIN_NUM)\r\n",
        "\r\n",
        "# if os.path.exists(filename):\r\n",
        "#     with open(filename, 'rb') as f:\r\n",
        "#         df_stat = pickle.load(f, encoding='bytes')\r\n",
        "# else:\r\n",
        "#     col = ['Dataset', 'Session', 'Baseline', 'Stimulus']# ,'Hologram-ROI', 'EKG', 'PPG']\r\n",
        "#     for i in ['Hologram-ROI', 'EKG', 'PPG']:\r\n",
        "#         for j in ['Dcorr']:\r\n",
        "#             col.append(i+'('+j+')')\r\n",
        "#     dat_name = '10_27'\r\n",
        "#     df_stat = pd.DataFrame(columns=col)\r\n",
        "#     data = ds_two_sample_bin_resampled.copy()\r\n",
        "\r\n",
        "#     for i in tqdm(range(len(data))): #num of session\r\n",
        "#         for j in tqdm(range(len(data[0][0])), leave=False): #num of baseline events\r\n",
        "#             for stim in tqdm(range(len(data[0][0])), leave=False): #num of stimulus events\r\n",
        "#                 temp_row = [[dat_name, i, j, stim]]\r\n",
        "#                 for k in tqdm(range(len(data[0][0][0][0][0])), leave=False): #timeframe\r\n",
        "#                     stat, pval = dcorr.test(data[i][0][j][:,:,k], data[i][1][stim][:,:,k], reps=0)\r\n",
        "#                     # stat, pval = 1,1\r\n",
        "#                     temp_row[0].append((stat, pval))\r\n",
        "#                 df_stat = df_stat.append(pd.DataFrame(temp_row, columns=col), ignore_index=True)\r\n",
        "\r\n",
        "#     with open(filename, 'wb') as f:\r\n",
        "#         pickle.dump(df_stat,f)"
      ],
      "execution_count": null,
      "outputs": []
    },
    {
      "cell_type": "code",
      "metadata": {
        "id": "fUbf41S5YdGw"
      },
      "source": [
        "# df_stat.head()"
      ],
      "execution_count": null,
      "outputs": []
    }
  ]
}