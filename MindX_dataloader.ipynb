{
  "nbformat": 4,
  "nbformat_minor": 0,
  "metadata": {
    "colab": {
      "name": "MindX_dataloader.ipynb",
      "provenance": [],
      "collapsed_sections": [
        "xCU_tQkbwyyB",
        "7bclOgMRYzBW",
        "AK_06LrlXXK8",
        "saShy3apX971"
      ],
      "toc_visible": true,
      "authorship_tag": "ABX9TyMX1vBeC+xxnkmNI8ZqgcmC",
      "include_colab_link": true
    },
    "kernelspec": {
      "name": "python3",
      "display_name": "Python 3"
    },
    "widgets": {
      "application/vnd.jupyter.widget-state+json": {
        "fd53fb27e31d485aa04cf8e978de2534": {
          "model_module": "@jupyter-widgets/controls",
          "model_name": "HBoxModel",
          "state": {
            "_view_name": "HBoxView",
            "_dom_classes": [],
            "_model_name": "HBoxModel",
            "_view_module": "@jupyter-widgets/controls",
            "_model_module_version": "1.5.0",
            "_view_count": null,
            "_view_module_version": "1.5.0",
            "box_style": "",
            "layout": "IPY_MODEL_344d4892d33c4d7ba4f0b2f30d4f7b02",
            "_model_module": "@jupyter-widgets/controls",
            "children": [
              "IPY_MODEL_68d8619d3c7e4a699c02c4564813e363",
              "IPY_MODEL_73e5be27af524e4b866856c9733144b9"
            ]
          }
        },
        "344d4892d33c4d7ba4f0b2f30d4f7b02": {
          "model_module": "@jupyter-widgets/base",
          "model_name": "LayoutModel",
          "state": {
            "_view_name": "LayoutView",
            "grid_template_rows": null,
            "right": null,
            "justify_content": null,
            "_view_module": "@jupyter-widgets/base",
            "overflow": null,
            "_model_module_version": "1.2.0",
            "_view_count": null,
            "flex_flow": null,
            "width": null,
            "min_width": null,
            "border": null,
            "align_items": null,
            "bottom": null,
            "_model_module": "@jupyter-widgets/base",
            "top": null,
            "grid_column": null,
            "overflow_y": null,
            "overflow_x": null,
            "grid_auto_flow": null,
            "grid_area": null,
            "grid_template_columns": null,
            "flex": null,
            "_model_name": "LayoutModel",
            "justify_items": null,
            "grid_row": null,
            "max_height": null,
            "align_content": null,
            "visibility": null,
            "align_self": null,
            "height": null,
            "min_height": null,
            "padding": null,
            "grid_auto_rows": null,
            "grid_gap": null,
            "max_width": null,
            "order": null,
            "_view_module_version": "1.2.0",
            "grid_template_areas": null,
            "object_position": null,
            "object_fit": null,
            "grid_auto_columns": null,
            "margin": null,
            "display": null,
            "left": null
          }
        },
        "68d8619d3c7e4a699c02c4564813e363": {
          "model_module": "@jupyter-widgets/controls",
          "model_name": "FloatProgressModel",
          "state": {
            "_view_name": "ProgressView",
            "style": "IPY_MODEL_1e4b3f235e1e4921b7dbfc0dff9f4df3",
            "_dom_classes": [],
            "description": "",
            "_model_name": "FloatProgressModel",
            "bar_style": "info",
            "max": 1,
            "_view_module": "@jupyter-widgets/controls",
            "_model_module_version": "1.5.0",
            "value": 1,
            "_view_count": null,
            "_view_module_version": "1.5.0",
            "orientation": "horizontal",
            "min": 0,
            "description_tooltip": null,
            "_model_module": "@jupyter-widgets/controls",
            "layout": "IPY_MODEL_cd57743bbe2245f7ab02458cc80a6c52"
          }
        },
        "73e5be27af524e4b866856c9733144b9": {
          "model_module": "@jupyter-widgets/controls",
          "model_name": "HTMLModel",
          "state": {
            "_view_name": "HTMLView",
            "style": "IPY_MODEL_83a0ebd3065c40db828262349c7243d3",
            "_dom_classes": [],
            "description": "",
            "_model_name": "HTMLModel",
            "placeholder": "​",
            "_view_module": "@jupyter-widgets/controls",
            "_model_module_version": "1.5.0",
            "value": " 280960/? [21:22&lt;00:00, 211.20it/s]",
            "_view_count": null,
            "_view_module_version": "1.5.0",
            "description_tooltip": null,
            "_model_module": "@jupyter-widgets/controls",
            "layout": "IPY_MODEL_88947b43a4704c14a727b3c3a67f07ce"
          }
        },
        "1e4b3f235e1e4921b7dbfc0dff9f4df3": {
          "model_module": "@jupyter-widgets/controls",
          "model_name": "ProgressStyleModel",
          "state": {
            "_view_name": "StyleView",
            "_model_name": "ProgressStyleModel",
            "description_width": "initial",
            "_view_module": "@jupyter-widgets/base",
            "_model_module_version": "1.5.0",
            "_view_count": null,
            "_view_module_version": "1.2.0",
            "bar_color": null,
            "_model_module": "@jupyter-widgets/controls"
          }
        },
        "cd57743bbe2245f7ab02458cc80a6c52": {
          "model_module": "@jupyter-widgets/base",
          "model_name": "LayoutModel",
          "state": {
            "_view_name": "LayoutView",
            "grid_template_rows": null,
            "right": null,
            "justify_content": null,
            "_view_module": "@jupyter-widgets/base",
            "overflow": null,
            "_model_module_version": "1.2.0",
            "_view_count": null,
            "flex_flow": null,
            "width": null,
            "min_width": null,
            "border": null,
            "align_items": null,
            "bottom": null,
            "_model_module": "@jupyter-widgets/base",
            "top": null,
            "grid_column": null,
            "overflow_y": null,
            "overflow_x": null,
            "grid_auto_flow": null,
            "grid_area": null,
            "grid_template_columns": null,
            "flex": null,
            "_model_name": "LayoutModel",
            "justify_items": null,
            "grid_row": null,
            "max_height": null,
            "align_content": null,
            "visibility": null,
            "align_self": null,
            "height": null,
            "min_height": null,
            "padding": null,
            "grid_auto_rows": null,
            "grid_gap": null,
            "max_width": null,
            "order": null,
            "_view_module_version": "1.2.0",
            "grid_template_areas": null,
            "object_position": null,
            "object_fit": null,
            "grid_auto_columns": null,
            "margin": null,
            "display": null,
            "left": null
          }
        },
        "83a0ebd3065c40db828262349c7243d3": {
          "model_module": "@jupyter-widgets/controls",
          "model_name": "DescriptionStyleModel",
          "state": {
            "_view_name": "StyleView",
            "_model_name": "DescriptionStyleModel",
            "description_width": "",
            "_view_module": "@jupyter-widgets/base",
            "_model_module_version": "1.5.0",
            "_view_count": null,
            "_view_module_version": "1.2.0",
            "_model_module": "@jupyter-widgets/controls"
          }
        },
        "88947b43a4704c14a727b3c3a67f07ce": {
          "model_module": "@jupyter-widgets/base",
          "model_name": "LayoutModel",
          "state": {
            "_view_name": "LayoutView",
            "grid_template_rows": null,
            "right": null,
            "justify_content": null,
            "_view_module": "@jupyter-widgets/base",
            "overflow": null,
            "_model_module_version": "1.2.0",
            "_view_count": null,
            "flex_flow": null,
            "width": null,
            "min_width": null,
            "border": null,
            "align_items": null,
            "bottom": null,
            "_model_module": "@jupyter-widgets/base",
            "top": null,
            "grid_column": null,
            "overflow_y": null,
            "overflow_x": null,
            "grid_auto_flow": null,
            "grid_area": null,
            "grid_template_columns": null,
            "flex": null,
            "_model_name": "LayoutModel",
            "justify_items": null,
            "grid_row": null,
            "max_height": null,
            "align_content": null,
            "visibility": null,
            "align_self": null,
            "height": null,
            "min_height": null,
            "padding": null,
            "grid_auto_rows": null,
            "grid_gap": null,
            "max_width": null,
            "order": null,
            "_view_module_version": "1.2.0",
            "grid_template_areas": null,
            "object_position": null,
            "object_fit": null,
            "grid_auto_columns": null,
            "margin": null,
            "display": null,
            "left": null
          }
        },
        "5b5e40c7f8e443139706f6edda9aa1bc": {
          "model_module": "@jupyter-widgets/controls",
          "model_name": "HBoxModel",
          "state": {
            "_view_name": "HBoxView",
            "_dom_classes": [],
            "_model_name": "HBoxModel",
            "_view_module": "@jupyter-widgets/controls",
            "_model_module_version": "1.5.0",
            "_view_count": null,
            "_view_module_version": "1.5.0",
            "box_style": "",
            "layout": "IPY_MODEL_b6311344dead4d2bbcf56ac5dbdaeb6b",
            "_model_module": "@jupyter-widgets/controls",
            "children": [
              "IPY_MODEL_1a7720838b2c4624bccc4e985b3e3d41",
              "IPY_MODEL_5ec65d34c10b4627adadc0e6f96f07e6"
            ]
          }
        },
        "b6311344dead4d2bbcf56ac5dbdaeb6b": {
          "model_module": "@jupyter-widgets/base",
          "model_name": "LayoutModel",
          "state": {
            "_view_name": "LayoutView",
            "grid_template_rows": null,
            "right": null,
            "justify_content": null,
            "_view_module": "@jupyter-widgets/base",
            "overflow": null,
            "_model_module_version": "1.2.0",
            "_view_count": null,
            "flex_flow": null,
            "width": null,
            "min_width": null,
            "border": null,
            "align_items": null,
            "bottom": null,
            "_model_module": "@jupyter-widgets/base",
            "top": null,
            "grid_column": null,
            "overflow_y": null,
            "overflow_x": null,
            "grid_auto_flow": null,
            "grid_area": null,
            "grid_template_columns": null,
            "flex": null,
            "_model_name": "LayoutModel",
            "justify_items": null,
            "grid_row": null,
            "max_height": null,
            "align_content": null,
            "visibility": null,
            "align_self": null,
            "height": null,
            "min_height": null,
            "padding": null,
            "grid_auto_rows": null,
            "grid_gap": null,
            "max_width": null,
            "order": null,
            "_view_module_version": "1.2.0",
            "grid_template_areas": null,
            "object_position": null,
            "object_fit": null,
            "grid_auto_columns": null,
            "margin": null,
            "display": null,
            "left": null
          }
        },
        "1a7720838b2c4624bccc4e985b3e3d41": {
          "model_module": "@jupyter-widgets/controls",
          "model_name": "FloatProgressModel",
          "state": {
            "_view_name": "ProgressView",
            "style": "IPY_MODEL_38c1a6f483e74651a3fe2a9bb096741e",
            "_dom_classes": [],
            "description": "100%",
            "_model_name": "FloatProgressModel",
            "bar_style": "success",
            "max": 10,
            "_view_module": "@jupyter-widgets/controls",
            "_model_module_version": "1.5.0",
            "value": 10,
            "_view_count": null,
            "_view_module_version": "1.5.0",
            "orientation": "horizontal",
            "min": 0,
            "description_tooltip": null,
            "_model_module": "@jupyter-widgets/controls",
            "layout": "IPY_MODEL_6196dc098fbe4961aec44c796625c12c"
          }
        },
        "5ec65d34c10b4627adadc0e6f96f07e6": {
          "model_module": "@jupyter-widgets/controls",
          "model_name": "HTMLModel",
          "state": {
            "_view_name": "HTMLView",
            "style": "IPY_MODEL_dc49821522674432b29deecb6cf6abf8",
            "_dom_classes": [],
            "description": "",
            "_model_name": "HTMLModel",
            "placeholder": "​",
            "_view_module": "@jupyter-widgets/controls",
            "_model_module_version": "1.5.0",
            "value": " 10/10 [41:22&lt;00:00, 248.27s/it]",
            "_view_count": null,
            "_view_module_version": "1.5.0",
            "description_tooltip": null,
            "_model_module": "@jupyter-widgets/controls",
            "layout": "IPY_MODEL_f7ab560917b5447d9bae6797feab4e7c"
          }
        },
        "38c1a6f483e74651a3fe2a9bb096741e": {
          "model_module": "@jupyter-widgets/controls",
          "model_name": "ProgressStyleModel",
          "state": {
            "_view_name": "StyleView",
            "_model_name": "ProgressStyleModel",
            "description_width": "initial",
            "_view_module": "@jupyter-widgets/base",
            "_model_module_version": "1.5.0",
            "_view_count": null,
            "_view_module_version": "1.2.0",
            "bar_color": null,
            "_model_module": "@jupyter-widgets/controls"
          }
        },
        "6196dc098fbe4961aec44c796625c12c": {
          "model_module": "@jupyter-widgets/base",
          "model_name": "LayoutModel",
          "state": {
            "_view_name": "LayoutView",
            "grid_template_rows": null,
            "right": null,
            "justify_content": null,
            "_view_module": "@jupyter-widgets/base",
            "overflow": null,
            "_model_module_version": "1.2.0",
            "_view_count": null,
            "flex_flow": null,
            "width": null,
            "min_width": null,
            "border": null,
            "align_items": null,
            "bottom": null,
            "_model_module": "@jupyter-widgets/base",
            "top": null,
            "grid_column": null,
            "overflow_y": null,
            "overflow_x": null,
            "grid_auto_flow": null,
            "grid_area": null,
            "grid_template_columns": null,
            "flex": null,
            "_model_name": "LayoutModel",
            "justify_items": null,
            "grid_row": null,
            "max_height": null,
            "align_content": null,
            "visibility": null,
            "align_self": null,
            "height": null,
            "min_height": null,
            "padding": null,
            "grid_auto_rows": null,
            "grid_gap": null,
            "max_width": null,
            "order": null,
            "_view_module_version": "1.2.0",
            "grid_template_areas": null,
            "object_position": null,
            "object_fit": null,
            "grid_auto_columns": null,
            "margin": null,
            "display": null,
            "left": null
          }
        },
        "dc49821522674432b29deecb6cf6abf8": {
          "model_module": "@jupyter-widgets/controls",
          "model_name": "DescriptionStyleModel",
          "state": {
            "_view_name": "StyleView",
            "_model_name": "DescriptionStyleModel",
            "description_width": "",
            "_view_module": "@jupyter-widgets/base",
            "_model_module_version": "1.5.0",
            "_view_count": null,
            "_view_module_version": "1.2.0",
            "_model_module": "@jupyter-widgets/controls"
          }
        },
        "f7ab560917b5447d9bae6797feab4e7c": {
          "model_module": "@jupyter-widgets/base",
          "model_name": "LayoutModel",
          "state": {
            "_view_name": "LayoutView",
            "grid_template_rows": null,
            "right": null,
            "justify_content": null,
            "_view_module": "@jupyter-widgets/base",
            "overflow": null,
            "_model_module_version": "1.2.0",
            "_view_count": null,
            "flex_flow": null,
            "width": null,
            "min_width": null,
            "border": null,
            "align_items": null,
            "bottom": null,
            "_model_module": "@jupyter-widgets/base",
            "top": null,
            "grid_column": null,
            "overflow_y": null,
            "overflow_x": null,
            "grid_auto_flow": null,
            "grid_area": null,
            "grid_template_columns": null,
            "flex": null,
            "_model_name": "LayoutModel",
            "justify_items": null,
            "grid_row": null,
            "max_height": null,
            "align_content": null,
            "visibility": null,
            "align_self": null,
            "height": null,
            "min_height": null,
            "padding": null,
            "grid_auto_rows": null,
            "grid_gap": null,
            "max_width": null,
            "order": null,
            "_view_module_version": "1.2.0",
            "grid_template_areas": null,
            "object_position": null,
            "object_fit": null,
            "grid_auto_columns": null,
            "margin": null,
            "display": null,
            "left": null
          }
        },
        "ce660684a5264ef69b586d3aa740d9c9": {
          "model_module": "@jupyter-widgets/controls",
          "model_name": "HBoxModel",
          "state": {
            "_view_name": "HBoxView",
            "_dom_classes": [],
            "_model_name": "HBoxModel",
            "_view_module": "@jupyter-widgets/controls",
            "_model_module_version": "1.5.0",
            "_view_count": null,
            "_view_module_version": "1.5.0",
            "box_style": "",
            "layout": "IPY_MODEL_92b2db62790e4d209e286559ce201a62",
            "_model_module": "@jupyter-widgets/controls",
            "children": [
              "IPY_MODEL_598885f5728d450cba3ef9a25de33d12",
              "IPY_MODEL_1db3f151fcc1498f9fc899d6765b0362"
            ]
          }
        },
        "92b2db62790e4d209e286559ce201a62": {
          "model_module": "@jupyter-widgets/base",
          "model_name": "LayoutModel",
          "state": {
            "_view_name": "LayoutView",
            "grid_template_rows": null,
            "right": null,
            "justify_content": null,
            "_view_module": "@jupyter-widgets/base",
            "overflow": null,
            "_model_module_version": "1.2.0",
            "_view_count": null,
            "flex_flow": null,
            "width": null,
            "min_width": null,
            "border": null,
            "align_items": null,
            "bottom": null,
            "_model_module": "@jupyter-widgets/base",
            "top": null,
            "grid_column": null,
            "overflow_y": null,
            "overflow_x": null,
            "grid_auto_flow": null,
            "grid_area": null,
            "grid_template_columns": null,
            "flex": null,
            "_model_name": "LayoutModel",
            "justify_items": null,
            "grid_row": null,
            "max_height": null,
            "align_content": null,
            "visibility": null,
            "align_self": null,
            "height": null,
            "min_height": null,
            "padding": null,
            "grid_auto_rows": null,
            "grid_gap": null,
            "max_width": null,
            "order": null,
            "_view_module_version": "1.2.0",
            "grid_template_areas": null,
            "object_position": null,
            "object_fit": null,
            "grid_auto_columns": null,
            "margin": null,
            "display": null,
            "left": null
          }
        },
        "598885f5728d450cba3ef9a25de33d12": {
          "model_module": "@jupyter-widgets/controls",
          "model_name": "FloatProgressModel",
          "state": {
            "_view_name": "ProgressView",
            "style": "IPY_MODEL_7668ff5d91894cb49432ea04d42d617b",
            "_dom_classes": [],
            "description": "100%",
            "_model_name": "FloatProgressModel",
            "bar_style": "success",
            "max": 10,
            "_view_module": "@jupyter-widgets/controls",
            "_model_module_version": "1.5.0",
            "value": 10,
            "_view_count": null,
            "_view_module_version": "1.5.0",
            "orientation": "horizontal",
            "min": 0,
            "description_tooltip": null,
            "_model_module": "@jupyter-widgets/controls",
            "layout": "IPY_MODEL_e3d310f48dcb44a68c8f437dc71d926a"
          }
        },
        "1db3f151fcc1498f9fc899d6765b0362": {
          "model_module": "@jupyter-widgets/controls",
          "model_name": "HTMLModel",
          "state": {
            "_view_name": "HTMLView",
            "style": "IPY_MODEL_c708a4e075454d47ba4df5d8a0101be9",
            "_dom_classes": [],
            "description": "",
            "_model_name": "HTMLModel",
            "placeholder": "​",
            "_view_module": "@jupyter-widgets/controls",
            "_model_module_version": "1.5.0",
            "value": " 10/10 [01:03&lt;00:00,  6.39s/it]",
            "_view_count": null,
            "_view_module_version": "1.5.0",
            "description_tooltip": null,
            "_model_module": "@jupyter-widgets/controls",
            "layout": "IPY_MODEL_02dfbc21be794c2ea79ae823418b4543"
          }
        },
        "7668ff5d91894cb49432ea04d42d617b": {
          "model_module": "@jupyter-widgets/controls",
          "model_name": "ProgressStyleModel",
          "state": {
            "_view_name": "StyleView",
            "_model_name": "ProgressStyleModel",
            "description_width": "initial",
            "_view_module": "@jupyter-widgets/base",
            "_model_module_version": "1.5.0",
            "_view_count": null,
            "_view_module_version": "1.2.0",
            "bar_color": null,
            "_model_module": "@jupyter-widgets/controls"
          }
        },
        "e3d310f48dcb44a68c8f437dc71d926a": {
          "model_module": "@jupyter-widgets/base",
          "model_name": "LayoutModel",
          "state": {
            "_view_name": "LayoutView",
            "grid_template_rows": null,
            "right": null,
            "justify_content": null,
            "_view_module": "@jupyter-widgets/base",
            "overflow": null,
            "_model_module_version": "1.2.0",
            "_view_count": null,
            "flex_flow": null,
            "width": null,
            "min_width": null,
            "border": null,
            "align_items": null,
            "bottom": null,
            "_model_module": "@jupyter-widgets/base",
            "top": null,
            "grid_column": null,
            "overflow_y": null,
            "overflow_x": null,
            "grid_auto_flow": null,
            "grid_area": null,
            "grid_template_columns": null,
            "flex": null,
            "_model_name": "LayoutModel",
            "justify_items": null,
            "grid_row": null,
            "max_height": null,
            "align_content": null,
            "visibility": null,
            "align_self": null,
            "height": null,
            "min_height": null,
            "padding": null,
            "grid_auto_rows": null,
            "grid_gap": null,
            "max_width": null,
            "order": null,
            "_view_module_version": "1.2.0",
            "grid_template_areas": null,
            "object_position": null,
            "object_fit": null,
            "grid_auto_columns": null,
            "margin": null,
            "display": null,
            "left": null
          }
        },
        "c708a4e075454d47ba4df5d8a0101be9": {
          "model_module": "@jupyter-widgets/controls",
          "model_name": "DescriptionStyleModel",
          "state": {
            "_view_name": "StyleView",
            "_model_name": "DescriptionStyleModel",
            "description_width": "",
            "_view_module": "@jupyter-widgets/base",
            "_model_module_version": "1.5.0",
            "_view_count": null,
            "_view_module_version": "1.2.0",
            "_model_module": "@jupyter-widgets/controls"
          }
        },
        "02dfbc21be794c2ea79ae823418b4543": {
          "model_module": "@jupyter-widgets/base",
          "model_name": "LayoutModel",
          "state": {
            "_view_name": "LayoutView",
            "grid_template_rows": null,
            "right": null,
            "justify_content": null,
            "_view_module": "@jupyter-widgets/base",
            "overflow": null,
            "_model_module_version": "1.2.0",
            "_view_count": null,
            "flex_flow": null,
            "width": null,
            "min_width": null,
            "border": null,
            "align_items": null,
            "bottom": null,
            "_model_module": "@jupyter-widgets/base",
            "top": null,
            "grid_column": null,
            "overflow_y": null,
            "overflow_x": null,
            "grid_auto_flow": null,
            "grid_area": null,
            "grid_template_columns": null,
            "flex": null,
            "_model_name": "LayoutModel",
            "justify_items": null,
            "grid_row": null,
            "max_height": null,
            "align_content": null,
            "visibility": null,
            "align_self": null,
            "height": null,
            "min_height": null,
            "padding": null,
            "grid_auto_rows": null,
            "grid_gap": null,
            "max_width": null,
            "order": null,
            "_view_module_version": "1.2.0",
            "grid_template_areas": null,
            "object_position": null,
            "object_fit": null,
            "grid_auto_columns": null,
            "margin": null,
            "display": null,
            "left": null
          }
        },
        "713fcedd3ffa4287be2f931afb607c92": {
          "model_module": "@jupyter-widgets/controls",
          "model_name": "HBoxModel",
          "state": {
            "_view_name": "HBoxView",
            "_dom_classes": [],
            "_model_name": "HBoxModel",
            "_view_module": "@jupyter-widgets/controls",
            "_model_module_version": "1.5.0",
            "_view_count": null,
            "_view_module_version": "1.5.0",
            "box_style": "",
            "layout": "IPY_MODEL_87b1fb19d21843739c32424c63dd70cf",
            "_model_module": "@jupyter-widgets/controls",
            "children": [
              "IPY_MODEL_6fc8e580fe5e403b9ef0e98cd59308d7",
              "IPY_MODEL_1a31eacb638f4a4ebf827b53c4db851c"
            ]
          }
        },
        "87b1fb19d21843739c32424c63dd70cf": {
          "model_module": "@jupyter-widgets/base",
          "model_name": "LayoutModel",
          "state": {
            "_view_name": "LayoutView",
            "grid_template_rows": null,
            "right": null,
            "justify_content": null,
            "_view_module": "@jupyter-widgets/base",
            "overflow": null,
            "_model_module_version": "1.2.0",
            "_view_count": null,
            "flex_flow": null,
            "width": null,
            "min_width": null,
            "border": null,
            "align_items": null,
            "bottom": null,
            "_model_module": "@jupyter-widgets/base",
            "top": null,
            "grid_column": null,
            "overflow_y": null,
            "overflow_x": null,
            "grid_auto_flow": null,
            "grid_area": null,
            "grid_template_columns": null,
            "flex": null,
            "_model_name": "LayoutModel",
            "justify_items": null,
            "grid_row": null,
            "max_height": null,
            "align_content": null,
            "visibility": null,
            "align_self": null,
            "height": null,
            "min_height": null,
            "padding": null,
            "grid_auto_rows": null,
            "grid_gap": null,
            "max_width": null,
            "order": null,
            "_view_module_version": "1.2.0",
            "grid_template_areas": null,
            "object_position": null,
            "object_fit": null,
            "grid_auto_columns": null,
            "margin": null,
            "display": null,
            "left": null
          }
        },
        "6fc8e580fe5e403b9ef0e98cd59308d7": {
          "model_module": "@jupyter-widgets/controls",
          "model_name": "FloatProgressModel",
          "state": {
            "_view_name": "ProgressView",
            "style": "IPY_MODEL_8089d72854f0487ab2b163bf419e6a1a",
            "_dom_classes": [],
            "description": "100%",
            "_model_name": "FloatProgressModel",
            "bar_style": "success",
            "max": 3,
            "_view_module": "@jupyter-widgets/controls",
            "_model_module_version": "1.5.0",
            "value": 3,
            "_view_count": null,
            "_view_module_version": "1.5.0",
            "orientation": "horizontal",
            "min": 0,
            "description_tooltip": null,
            "_model_module": "@jupyter-widgets/controls",
            "layout": "IPY_MODEL_aaad43b0b5f24f72ac1e0f26aabc652c"
          }
        },
        "1a31eacb638f4a4ebf827b53c4db851c": {
          "model_module": "@jupyter-widgets/controls",
          "model_name": "HTMLModel",
          "state": {
            "_view_name": "HTMLView",
            "style": "IPY_MODEL_87bdd6f0322b4c95888f11e4b8af57d5",
            "_dom_classes": [],
            "description": "",
            "_model_name": "HTMLModel",
            "placeholder": "​",
            "_view_module": "@jupyter-widgets/controls",
            "_model_module_version": "1.5.0",
            "value": " 3/3 [03:42&lt;00:00, 74.06s/it]",
            "_view_count": null,
            "_view_module_version": "1.5.0",
            "description_tooltip": null,
            "_model_module": "@jupyter-widgets/controls",
            "layout": "IPY_MODEL_9185b721683c41eb8e2311ac6c63fb7c"
          }
        },
        "8089d72854f0487ab2b163bf419e6a1a": {
          "model_module": "@jupyter-widgets/controls",
          "model_name": "ProgressStyleModel",
          "state": {
            "_view_name": "StyleView",
            "_model_name": "ProgressStyleModel",
            "description_width": "initial",
            "_view_module": "@jupyter-widgets/base",
            "_model_module_version": "1.5.0",
            "_view_count": null,
            "_view_module_version": "1.2.0",
            "bar_color": null,
            "_model_module": "@jupyter-widgets/controls"
          }
        },
        "aaad43b0b5f24f72ac1e0f26aabc652c": {
          "model_module": "@jupyter-widgets/base",
          "model_name": "LayoutModel",
          "state": {
            "_view_name": "LayoutView",
            "grid_template_rows": null,
            "right": null,
            "justify_content": null,
            "_view_module": "@jupyter-widgets/base",
            "overflow": null,
            "_model_module_version": "1.2.0",
            "_view_count": null,
            "flex_flow": null,
            "width": null,
            "min_width": null,
            "border": null,
            "align_items": null,
            "bottom": null,
            "_model_module": "@jupyter-widgets/base",
            "top": null,
            "grid_column": null,
            "overflow_y": null,
            "overflow_x": null,
            "grid_auto_flow": null,
            "grid_area": null,
            "grid_template_columns": null,
            "flex": null,
            "_model_name": "LayoutModel",
            "justify_items": null,
            "grid_row": null,
            "max_height": null,
            "align_content": null,
            "visibility": null,
            "align_self": null,
            "height": null,
            "min_height": null,
            "padding": null,
            "grid_auto_rows": null,
            "grid_gap": null,
            "max_width": null,
            "order": null,
            "_view_module_version": "1.2.0",
            "grid_template_areas": null,
            "object_position": null,
            "object_fit": null,
            "grid_auto_columns": null,
            "margin": null,
            "display": null,
            "left": null
          }
        },
        "87bdd6f0322b4c95888f11e4b8af57d5": {
          "model_module": "@jupyter-widgets/controls",
          "model_name": "DescriptionStyleModel",
          "state": {
            "_view_name": "StyleView",
            "_model_name": "DescriptionStyleModel",
            "description_width": "",
            "_view_module": "@jupyter-widgets/base",
            "_model_module_version": "1.5.0",
            "_view_count": null,
            "_view_module_version": "1.2.0",
            "_model_module": "@jupyter-widgets/controls"
          }
        },
        "9185b721683c41eb8e2311ac6c63fb7c": {
          "model_module": "@jupyter-widgets/base",
          "model_name": "LayoutModel",
          "state": {
            "_view_name": "LayoutView",
            "grid_template_rows": null,
            "right": null,
            "justify_content": null,
            "_view_module": "@jupyter-widgets/base",
            "overflow": null,
            "_model_module_version": "1.2.0",
            "_view_count": null,
            "flex_flow": null,
            "width": null,
            "min_width": null,
            "border": null,
            "align_items": null,
            "bottom": null,
            "_model_module": "@jupyter-widgets/base",
            "top": null,
            "grid_column": null,
            "overflow_y": null,
            "overflow_x": null,
            "grid_auto_flow": null,
            "grid_area": null,
            "grid_template_columns": null,
            "flex": null,
            "_model_name": "LayoutModel",
            "justify_items": null,
            "grid_row": null,
            "max_height": null,
            "align_content": null,
            "visibility": null,
            "align_self": null,
            "height": null,
            "min_height": null,
            "padding": null,
            "grid_auto_rows": null,
            "grid_gap": null,
            "max_width": null,
            "order": null,
            "_view_module_version": "1.2.0",
            "grid_template_areas": null,
            "object_position": null,
            "object_fit": null,
            "grid_auto_columns": null,
            "margin": null,
            "display": null,
            "left": null
          }
        },
        "654de9e98457402193ac724f0b1b11df": {
          "model_module": "@jupyter-widgets/controls",
          "model_name": "HBoxModel",
          "state": {
            "_view_name": "HBoxView",
            "_dom_classes": [],
            "_model_name": "HBoxModel",
            "_view_module": "@jupyter-widgets/controls",
            "_model_module_version": "1.5.0",
            "_view_count": null,
            "_view_module_version": "1.5.0",
            "box_style": "",
            "layout": "IPY_MODEL_b93f6c078b7e4be39cdbf170d4329951",
            "_model_module": "@jupyter-widgets/controls",
            "children": [
              "IPY_MODEL_50e2f5a1d5f643839a37fc155585df11",
              "IPY_MODEL_713d76f3db5a4191a6aaa37947bf028e"
            ]
          }
        },
        "b93f6c078b7e4be39cdbf170d4329951": {
          "model_module": "@jupyter-widgets/base",
          "model_name": "LayoutModel",
          "state": {
            "_view_name": "LayoutView",
            "grid_template_rows": null,
            "right": null,
            "justify_content": null,
            "_view_module": "@jupyter-widgets/base",
            "overflow": null,
            "_model_module_version": "1.2.0",
            "_view_count": null,
            "flex_flow": null,
            "width": null,
            "min_width": null,
            "border": null,
            "align_items": null,
            "bottom": null,
            "_model_module": "@jupyter-widgets/base",
            "top": null,
            "grid_column": null,
            "overflow_y": null,
            "overflow_x": null,
            "grid_auto_flow": null,
            "grid_area": null,
            "grid_template_columns": null,
            "flex": null,
            "_model_name": "LayoutModel",
            "justify_items": null,
            "grid_row": null,
            "max_height": null,
            "align_content": null,
            "visibility": null,
            "align_self": null,
            "height": null,
            "min_height": null,
            "padding": null,
            "grid_auto_rows": null,
            "grid_gap": null,
            "max_width": null,
            "order": null,
            "_view_module_version": "1.2.0",
            "grid_template_areas": null,
            "object_position": null,
            "object_fit": null,
            "grid_auto_columns": null,
            "margin": null,
            "display": null,
            "left": null
          }
        },
        "50e2f5a1d5f643839a37fc155585df11": {
          "model_module": "@jupyter-widgets/controls",
          "model_name": "FloatProgressModel",
          "state": {
            "_view_name": "ProgressView",
            "style": "IPY_MODEL_f98d35c360b542f6898b1041a9770572",
            "_dom_classes": [],
            "description": "100%",
            "_model_name": "FloatProgressModel",
            "bar_style": "",
            "max": 6,
            "_view_module": "@jupyter-widgets/controls",
            "_model_module_version": "1.5.0",
            "value": 6,
            "_view_count": null,
            "_view_module_version": "1.5.0",
            "orientation": "horizontal",
            "min": 0,
            "description_tooltip": null,
            "_model_module": "@jupyter-widgets/controls",
            "layout": "IPY_MODEL_862919b9585d417fadf29c3f3ec056f7"
          }
        },
        "713d76f3db5a4191a6aaa37947bf028e": {
          "model_module": "@jupyter-widgets/controls",
          "model_name": "HTMLModel",
          "state": {
            "_view_name": "HTMLView",
            "style": "IPY_MODEL_a8f4a5dbca314e63a808d9b835263326",
            "_dom_classes": [],
            "description": "",
            "_model_name": "HTMLModel",
            "placeholder": "​",
            "_view_module": "@jupyter-widgets/controls",
            "_model_module_version": "1.5.0",
            "value": " 6/6 [01:15&lt;00:00, 12.68s/it]",
            "_view_count": null,
            "_view_module_version": "1.5.0",
            "description_tooltip": null,
            "_model_module": "@jupyter-widgets/controls",
            "layout": "IPY_MODEL_5b40bb6ca61c44aab0550f35d2b73d07"
          }
        },
        "f98d35c360b542f6898b1041a9770572": {
          "model_module": "@jupyter-widgets/controls",
          "model_name": "ProgressStyleModel",
          "state": {
            "_view_name": "StyleView",
            "_model_name": "ProgressStyleModel",
            "description_width": "initial",
            "_view_module": "@jupyter-widgets/base",
            "_model_module_version": "1.5.0",
            "_view_count": null,
            "_view_module_version": "1.2.0",
            "bar_color": null,
            "_model_module": "@jupyter-widgets/controls"
          }
        },
        "862919b9585d417fadf29c3f3ec056f7": {
          "model_module": "@jupyter-widgets/base",
          "model_name": "LayoutModel",
          "state": {
            "_view_name": "LayoutView",
            "grid_template_rows": null,
            "right": null,
            "justify_content": null,
            "_view_module": "@jupyter-widgets/base",
            "overflow": null,
            "_model_module_version": "1.2.0",
            "_view_count": null,
            "flex_flow": null,
            "width": null,
            "min_width": null,
            "border": null,
            "align_items": null,
            "bottom": null,
            "_model_module": "@jupyter-widgets/base",
            "top": null,
            "grid_column": null,
            "overflow_y": null,
            "overflow_x": null,
            "grid_auto_flow": null,
            "grid_area": null,
            "grid_template_columns": null,
            "flex": null,
            "_model_name": "LayoutModel",
            "justify_items": null,
            "grid_row": null,
            "max_height": null,
            "align_content": null,
            "visibility": null,
            "align_self": null,
            "height": null,
            "min_height": null,
            "padding": null,
            "grid_auto_rows": null,
            "grid_gap": null,
            "max_width": null,
            "order": null,
            "_view_module_version": "1.2.0",
            "grid_template_areas": null,
            "object_position": null,
            "object_fit": null,
            "grid_auto_columns": null,
            "margin": null,
            "display": null,
            "left": null
          }
        },
        "a8f4a5dbca314e63a808d9b835263326": {
          "model_module": "@jupyter-widgets/controls",
          "model_name": "DescriptionStyleModel",
          "state": {
            "_view_name": "StyleView",
            "_model_name": "DescriptionStyleModel",
            "description_width": "",
            "_view_module": "@jupyter-widgets/base",
            "_model_module_version": "1.5.0",
            "_view_count": null,
            "_view_module_version": "1.2.0",
            "_model_module": "@jupyter-widgets/controls"
          }
        },
        "5b40bb6ca61c44aab0550f35d2b73d07": {
          "model_module": "@jupyter-widgets/base",
          "model_name": "LayoutModel",
          "state": {
            "_view_name": "LayoutView",
            "grid_template_rows": null,
            "right": null,
            "justify_content": null,
            "_view_module": "@jupyter-widgets/base",
            "overflow": null,
            "_model_module_version": "1.2.0",
            "_view_count": null,
            "flex_flow": null,
            "width": null,
            "min_width": null,
            "border": null,
            "align_items": null,
            "bottom": null,
            "_model_module": "@jupyter-widgets/base",
            "top": null,
            "grid_column": null,
            "overflow_y": null,
            "overflow_x": null,
            "grid_auto_flow": null,
            "grid_area": null,
            "grid_template_columns": null,
            "flex": null,
            "_model_name": "LayoutModel",
            "justify_items": null,
            "grid_row": null,
            "max_height": null,
            "align_content": null,
            "visibility": null,
            "align_self": null,
            "height": null,
            "min_height": null,
            "padding": null,
            "grid_auto_rows": null,
            "grid_gap": null,
            "max_width": null,
            "order": null,
            "_view_module_version": "1.2.0",
            "grid_template_areas": null,
            "object_position": null,
            "object_fit": null,
            "grid_auto_columns": null,
            "margin": null,
            "display": null,
            "left": null
          }
        },
        "8df9ba4d7ca44d34ace0893a7b824aa0": {
          "model_module": "@jupyter-widgets/controls",
          "model_name": "HBoxModel",
          "state": {
            "_view_name": "HBoxView",
            "_dom_classes": [],
            "_model_name": "HBoxModel",
            "_view_module": "@jupyter-widgets/controls",
            "_model_module_version": "1.5.0",
            "_view_count": null,
            "_view_module_version": "1.5.0",
            "box_style": "",
            "layout": "IPY_MODEL_79430d4f846e4352959b692ce500b7e1",
            "_model_module": "@jupyter-widgets/controls",
            "children": [
              "IPY_MODEL_6c8430e6d9e645f0af6f693e54963544",
              "IPY_MODEL_0046f9b3676c49fc95bd92b2e66168b5"
            ]
          }
        },
        "79430d4f846e4352959b692ce500b7e1": {
          "model_module": "@jupyter-widgets/base",
          "model_name": "LayoutModel",
          "state": {
            "_view_name": "LayoutView",
            "grid_template_rows": null,
            "right": null,
            "justify_content": null,
            "_view_module": "@jupyter-widgets/base",
            "overflow": null,
            "_model_module_version": "1.2.0",
            "_view_count": null,
            "flex_flow": null,
            "width": null,
            "min_width": null,
            "border": null,
            "align_items": null,
            "bottom": null,
            "_model_module": "@jupyter-widgets/base",
            "top": null,
            "grid_column": null,
            "overflow_y": null,
            "overflow_x": null,
            "grid_auto_flow": null,
            "grid_area": null,
            "grid_template_columns": null,
            "flex": null,
            "_model_name": "LayoutModel",
            "justify_items": null,
            "grid_row": null,
            "max_height": null,
            "align_content": null,
            "visibility": null,
            "align_self": null,
            "height": null,
            "min_height": null,
            "padding": null,
            "grid_auto_rows": null,
            "grid_gap": null,
            "max_width": null,
            "order": null,
            "_view_module_version": "1.2.0",
            "grid_template_areas": null,
            "object_position": null,
            "object_fit": null,
            "grid_auto_columns": null,
            "margin": null,
            "display": null,
            "left": null
          }
        },
        "6c8430e6d9e645f0af6f693e54963544": {
          "model_module": "@jupyter-widgets/controls",
          "model_name": "FloatProgressModel",
          "state": {
            "_view_name": "ProgressView",
            "style": "IPY_MODEL_bd472c434d824c59abbb0bb959dcce7f",
            "_dom_classes": [],
            "description": "100%",
            "_model_name": "FloatProgressModel",
            "bar_style": "",
            "max": 6,
            "_view_module": "@jupyter-widgets/controls",
            "_model_module_version": "1.5.0",
            "value": 6,
            "_view_count": null,
            "_view_module_version": "1.5.0",
            "orientation": "horizontal",
            "min": 0,
            "description_tooltip": null,
            "_model_module": "@jupyter-widgets/controls",
            "layout": "IPY_MODEL_3a618554b07d4ef3ba5ed1b754ee9068"
          }
        },
        "0046f9b3676c49fc95bd92b2e66168b5": {
          "model_module": "@jupyter-widgets/controls",
          "model_name": "HTMLModel",
          "state": {
            "_view_name": "HTMLView",
            "style": "IPY_MODEL_f2cf9d64d71b483b9602919aba83823c",
            "_dom_classes": [],
            "description": "",
            "_model_name": "HTMLModel",
            "placeholder": "​",
            "_view_module": "@jupyter-widgets/controls",
            "_model_module_version": "1.5.0",
            "value": " 6/6 [01:12&lt;00:00, 12.05s/it]",
            "_view_count": null,
            "_view_module_version": "1.5.0",
            "description_tooltip": null,
            "_model_module": "@jupyter-widgets/controls",
            "layout": "IPY_MODEL_e77c39a3b3a9461fb976d0d7d214fedb"
          }
        },
        "bd472c434d824c59abbb0bb959dcce7f": {
          "model_module": "@jupyter-widgets/controls",
          "model_name": "ProgressStyleModel",
          "state": {
            "_view_name": "StyleView",
            "_model_name": "ProgressStyleModel",
            "description_width": "initial",
            "_view_module": "@jupyter-widgets/base",
            "_model_module_version": "1.5.0",
            "_view_count": null,
            "_view_module_version": "1.2.0",
            "bar_color": null,
            "_model_module": "@jupyter-widgets/controls"
          }
        },
        "3a618554b07d4ef3ba5ed1b754ee9068": {
          "model_module": "@jupyter-widgets/base",
          "model_name": "LayoutModel",
          "state": {
            "_view_name": "LayoutView",
            "grid_template_rows": null,
            "right": null,
            "justify_content": null,
            "_view_module": "@jupyter-widgets/base",
            "overflow": null,
            "_model_module_version": "1.2.0",
            "_view_count": null,
            "flex_flow": null,
            "width": null,
            "min_width": null,
            "border": null,
            "align_items": null,
            "bottom": null,
            "_model_module": "@jupyter-widgets/base",
            "top": null,
            "grid_column": null,
            "overflow_y": null,
            "overflow_x": null,
            "grid_auto_flow": null,
            "grid_area": null,
            "grid_template_columns": null,
            "flex": null,
            "_model_name": "LayoutModel",
            "justify_items": null,
            "grid_row": null,
            "max_height": null,
            "align_content": null,
            "visibility": null,
            "align_self": null,
            "height": null,
            "min_height": null,
            "padding": null,
            "grid_auto_rows": null,
            "grid_gap": null,
            "max_width": null,
            "order": null,
            "_view_module_version": "1.2.0",
            "grid_template_areas": null,
            "object_position": null,
            "object_fit": null,
            "grid_auto_columns": null,
            "margin": null,
            "display": null,
            "left": null
          }
        },
        "f2cf9d64d71b483b9602919aba83823c": {
          "model_module": "@jupyter-widgets/controls",
          "model_name": "DescriptionStyleModel",
          "state": {
            "_view_name": "StyleView",
            "_model_name": "DescriptionStyleModel",
            "description_width": "",
            "_view_module": "@jupyter-widgets/base",
            "_model_module_version": "1.5.0",
            "_view_count": null,
            "_view_module_version": "1.2.0",
            "_model_module": "@jupyter-widgets/controls"
          }
        },
        "e77c39a3b3a9461fb976d0d7d214fedb": {
          "model_module": "@jupyter-widgets/base",
          "model_name": "LayoutModel",
          "state": {
            "_view_name": "LayoutView",
            "grid_template_rows": null,
            "right": null,
            "justify_content": null,
            "_view_module": "@jupyter-widgets/base",
            "overflow": null,
            "_model_module_version": "1.2.0",
            "_view_count": null,
            "flex_flow": null,
            "width": null,
            "min_width": null,
            "border": null,
            "align_items": null,
            "bottom": null,
            "_model_module": "@jupyter-widgets/base",
            "top": null,
            "grid_column": null,
            "overflow_y": null,
            "overflow_x": null,
            "grid_auto_flow": null,
            "grid_area": null,
            "grid_template_columns": null,
            "flex": null,
            "_model_name": "LayoutModel",
            "justify_items": null,
            "grid_row": null,
            "max_height": null,
            "align_content": null,
            "visibility": null,
            "align_self": null,
            "height": null,
            "min_height": null,
            "padding": null,
            "grid_auto_rows": null,
            "grid_gap": null,
            "max_width": null,
            "order": null,
            "_view_module_version": "1.2.0",
            "grid_template_areas": null,
            "object_position": null,
            "object_fit": null,
            "grid_auto_columns": null,
            "margin": null,
            "display": null,
            "left": null
          }
        },
        "950289a31b5244c88cc487436c9414f8": {
          "model_module": "@jupyter-widgets/controls",
          "model_name": "HBoxModel",
          "state": {
            "_view_name": "HBoxView",
            "_dom_classes": [],
            "_model_name": "HBoxModel",
            "_view_module": "@jupyter-widgets/controls",
            "_model_module_version": "1.5.0",
            "_view_count": null,
            "_view_module_version": "1.5.0",
            "box_style": "",
            "layout": "IPY_MODEL_5c257e180e444dc588565931fde8f190",
            "_model_module": "@jupyter-widgets/controls",
            "children": [
              "IPY_MODEL_af42b6b144b047f2982dd0de7519810d",
              "IPY_MODEL_c0dd71b306a24a8ca2cd0e5d60960bac"
            ]
          }
        },
        "5c257e180e444dc588565931fde8f190": {
          "model_module": "@jupyter-widgets/base",
          "model_name": "LayoutModel",
          "state": {
            "_view_name": "LayoutView",
            "grid_template_rows": null,
            "right": null,
            "justify_content": null,
            "_view_module": "@jupyter-widgets/base",
            "overflow": null,
            "_model_module_version": "1.2.0",
            "_view_count": null,
            "flex_flow": null,
            "width": null,
            "min_width": null,
            "border": null,
            "align_items": null,
            "bottom": null,
            "_model_module": "@jupyter-widgets/base",
            "top": null,
            "grid_column": null,
            "overflow_y": null,
            "overflow_x": null,
            "grid_auto_flow": null,
            "grid_area": null,
            "grid_template_columns": null,
            "flex": null,
            "_model_name": "LayoutModel",
            "justify_items": null,
            "grid_row": null,
            "max_height": null,
            "align_content": null,
            "visibility": null,
            "align_self": null,
            "height": null,
            "min_height": null,
            "padding": null,
            "grid_auto_rows": null,
            "grid_gap": null,
            "max_width": null,
            "order": null,
            "_view_module_version": "1.2.0",
            "grid_template_areas": null,
            "object_position": null,
            "object_fit": null,
            "grid_auto_columns": null,
            "margin": null,
            "display": null,
            "left": null
          }
        },
        "af42b6b144b047f2982dd0de7519810d": {
          "model_module": "@jupyter-widgets/controls",
          "model_name": "FloatProgressModel",
          "state": {
            "_view_name": "ProgressView",
            "style": "IPY_MODEL_46aa77d6f4324fca9beb214bc2c0cb7d",
            "_dom_classes": [],
            "description": "100%",
            "_model_name": "FloatProgressModel",
            "bar_style": "",
            "max": 6,
            "_view_module": "@jupyter-widgets/controls",
            "_model_module_version": "1.5.0",
            "value": 6,
            "_view_count": null,
            "_view_module_version": "1.5.0",
            "orientation": "horizontal",
            "min": 0,
            "description_tooltip": null,
            "_model_module": "@jupyter-widgets/controls",
            "layout": "IPY_MODEL_a9c1df7caf16445aa7a1abce331bbba7"
          }
        },
        "c0dd71b306a24a8ca2cd0e5d60960bac": {
          "model_module": "@jupyter-widgets/controls",
          "model_name": "HTMLModel",
          "state": {
            "_view_name": "HTMLView",
            "style": "IPY_MODEL_e0ab293f6d7b480e97aadb7ea2ac669f",
            "_dom_classes": [],
            "description": "",
            "_model_name": "HTMLModel",
            "placeholder": "​",
            "_view_module": "@jupyter-widgets/controls",
            "_model_module_version": "1.5.0",
            "value": " 6/6 [01:11&lt;00:00, 12.02s/it]",
            "_view_count": null,
            "_view_module_version": "1.5.0",
            "description_tooltip": null,
            "_model_module": "@jupyter-widgets/controls",
            "layout": "IPY_MODEL_1316ed2cdc6f4cd8a004006192699934"
          }
        },
        "46aa77d6f4324fca9beb214bc2c0cb7d": {
          "model_module": "@jupyter-widgets/controls",
          "model_name": "ProgressStyleModel",
          "state": {
            "_view_name": "StyleView",
            "_model_name": "ProgressStyleModel",
            "description_width": "initial",
            "_view_module": "@jupyter-widgets/base",
            "_model_module_version": "1.5.0",
            "_view_count": null,
            "_view_module_version": "1.2.0",
            "bar_color": null,
            "_model_module": "@jupyter-widgets/controls"
          }
        },
        "a9c1df7caf16445aa7a1abce331bbba7": {
          "model_module": "@jupyter-widgets/base",
          "model_name": "LayoutModel",
          "state": {
            "_view_name": "LayoutView",
            "grid_template_rows": null,
            "right": null,
            "justify_content": null,
            "_view_module": "@jupyter-widgets/base",
            "overflow": null,
            "_model_module_version": "1.2.0",
            "_view_count": null,
            "flex_flow": null,
            "width": null,
            "min_width": null,
            "border": null,
            "align_items": null,
            "bottom": null,
            "_model_module": "@jupyter-widgets/base",
            "top": null,
            "grid_column": null,
            "overflow_y": null,
            "overflow_x": null,
            "grid_auto_flow": null,
            "grid_area": null,
            "grid_template_columns": null,
            "flex": null,
            "_model_name": "LayoutModel",
            "justify_items": null,
            "grid_row": null,
            "max_height": null,
            "align_content": null,
            "visibility": null,
            "align_self": null,
            "height": null,
            "min_height": null,
            "padding": null,
            "grid_auto_rows": null,
            "grid_gap": null,
            "max_width": null,
            "order": null,
            "_view_module_version": "1.2.0",
            "grid_template_areas": null,
            "object_position": null,
            "object_fit": null,
            "grid_auto_columns": null,
            "margin": null,
            "display": null,
            "left": null
          }
        },
        "e0ab293f6d7b480e97aadb7ea2ac669f": {
          "model_module": "@jupyter-widgets/controls",
          "model_name": "DescriptionStyleModel",
          "state": {
            "_view_name": "StyleView",
            "_model_name": "DescriptionStyleModel",
            "description_width": "",
            "_view_module": "@jupyter-widgets/base",
            "_model_module_version": "1.5.0",
            "_view_count": null,
            "_view_module_version": "1.2.0",
            "_model_module": "@jupyter-widgets/controls"
          }
        },
        "1316ed2cdc6f4cd8a004006192699934": {
          "model_module": "@jupyter-widgets/base",
          "model_name": "LayoutModel",
          "state": {
            "_view_name": "LayoutView",
            "grid_template_rows": null,
            "right": null,
            "justify_content": null,
            "_view_module": "@jupyter-widgets/base",
            "overflow": null,
            "_model_module_version": "1.2.0",
            "_view_count": null,
            "flex_flow": null,
            "width": null,
            "min_width": null,
            "border": null,
            "align_items": null,
            "bottom": null,
            "_model_module": "@jupyter-widgets/base",
            "top": null,
            "grid_column": null,
            "overflow_y": null,
            "overflow_x": null,
            "grid_auto_flow": null,
            "grid_area": null,
            "grid_template_columns": null,
            "flex": null,
            "_model_name": "LayoutModel",
            "justify_items": null,
            "grid_row": null,
            "max_height": null,
            "align_content": null,
            "visibility": null,
            "align_self": null,
            "height": null,
            "min_height": null,
            "padding": null,
            "grid_auto_rows": null,
            "grid_gap": null,
            "max_width": null,
            "order": null,
            "_view_module_version": "1.2.0",
            "grid_template_areas": null,
            "object_position": null,
            "object_fit": null,
            "grid_auto_columns": null,
            "margin": null,
            "display": null,
            "left": null
          }
        }
      }
    }
  },
  "cells": [
    {
      "cell_type": "markdown",
      "metadata": {
        "id": "view-in-github",
        "colab_type": "text"
      },
      "source": [
        "<a href=\"https://colab.research.google.com/github/jshin13/MindX_time-series_analysis/blob/temp/MindX_dataloader.ipynb\" target=\"_parent\"><img src=\"https://colab.research.google.com/assets/colab-badge.svg\" alt=\"Open In Colab\"/></a>"
      ]
    },
    {
      "cell_type": "code",
      "metadata": {
        "id": "8Ref7nVNaYu_",
        "colab": {
          "base_uri": "https://localhost:8080/"
        },
        "outputId": "fc2e30d6-ebca-44f3-aaa6-bfc821f2a9f4"
      },
      "source": [
        "import os\r\n",
        "import shutil\r\n",
        "import zipfile\r\n",
        "import urllib.request\r\n",
        "from google.colab import drive\r\n",
        "from google.colab import files\r\n",
        "\r\n",
        "drive.mount('/content/drive')"
      ],
      "execution_count": 1,
      "outputs": [
        {
          "output_type": "stream",
          "text": [
            "Mounted at /content/drive\n"
          ],
          "name": "stdout"
        }
      ]
    },
    {
      "cell_type": "code",
      "metadata": {
        "id": "N-XhcQWmcDDN"
      },
      "source": [
        "dirpath = '/content/drive/MyDrive/MindX_Data/Optical Imaging System Data Sets/'\r\n",
        "dirpath2 = '/content/drive/MyDrive/MindX_Data/dat/'\r\n",
        "dirpathimg = '/content/drive/MyDrive/MindX_Data/img/'\r\n",
        "dataset = 0\r\n",
        "# [S1, S1, S3, S2, S2]\r\n",
        "fpath = ['offaxis_10_27_2020/tf', 'offaxis_s1_11_30_2020/tf', \r\n",
        "         'offaxis_s3_11_30_2020/tf', 'offaxis_11_12_2020/tf',\r\n",
        "         'onaxis_11_18_2020/tf'][dataset]\r\n",
        "\r\n",
        "##### GLOBAL #####\r\n",
        "trim = 1500\r\n",
        "BIN_NUM = 10"
      ],
      "execution_count": 191,
      "outputs": []
    },
    {
      "cell_type": "code",
      "metadata": {
        "colab": {
          "base_uri": "https://localhost:8080/"
        },
        "id": "tclH4bsD6l1C",
        "outputId": "4a75188e-f34f-4f79-a81f-8da0d17c3c43"
      },
      "source": [
        "import tensorflow as tf\r\n",
        "from pathlib import Path\r\n",
        "\r\n",
        "def load_dataset(path):\r\n",
        "    return (tf.data.Dataset.list_files(str(Path(path) / '*'), shuffle=False)\r\n",
        "        # Note: cycle_length=1 ensures that sessions are loaded sequentially.\r\n",
        "        # If sessions can be intermingled, then cycle_length can be increased for better performance.\r\n",
        "        .interleave(_load_session, cycle_length=1, num_parallel_calls=tf.data.AUTOTUNE)\r\n",
        "    )\r\n",
        "\r\n",
        "@tf.function\r\n",
        "def _load_session(path):\r\n",
        "    name = tf.strings.split(tf.strings.split(path, '/')[-1], '\\\\')[-1]\r\n",
        "\r\n",
        "    @tf.function\r\n",
        "    def _label(data):\r\n",
        "        out = dict(data)\r\n",
        "        out['dataset'] = name\r\n",
        "        return out\r\n",
        "\r\n",
        "    ds = tf.data.experimental.load(\r\n",
        "        path,\r\n",
        "        dict(\r\n",
        "            data=tf.TensorSpec((None, None), dtype=tf.float32),\r\n",
        "            time=tf.TensorSpec((), dtype=tf.float64),\r\n",
        "            stimulus=tf.TensorSpec((), dtype=tf.bool),\r\n",
        "            ekg=tf.TensorSpec((), dtype=tf.float32),\r\n",
        "            ppg=tf.TensorSpec((), dtype=tf.float32),\r\n",
        "        ),\r\n",
        "    )\r\n",
        "    return ds.map(_label, num_parallel_calls=tf.data.AUTOTUNE)\r\n",
        "\r\n",
        "ds = load_dataset(dirpath + fpath)\r\n",
        "ds"
      ],
      "execution_count": 192,
      "outputs": [
        {
          "output_type": "execute_result",
          "data": {
            "text/plain": [
              "<ParallelInterleaveDataset shapes: {data: (None, None), time: (), stimulus: (), ekg: (), ppg: (), dataset: ()}, types: {data: tf.float32, time: tf.float64, stimulus: tf.bool, ekg: tf.float32, ppg: tf.float32, dataset: tf.string}>"
            ]
          },
          "metadata": {
            "tags": []
          },
          "execution_count": 192
        }
      ]
    },
    {
      "cell_type": "code",
      "metadata": {
        "id": "22Ba1YueF3MT"
      },
      "source": [
        "import matplotlib.pyplot as plt\r\n",
        "import matplotlib\r\n",
        "# matplotlib.use('Agg')\r\n",
        "from tqdm.notebook import tqdm\r\n",
        "import numpy as np\r\n",
        "import pandas as pd\r\n",
        "from scipy import signal\r\n",
        "# from IPython.display import clear_output\r\n",
        "import pickle\r\n",
        "import gc\r\n",
        "import seaborn as sns"
      ],
      "execution_count": 193,
      "outputs": []
    },
    {
      "cell_type": "code",
      "metadata": {
        "colab": {
          "base_uri": "https://localhost:8080/"
        },
        "id": "QWV00Xchwcz0",
        "outputId": "a558f9dd-5dd5-4fe7-c46d-c7c878692e7e"
      },
      "source": [
        "from zipfile import ZipFile\r\n",
        "\r\n",
        "if os.path.exists('hyppo-master'):\r\n",
        "    print('HYPPO ALREADY INSTALLED')\r\n",
        "else:\r\n",
        "    try:\r\n",
        "        with ZipFile(dirpath2 + 'hyppo-master.zip', 'r') as zipObj:\r\n",
        "            # Extract all the contents of zip file in current directory\r\n",
        "            zipObj.extractall()\r\n",
        "\r\n",
        "        # % git clone https://github.com/neurodata/hyppo\r\n",
        "        %cd hyppo-master\r\n",
        "        %pip install .\r\n",
        "        %cd ..\r\n",
        "    except:\r\n",
        "        print('ZIP FILE DOES NOT EXIST')"
      ],
      "execution_count": 194,
      "outputs": [
        {
          "output_type": "stream",
          "text": [
            "HYPPO ALREADY INSTALLED\n"
          ],
          "name": "stdout"
        }
      ]
    },
    {
      "cell_type": "code",
      "metadata": {
        "id": "iPDI59yed7wf"
      },
      "source": [
        "# %pip install hyppo # does not have KMERF yet\r\n",
        "import hyppo"
      ],
      "execution_count": 195,
      "outputs": []
    },
    {
      "cell_type": "code",
      "metadata": {
        "id": "s_dYOVAwIURv"
      },
      "source": [
        "def compute_ROI(ds1):\r\n",
        "\r\n",
        "    origin = [0.5, 0.5]\r\n",
        "    radius = 0.3\r\n",
        "    holograms = tf.convert_to_tensor(ds1, tf.float32)\r\n",
        "    shape = [64, 64]#tf.shape(holograms)[1:]\r\n",
        "\r\n",
        "    x, y = tf.meshgrid(\r\n",
        "        tf.linspace(0. - origin[0], 1. - origin[0], shape[0]),\r\n",
        "        tf.linspace(0. - origin[1], 1. - origin[1], shape[1]),\r\n",
        "    )\r\n",
        "    grid = tf.sqrt(x**2 + y**2)\r\n",
        "    mask = grid <= radius\r\n",
        "\r\n",
        "    region = tf.boolean_mask(holograms, mask, axis=0)\r\n",
        "    mean = tf.math.reduce_mean(region, axis=-1)\r\n",
        "\r\n",
        "    return mean, mask"
      ],
      "execution_count": 7,
      "outputs": []
    },
    {
      "cell_type": "code",
      "metadata": {
        "id": "_nRJ3O1acRnl",
        "colab": {
          "base_uri": "https://localhost:8080/",
          "height": 49,
          "referenced_widgets": [
            "fd53fb27e31d485aa04cf8e978de2534",
            "344d4892d33c4d7ba4f0b2f30d4f7b02",
            "68d8619d3c7e4a699c02c4564813e363",
            "73e5be27af524e4b866856c9733144b9",
            "1e4b3f235e1e4921b7dbfc0dff9f4df3",
            "cd57743bbe2245f7ab02458cc80a6c52",
            "83a0ebd3065c40db828262349c7243d3",
            "88947b43a4704c14a727b3c3a67f07ce"
          ]
        },
        "outputId": "b01694eb-6738-4ad5-e1e6-d269dec95b46"
      },
      "source": [
        "filename = ['ds_1027_s1.pickle', 'ds_1130_s1.pickle', 'ds_1130_s3.pickle', 'ds_1112_s2.pickle', 'ds_1118_s2.pickle']\r\n",
        "filename = dirpath2 + filename[dataset]\r\n",
        "\r\n",
        "if os.path.exists(filename):\r\n",
        "    with open(filename, 'rb') as f:\r\n",
        "        ds1 = pickle.load(f, encoding='bytes')\r\n",
        "else:\r\n",
        "    ds1 = [[],[],[],[],[],[],[]]\r\n",
        "\r\n",
        "    for idx, data in enumerate(tqdm(ds)):\r\n",
        "        # if data['dataset'] == bytes(b'AQ'):\r\n",
        "        temp = data['data'].numpy()\r\n",
        "        # ds1[0].append(temp)\r\n",
        "        ds1[1].append(data['time'].numpy())\r\n",
        "        ds1[2].append(data['stimulus'].numpy())\r\n",
        "        ds1[3].append(data['dataset'].numpy())\r\n",
        "        ds1[4].append(data['ekg'].numpy())\r\n",
        "        ds1[5].append(data['ppg'].numpy())\r\n",
        "        roi, _ = compute_ROI(temp) # compute ROI for all range\r\n",
        "        ds1[6].append(roi.numpy())\r\n",
        "\r\n",
        "    with open(filename, 'wb') as f:\r\n",
        "        pickle.dump(ds1, f)"
      ],
      "execution_count": null,
      "outputs": [
        {
          "output_type": "display_data",
          "data": {
            "application/vnd.jupyter.widget-view+json": {
              "model_id": "fd53fb27e31d485aa04cf8e978de2534",
              "version_minor": 0,
              "version_major": 2
            },
            "text/plain": [
              "HBox(children=(FloatProgress(value=1.0, bar_style='info', max=1.0), HTML(value='')))"
            ]
          },
          "metadata": {
            "tags": []
          }
        }
      ]
    },
    {
      "cell_type": "code",
      "metadata": {
        "id": "ngsM8zJaIC2Y"
      },
      "source": [
        "# data, time, stimulus, dataset, ekg, ppg"
      ],
      "execution_count": 137,
      "outputs": []
    },
    {
      "cell_type": "code",
      "metadata": {
        "id": "-Mi8s7GqOuBh"
      },
      "source": [
        "for data in ds:\r\n",
        "    mean, mask = compute_ROI(data['data'].numpy())\r\n",
        "    sample_data = data['data'].numpy()\r\n",
        "    break"
      ],
      "execution_count": 138,
      "outputs": []
    },
    {
      "cell_type": "code",
      "metadata": {
        "colab": {
          "base_uri": "https://localhost:8080/",
          "height": 319
        },
        "id": "Z-DDbOgXLBuj",
        "outputId": "846df667-692e-42e1-bd29-d4d954cbd43e"
      },
      "source": [
        "fig, (ax1,ax2,ax3) = plt.subplots(1,3, figsize=(15,5))\r\n",
        "\r\n",
        "ax1.imshow(sample_data)\r\n",
        "ax2.imshow(mask)\r\n",
        "\r\n",
        "ax3.imshow(sample_data)\r\n",
        "ax3.imshow(mask, alpha=0.5)\r\n",
        "\r\n",
        "labels = ['Hologram', 'Mask', 'Overlap']\r\n",
        "\r\n",
        "for i, lab in enumerate((ax1,ax2,ax3)):\r\n",
        "    lab.set_title(labels[i], fontsize=25)\r\n",
        "\r\n",
        "fig.savefig(dirpathimg + 'hologram_mask.png', bbox_inches='tight')"
      ],
      "execution_count": 141,
      "outputs": [
        {
          "output_type": "display_data",
          "data": {
            "image/png": "[encoded data removed]",
            "text/plain": [
              "<Figure size 1080x360 with 3 Axes>"
            ]
          },
          "metadata": {
            "tags": [],
            "needs_background": "light"
          }
        }
      ]
    },
    {
      "cell_type": "code",
      "metadata": {
        "colab": {
          "base_uri": "https://localhost:8080/"
        },
        "id": "Qw3inGuVsQW6",
        "outputId": "3a372241-6a53-4e35-a8e7-a0120dc4eacc"
      },
      "source": [
        "ds1 = np.array(ds1)"
      ],
      "execution_count": 142,
      "outputs": [
        {
          "output_type": "stream",
          "text": [
            "/usr/local/lib/python3.6/dist-packages/ipykernel_launcher.py:1: VisibleDeprecationWarning: Creating an ndarray from ragged nested sequences (which is a list-or-tuple of lists-or-tuples-or ndarrays with different lengths or shapes) is deprecated. If you meant to do this, you must specify 'dtype=object' when creating the ndarray\n",
            "  \"\"\"Entry point for launching an IPython kernel.\n"
          ],
          "name": "stderr"
        }
      ]
    },
    {
      "cell_type": "code",
      "metadata": {
        "colab": {
          "base_uri": "https://localhost:8080/"
        },
        "id": "LFFW_fTdHXVv",
        "outputId": "dae11731-133e-4ecd-9c52-86eb79e9cd7c"
      },
      "source": [
        "for i in ds1:\r\n",
        "    try: print(i[0])\r\n",
        "    except: print([])"
      ],
      "execution_count": 143,
      "outputs": [
        {
          "output_type": "stream",
          "text": [
            "[]\n",
            "0.000227000017706\n",
            "False\n",
            "b'AC'\n",
            "0.411377\n",
            "2.2644\n",
            "18.9026\n"
          ],
          "name": "stdout"
        }
      ]
    },
    {
      "cell_type": "code",
      "metadata": {
        "colab": {
          "base_uri": "https://localhost:8080/"
        },
        "id": "O_KGdh-XlT65",
        "outputId": "ae49fb8a-4c43-48c0-e636-0d0223084ef0"
      },
      "source": [
        "# only one dataset type\r\n",
        "idx = np.unique(ds1[3], return_index=True)\r\n",
        "idx[0], set(ds1[3])"
      ],
      "execution_count": 144,
      "outputs": [
        {
          "output_type": "execute_result",
          "data": {
            "text/plain": [
              "(array([b'AC', b'AD', b'AE', b'AF', b'AG', b'AH', b'AI', b'AJ', b'AK', b'AL'],\n",
              "       dtype='|S2'),\n",
              " {b'AC', b'AD', b'AE', b'AF', b'AG', b'AH', b'AI', b'AJ', b'AK', b'AL'})"
            ]
          },
          "metadata": {
            "tags": []
          },
          "execution_count": 144
        }
      ]
    },
    {
      "cell_type": "code",
      "metadata": {
        "id": "D8WvtePJ3EGF"
      },
      "source": [
        "def normalize(dat):\r\n",
        "    return (dat - dat.min()) / (dat.max() - dat.min())"
      ],
      "execution_count": 145,
      "outputs": []
    },
    {
      "cell_type": "code",
      "metadata": {
        "colab": {
          "base_uri": "https://localhost:8080/",
          "height": 340
        },
        "id": "cGfRu8CmS7Ui",
        "outputId": "789d4e43-7573-4218-a78f-f093bb3edcad"
      },
      "source": [
        "# ppg vs ekg\r\n",
        "fig, (ax1, ax2, ax3, ax4) = plt.subplots(1,4, figsize=(20,5))\r\n",
        "\r\n",
        "nlim = 5000\r\n",
        "\r\n",
        "ax1.plot((np.array(ds1[6]))[:nlim])\r\n",
        "ax1.set_title('ROI', fontsize=18)\r\n",
        "ax2.plot((np.array(ds1[4]))[:nlim])\r\n",
        "ax2.set_title('EKG', fontsize=18)\r\n",
        "ax3.plot((np.array(ds1[5]))[:nlim])\r\n",
        "ax3.set_title('PPG', fontsize=18)\r\n",
        "\r\n",
        "ax4.plot(normalize(np.array(ds1[4])[:nlim]))\r\n",
        "ax4.plot(normalize(np.array(ds1[5])[:nlim])**2)\r\n",
        "ax4.plot(normalize(np.array(ds1[6])[:nlim]), alpha=0.4)\r\n",
        "# ax4.plot(normalize(np.array(ds1[6])[aq][:nlim])-normalize(np.array(ds1[4])[aq][:nlim]))\r\n",
        "ax4.set_title('ALL(normalized)', fontsize=18)\r\n",
        "\r\n",
        "plt.savefig(dirpathimg + 'overlap_original.png', bbox_inches='tight')"
      ],
      "execution_count": 146,
      "outputs": [
        {
          "output_type": "display_data",
          "data": {
            "image/png": "[encoded data removed]",
            "text/plain": [
              "<Figure size 1440x360 with 4 Axes>"
            ]
          },
          "metadata": {
            "tags": [],
            "needs_background": "light"
          }
        }
      ]
    },
    {
      "cell_type": "code",
      "metadata": {
        "id": "R51-gk8986Wn"
      },
      "source": [
        "new_ds = np.array([])\r\n",
        "new_ds = [[] for i in range(7)]\r\n",
        "\r\n",
        "for i, dat in enumerate(ds1):\r\n",
        "    new_ds[i] = np.array(dat)"
      ],
      "execution_count": 147,
      "outputs": []
    },
    {
      "cell_type": "code",
      "metadata": {
        "colab": {
          "base_uri": "https://localhost:8080/"
        },
        "id": "KYIUH4PV_IfE",
        "outputId": "2ffc086f-385e-4704-8897-8dcef7460df5"
      },
      "source": [
        "# binarize boolean\r\n",
        "new_ds[2] = new_ds[2] + 0\r\n",
        "new_ds[2]"
      ],
      "execution_count": 148,
      "outputs": [
        {
          "output_type": "execute_result",
          "data": {
            "text/plain": [
              "array([0, 0, 0, ..., 0, 0, 0])"
            ]
          },
          "metadata": {
            "tags": []
          },
          "execution_count": 148
        }
      ]
    },
    {
      "cell_type": "code",
      "metadata": {
        "id": "vflgtICX_Un7"
      },
      "source": [
        "# data, time, stimulus, dataset, ekg, ppg\r\n",
        "ds_by_session = [[] for i in range(10)]\r\n",
        "\r\n",
        "for i, b_id in enumerate(set(new_ds[3])):\r\n",
        "    idx = new_ds[3] == b_id\r\n",
        "    ds_by_session[i].append(new_ds[1][idx]) #time\r\n",
        "    ds_by_session[i].append(new_ds[2][idx]) #stimulus\r\n",
        "    ds_by_session[i].append(np.array([new_ds[6][idx], new_ds[4][idx], new_ds[5][idx]]).T) #ekg, ppg, hologram ROI"
      ],
      "execution_count": 149,
      "outputs": []
    },
    {
      "cell_type": "code",
      "metadata": {
        "id": "2wVmH7JWh0pm"
      },
      "source": [
        "def check_discontinuity(data):\r\n",
        "    '''input is a list of 0 and 1'''\r\n",
        "    new_list = [[], []]\r\n",
        "    temp = []\r\n",
        "    for i in range(len(data)-1):\r\n",
        "        temp.append(i)\r\n",
        "        if data[i] != data[i+1]:\r\n",
        "            new_list[data[i]].append(temp)\r\n",
        "            temp = []\r\n",
        "    if len(temp) != 0:\r\n",
        "        new_list[data[temp[0]]].append(temp)\r\n",
        "    return new_list"
      ],
      "execution_count": 150,
      "outputs": []
    },
    {
      "cell_type": "code",
      "metadata": {
        "id": "b5bJlH8Zexyv"
      },
      "source": [
        "# raw/detrend plots\r\n",
        "if False:\r\n",
        "    for sess in range(10):\r\n",
        "\r\n",
        "        t_i = np.arange(0,ds_by_session[sess][2][:,0].shape[0])\r\n",
        "        t = ds_by_session[sess][1]\r\n",
        "\r\n",
        "        fig, axs = plt.subplots(3,2, figsize=(14*2,7*3))\r\n",
        "\r\n",
        "        for i in range(6):\r\n",
        "            r = i%3\r\n",
        "            c = i//3 \r\n",
        "        \r\n",
        "            if c == 0:\r\n",
        "                axs[r,c].scatter(t_i[trim:-trim], ds_by_session[sess][2][:,r][trim:-trim], ls='-', marker='.', s=1, c=t[trim:-trim])\r\n",
        "                axs[r,c].plot(t_i[trim:-trim], trends[sess][r][trim:-trim], 'r-')\r\n",
        "            else:\r\n",
        "                axs[r,c].scatter(t_i[trim:-trim], detrended_wave[sess][r][trim:-trim], ls='-', marker='.', s=1, c=t[trim:-trim])\r\n",
        "\r\n",
        "        labels = ['hologram ROI', 'EKG', 'PPG']\r\n",
        "\r\n",
        "        for i, lab in enumerate((ax1,ax2,ax3)):\r\n",
        "            lab.set_title(labels[i], fontsize=25)\r\n",
        "\r\n",
        "        fig.savefig(dirpathimg + f'vidualization/data_visualization_{sess}.png', bbox_inches='tight')"
      ],
      "execution_count": 154,
      "outputs": []
    },
    {
      "cell_type": "markdown",
      "metadata": {
        "id": "9ixwU_RUZHDw"
      },
      "source": [
        "## Detrending"
      ]
    },
    {
      "cell_type": "code",
      "metadata": {
        "id": "Jr3kCMLaZuOO"
      },
      "source": [
        "from scipy import signal\r\n",
        "import statsmodels.api as sm\r\n",
        "try:\r\n",
        "    from obspy.signal.detrend import polynomial\r\n",
        "except:\r\n",
        "    %pip install obspy\r\n",
        "    from obspy.signal.detrend import polynomial  \r\n",
        "\r\n",
        "import warnings\r\n",
        "warnings.simplefilter('ignore', np.RankWarning)  "
      ],
      "execution_count": 158,
      "outputs": []
    },
    {
      "cell_type": "code",
      "metadata": {
        "id": "h2jtgx2Ibcf4"
      },
      "source": [
        "# fitting trends\r\n",
        "from IPython.display import clear_output\r\n",
        "\r\n",
        "trends = []\r\n",
        "\r\n",
        "for sess in range(10):\r\n",
        "    trends.append([])\r\n",
        "    for i in range(3):\r\n",
        "        data = ds_by_session[sess][2][:,i]\r\n",
        "        x = np.arange(len(data))\r\n",
        "        fit = np.polyval(np.polyfit(x, data, deg=15), x);\r\n",
        "        trends[sess].append(fit)\r\n",
        "        \r\n",
        "clear_output()"
      ],
      "execution_count": 159,
      "outputs": []
    },
    {
      "cell_type": "code",
      "metadata": {
        "colab": {
          "base_uri": "https://localhost:8080/",
          "height": 1000
        },
        "id": "xEGWJQKXiqjZ",
        "outputId": "db569a19-0937-44b8-e395-99f3b471b09a"
      },
      "source": [
        "detrended_wave = []\r\n",
        "plot = True\r\n",
        "\r\n",
        "for sess in range(10):\r\n",
        "    detrended_wave.append([])\r\n",
        "    for i in range(3):\r\n",
        "        ds_detrend_ppg = ds_by_session[sess][2][:,i].copy()\r\n",
        "        if plot:\r\n",
        "            detrended_wave[sess].append(polynomial(ds_detrend_ppg,15,plot=plot))            \r\n",
        "        else:\r\n",
        "            detrended_wave[sess].append(polynomial(ds_detrend_ppg,15,plot=plot))\r\n",
        "    if plot: plot = False"
      ],
      "execution_count": 160,
      "outputs": [
        {
          "output_type": "display_data",
          "data": {
            "image/png": "[encoded data removed]",
            "text/plain": [
              "<Figure size 576x360 with 2 Axes>"
            ]
          },
          "metadata": {
            "tags": [],
            "needs_background": "light"
          }
        },
        {
          "output_type": "display_data",
          "data": {
            "image/png": "[encoded data removed]",
            "text/plain": [
              "<Figure size 576x360 with 2 Axes>"
            ]
          },
          "metadata": {
            "tags": [],
            "needs_background": "light"
          }
        },
        {
          "output_type": "display_data",
          "data": {
            "image/png": "[encoded data removed]",
            "text/plain": [
              "<Figure size 576x360 with 2 Axes>"
            ]
          },
          "metadata": {
            "tags": [],
            "needs_background": "light"
          }
        }
      ]
    },
    {
      "cell_type": "code",
      "metadata": {
        "colab": {
          "base_uri": "https://localhost:8080/",
          "height": 340
        },
        "id": "Gei96qQ2Zp1Z",
        "outputId": "da386063-6e4a-428b-c966-0252c685d4cf"
      },
      "source": [
        "# ppg vs ekg (out of sync possibly due to the slanted nature of PPG waveform)\r\n",
        "fig, (ax1, ax2, ax3, ax4) = plt.subplots(1,4, figsize=(20,5))\r\n",
        "\r\n",
        "nlim = 5000\r\n",
        "dsview = ds1\r\n",
        "\r\n",
        "ax1.set_title('original PPG', fontsize=18)\r\n",
        "ax1.plot((np.array(ds1[5]))[:nlim], 'b-')\r\n",
        "\r\n",
        "ax2.set_title('detrended PPG', fontsize=18)\r\n",
        "ax2.plot(ds_detrend_ppg[:nlim][::1], 'r-')\r\n",
        "\r\n",
        "ax3.set_title('Overlap', fontsize=18)\r\n",
        "ax3.plot(normalize(np.array(ds1[5])[:nlim]), 'b-')\r\n",
        "ax3.plot(normalize(ds_detrend_ppg[:nlim][::1]), 'r-')\r\n",
        "\r\n",
        "ax4.plot(normalize(np.array(ds1[6])[:nlim]),'g-')\r\n",
        "ax4.plot(normalize(np.array(ds1[5])[:nlim]), 'b-')\r\n",
        "ax4.plot(normalize(np.array(ds_detrend)[:nlim][::1]), 'r-', alpha=1.0)\r\n",
        "ax4.set_title('Overlap(+ROI)', fontsize=18)\r\n",
        "\r\n",
        "plt.savefig(dirpathimg + 'detrended.png', bbox_inches='tight')"
      ],
      "execution_count": 163,
      "outputs": [
        {
          "output_type": "display_data",
          "data": {
            "image/png": "[encoded data removed]",
            "text/plain": [
              "<Figure size 1440x360 with 4 Axes>"
            ]
          },
          "metadata": {
            "tags": [],
            "needs_background": "light"
          }
        }
      ]
    },
    {
      "cell_type": "code",
      "metadata": {
        "id": "ov9rKXzgqpUN"
      },
      "source": [
        "#detrend the data\r\n",
        "for j in range(3):\r\n",
        "    for i in range(10):\r\n",
        "        polynomial(ds_by_session[i][2][:,j],15);\r\n",
        "clear_output()"
      ],
      "execution_count": 164,
      "outputs": []
    },
    {
      "cell_type": "markdown",
      "metadata": {
        "id": "e-7sRDmBOfgf"
      },
      "source": [
        "## Binning and fast dcorr"
      ]
    },
    {
      "cell_type": "code",
      "metadata": {
        "id": "J1mGfet0vRgX"
      },
      "source": [
        "#instantiate hyppo packages \r\n",
        "dcorr = hyppo.independence.Dcorr()\r\n",
        "mgc   = hyppo.independence.MGC()\r\n",
        "kmerf = hyppo.independence.KMERF()"
      ],
      "execution_count": 165,
      "outputs": []
    },
    {
      "cell_type": "code",
      "metadata": {
        "colab": {
          "base_uri": "https://localhost:8080/"
        },
        "id": "_8ua2DAzGEHW",
        "outputId": "5cd07fed-a6a1-4464-fb5c-7b11f2a595f7"
      },
      "source": [
        "for i in range(10):\r\n",
        "    print(list(set(ds1[3]))[i], ':', ds_by_session[i][0].shape[0])"
      ],
      "execution_count": 166,
      "outputs": [
        {
          "output_type": "stream",
          "text": [
            "b'AF' : 68233\n",
            "b'AE' : 68557\n",
            "b'AG' : 68237\n",
            "b'AL' : 68305\n",
            "b'AH' : 68553\n",
            "b'AJ' : 68177\n",
            "b'AK' : 68603\n",
            "b'AC' : 68469\n",
            "b'AI' : 68612\n",
            "b'AD' : 68623\n"
          ],
          "name": "stdout"
        }
      ]
    },
    {
      "cell_type": "code",
      "metadata": {
        "colab": {
          "base_uri": "https://localhost:8080/"
        },
        "id": "p61GmoSSMg7J",
        "outputId": "2620a0bb-4ccf-45ab-a12a-ed92a8e077f5"
      },
      "source": [
        "#size before binning\r\n",
        "ds_by_session[0][0].shape"
      ],
      "execution_count": 167,
      "outputs": [
        {
          "output_type": "execute_result",
          "data": {
            "text/plain": [
              "(68233,)"
            ]
          },
          "metadata": {
            "tags": []
          },
          "execution_count": 167
        }
      ]
    },
    {
      "cell_type": "code",
      "metadata": {
        "id": "mRHmvDJC3BD5"
      },
      "source": [
        "def binning(ds, k=10):\r\n",
        "    '''follows ds_by_session structure\r\n",
        "    ds = narray embedded in a list\r\n",
        "    k = number of bins\r\n",
        "    '''\r\n",
        "    # new_ds = np.array([])\r\n",
        "    new_ds = []\r\n",
        "    st_lst = [] #new baseline vs stimulus binary\r\n",
        "\r\n",
        "    for s in tqdm(range(len(ds))): #session\r\n",
        "        new_ds.append([])\r\n",
        "        st_lst.append([])\r\n",
        "\r\n",
        "        for i in range(ds[s][2].shape[0]-k): #[time, stimulus, (roi, ekg, ppg)]\r\n",
        "            st = np.unique(ds[s][1][i:i+k])\r\n",
        "            if st.size == 1:\r\n",
        "                st_lst[s].append(st[0])\r\n",
        "                new_ds[s].append(ds[s][2][i:i+k].tolist())\r\n",
        "                \r\n",
        "    return new_ds, st_lst"
      ],
      "execution_count": 168,
      "outputs": []
    },
    {
      "cell_type": "code",
      "metadata": {
        "id": "qj70j8UecUa7",
        "colab": {
          "base_uri": "https://localhost:8080/"
        },
        "outputId": "a27fc00e-ae24-4f04-9799-11b9105df95c"
      },
      "source": [
        "#dcorr testing pipeline\r\n",
        "dsetID = ['1027', '1130_s1', '1130_s3', '1112', '1118'][dataset]\r\n",
        "bypass = True\r\n",
        "results = []\r\n",
        "\r\n",
        "# filename = dirpath2 + f'results_{dsetID}_dcorr_k={BIN_NUM}.pickle' #original\r\n",
        "# filename = dirpath2 + f'results_{dsetID}_dcorr_k={BIN_NUM}_detrend_all.pickle' #detrended\r\n",
        "filename = dirpath2 + f'results_{dsetID}_dcorr_k={BIN_NUM}_detrend_all_trim.pickle' #detrended and trimmed\r\n",
        "\r\n",
        "if os.path.exists(filename) and bypass:\r\n",
        "    with open(filename, 'rb') as f:\r\n",
        "        results = pickle.load(f, encoding='bytes')\r\n",
        "        print(f'[{filename}] LOADED')\r\n",
        "else:    \r\n",
        "    ds_by_session_bin, st_lst = binning(ds_by_session, k=BIN_NUM)\r\n",
        "\r\n",
        "    for i in tqdm(range(10)):\r\n",
        "        new_idx = np.arange(0,len(ds_by_session_bin[i]), 6) #choose every 6th\r\n",
        "        new_x = np.array(ds_by_session_bin[i])[new_idx][trim:-trim]\r\n",
        "        new_y = np.array(st_lst[i])[new_idx][trim:-trim]\r\n",
        "        results.append([])\r\n",
        "        new_wave = []\r\n",
        "        for j in tqdm(range(3), leave=False):        \r\n",
        "            results[i].append(dcorr.test(new_x[:,:,j],new_y, reps=0))\r\n",
        "            # new_wave.append(normalize(new_x[:,:,j]))\r\n",
        "        # r_e = new_wave[2] - new_wave[0]\r\n",
        "        # r_p = new_wave[2] - new_wave[1]\r\n",
        "        # r_ep = new_wave[2] - new_wave[1] - new_wave[0]\r\n",
        "        # for k in tqdm([r_e, r_p, r_ep], leave=False):        \r\n",
        "        #     results[i].append(dcorr.test(k,new_y, reps=0))\r\n",
        "\r\n",
        "    with open(filename, 'wb') as f:\r\n",
        "        pickle.dump(results, f)"
      ],
      "execution_count": 172,
      "outputs": [
        {
          "output_type": "stream",
          "text": [
            "[/content/drive/MyDrive/MindX_Data/dat/results_1130_s1_dcorr_k=10_detrend_all_trim.pickle] LOADED\n"
          ],
          "name": "stdout"
        }
      ]
    },
    {
      "cell_type": "code",
      "metadata": {
        "id": "oKnVnELUW05R"
      },
      "source": [
        "# ds_by_session_bin[0][2000], len(st_lst[0])\r\n",
        "# np.array(ds_by_session_bin[0])[np.array(st_lst[0]) == 0].shape\r\n",
        "# df_table = pd.DataFrame(columns=['stat(baseline)', 'p-value(baseline)', 'stat(stimulus)', 'p-value(stimulus)'])\r\n",
        "\r\n",
        "# for sess in range(10):\r\n",
        "#     np.array(ds_by_session_bin[sess])[np.array(st_lst[sess]) == 0]\r\n",
        "#     df_table.append()"
      ],
      "execution_count": 35,
      "outputs": []
    },
    {
      "cell_type": "code",
      "metadata": {
        "id": "AjT8-ML7T8S5"
      },
      "source": [
        "# get rid of extremely low p-val\r\n",
        "results2 = np.array(results)\r\n",
        "\r\n",
        "for i, dat in enumerate(results2[:,:,1]):\r\n",
        "    results2[:,:,1][i][dat < 0.0001] = 0.0001"
      ],
      "execution_count": 173,
      "outputs": []
    },
    {
      "cell_type": "code",
      "metadata": {
        "id": "mcf_2FE9NXna"
      },
      "source": [
        "match1 = np.where(results2[:,0,1] < 0.001)[0]\r\n",
        "match2 = np.where(results2[:,1,1] < 0.001)[0]"
      ],
      "execution_count": 174,
      "outputs": []
    },
    {
      "cell_type": "code",
      "metadata": {
        "colab": {
          "base_uri": "https://localhost:8080/",
          "height": 266
        },
        "id": "jfzFjcJW8DHt",
        "outputId": "7b4c51b3-f02d-4153-f8f0-64e04468a63f"
      },
      "source": [
        "df_match = pd.DataFrame(np.vstack([results2[match1][:,:,1], results2[match2][:,:,1]]), columns=['ROI', 'EKG', 'PPG'])\r\n",
        "df_match.index = ['Session(ROI) #' + str(i) for i in match1] + ['Session(EKG) #' + str(i) for i in match2]\r\n",
        "df_match"
      ],
      "execution_count": 175,
      "outputs": [
        {
          "output_type": "execute_result",
          "data": {
            "text/html": [
              "<div>\n",
              "<style scoped>\n",
              "    .dataframe tbody tr th:only-of-type {\n",
              "        vertical-align: middle;\n",
              "    }\n",
              "\n",
              "    .dataframe tbody tr th {\n",
              "        vertical-align: top;\n",
              "    }\n",
              "\n",
              "    .dataframe thead th {\n",
              "        text-align: right;\n",
              "    }\n",
              "</style>\n",
              "<table border=\"1\" class=\"dataframe\">\n",
              "  <thead>\n",
              "    <tr style=\"text-align: right;\">\n",
              "      <th></th>\n",
              "      <th>ROI</th>\n",
              "      <th>EKG</th>\n",
              "      <th>PPG</th>\n",
              "    </tr>\n",
              "  </thead>\n",
              "  <tbody>\n",
              "    <tr>\n",
              "      <th>Session(ROI) #3</th>\n",
              "      <td>0.000928</td>\n",
              "      <td>0.000100</td>\n",
              "      <td>0.000100</td>\n",
              "    </tr>\n",
              "    <tr>\n",
              "      <th>Session(ROI) #5</th>\n",
              "      <td>0.000100</td>\n",
              "      <td>0.028997</td>\n",
              "      <td>0.000225</td>\n",
              "    </tr>\n",
              "    <tr>\n",
              "      <th>Session(ROI) #8</th>\n",
              "      <td>0.000100</td>\n",
              "      <td>0.000100</td>\n",
              "      <td>0.000100</td>\n",
              "    </tr>\n",
              "    <tr>\n",
              "      <th>Session(EKG) #0</th>\n",
              "      <td>0.089177</td>\n",
              "      <td>0.000100</td>\n",
              "      <td>0.000100</td>\n",
              "    </tr>\n",
              "    <tr>\n",
              "      <th>Session(EKG) #3</th>\n",
              "      <td>0.000928</td>\n",
              "      <td>0.000100</td>\n",
              "      <td>0.000100</td>\n",
              "    </tr>\n",
              "    <tr>\n",
              "      <th>Session(EKG) #4</th>\n",
              "      <td>0.099063</td>\n",
              "      <td>0.000933</td>\n",
              "      <td>0.000100</td>\n",
              "    </tr>\n",
              "    <tr>\n",
              "      <th>Session(EKG) #8</th>\n",
              "      <td>0.000100</td>\n",
              "      <td>0.000100</td>\n",
              "      <td>0.000100</td>\n",
              "    </tr>\n",
              "  </tbody>\n",
              "</table>\n",
              "</div>"
            ],
            "text/plain": [
              "                      ROI       EKG       PPG\n",
              "Session(ROI) #3  0.000928  0.000100  0.000100\n",
              "Session(ROI) #5  0.000100  0.028997  0.000225\n",
              "Session(ROI) #8  0.000100  0.000100  0.000100\n",
              "Session(EKG) #0  0.089177  0.000100  0.000100\n",
              "Session(EKG) #3  0.000928  0.000100  0.000100\n",
              "Session(EKG) #4  0.099063  0.000933  0.000100\n",
              "Session(EKG) #8  0.000100  0.000100  0.000100"
            ]
          },
          "metadata": {
            "tags": []
          },
          "execution_count": 175
        }
      ]
    },
    {
      "cell_type": "code",
      "metadata": {
        "colab": {
          "base_uri": "https://localhost:8080/",
          "height": 111
        },
        "id": "ajnIwd8APwV4",
        "outputId": "3c0107ea-adf1-41ab-af15-c813ee640cc8"
      },
      "source": [
        "match3 = np.intersect1d(match1, match2)\r\n",
        "df_match = pd.DataFrame(results2[match3][:,:,1], columns=['ROI', 'EKG', 'PPG'])\r\n",
        "df_match.index = ['Session(BOTH) #' + str(i) for i in match3]\r\n",
        "df_match"
      ],
      "execution_count": 176,
      "outputs": [
        {
          "output_type": "execute_result",
          "data": {
            "text/html": [
              "<div>\n",
              "<style scoped>\n",
              "    .dataframe tbody tr th:only-of-type {\n",
              "        vertical-align: middle;\n",
              "    }\n",
              "\n",
              "    .dataframe tbody tr th {\n",
              "        vertical-align: top;\n",
              "    }\n",
              "\n",
              "    .dataframe thead th {\n",
              "        text-align: right;\n",
              "    }\n",
              "</style>\n",
              "<table border=\"1\" class=\"dataframe\">\n",
              "  <thead>\n",
              "    <tr style=\"text-align: right;\">\n",
              "      <th></th>\n",
              "      <th>ROI</th>\n",
              "      <th>EKG</th>\n",
              "      <th>PPG</th>\n",
              "    </tr>\n",
              "  </thead>\n",
              "  <tbody>\n",
              "    <tr>\n",
              "      <th>Session(BOTH) #3</th>\n",
              "      <td>0.000928</td>\n",
              "      <td>0.0001</td>\n",
              "      <td>0.0001</td>\n",
              "    </tr>\n",
              "    <tr>\n",
              "      <th>Session(BOTH) #8</th>\n",
              "      <td>0.000100</td>\n",
              "      <td>0.0001</td>\n",
              "      <td>0.0001</td>\n",
              "    </tr>\n",
              "  </tbody>\n",
              "</table>\n",
              "</div>"
            ],
            "text/plain": [
              "                       ROI     EKG     PPG\n",
              "Session(BOTH) #3  0.000928  0.0001  0.0001\n",
              "Session(BOTH) #8  0.000100  0.0001  0.0001"
            ]
          },
          "metadata": {
            "tags": []
          },
          "execution_count": 176
        }
      ]
    },
    {
      "cell_type": "code",
      "metadata": {
        "id": "5pVCyjAeVT7f",
        "colab": {
          "base_uri": "https://localhost:8080/",
          "height": 503
        },
        "outputId": "57b21c21-2ed9-4801-c684-8540460a9e19"
      },
      "source": [
        "f = plt.figure(figsize=(6*3,4*2))\r\n",
        "col = ['ROI', 'EKG', 'PPG', 'ROI-EKG', 'ROI-PPG', 'ROI-EKG-PPG']\r\n",
        "\r\n",
        "gs = f.add_gridspec(1, 2)\r\n",
        "\r\n",
        "ax = f.add_subplot(gs[0, 0])\r\n",
        "ax.set_title('Dcorr Stat', fontsize=18)\r\n",
        "sns.stripplot(data=pd.DataFrame(np.array(results2)[:,:3,0],columns=col[:3])) #first three columns\r\n",
        "\r\n",
        "ax = f.add_subplot(gs[0, 1])\r\n",
        "ax.set_title('P-value', fontsize=18)\r\n",
        "plt.yscale('log')\r\n",
        "sns.stripplot(data=pd.DataFrame(np.array(results2)[:,:3,1],columns=col[:3]))\r\n",
        "\r\n",
        "plt.savefig('new_bin_dcorr_plot.png', bbox_inches='tight')"
      ],
      "execution_count": 178,
      "outputs": [
        {
          "output_type": "display_data",
          "data": {
            "image/png": "[encoded data removed]",
            "text/plain": [
              "<Figure size 1296x576 with 2 Axes>"
            ]
          },
          "metadata": {
            "tags": [],
            "needs_background": "light"
          }
        }
      ]
    },
    {
      "cell_type": "code",
      "metadata": {
        "colab": {
          "base_uri": "https://localhost:8080/",
          "height": 115,
          "referenced_widgets": [
            "5b5e40c7f8e443139706f6edda9aa1bc",
            "b6311344dead4d2bbcf56ac5dbdaeb6b",
            "1a7720838b2c4624bccc4e985b3e3d41",
            "5ec65d34c10b4627adadc0e6f96f07e6",
            "38c1a6f483e74651a3fe2a9bb096741e",
            "6196dc098fbe4961aec44c796625c12c",
            "dc49821522674432b29deecb6cf6abf8",
            "f7ab560917b5447d9bae6797feab4e7c",
            "ce660684a5264ef69b586d3aa740d9c9",
            "92b2db62790e4d209e286559ce201a62",
            "598885f5728d450cba3ef9a25de33d12",
            "1db3f151fcc1498f9fc899d6765b0362",
            "7668ff5d91894cb49432ea04d42d617b",
            "e3d310f48dcb44a68c8f437dc71d926a",
            "c708a4e075454d47ba4df5d8a0101be9",
            "02dfbc21be794c2ea79ae823418b4543"
          ]
        },
        "id": "fxj6czom5Cpc",
        "outputId": "d89d87ed-9fba-4760-9c16-7c3fe0e54c01"
      },
      "source": [
        "# concatenate X and y for pairplot\r\n",
        "newX, newY = [], []\r\n",
        "ds_by_session_bin, st_lst = binning(ds_by_session, k=BIN_NUM)\r\n",
        "\r\n",
        "for i in tqdm(range(10)):\r\n",
        "    \r\n",
        "    newX.append([])\r\n",
        "    newY.append([])\r\n",
        "    \r\n",
        "    new_idx = np.arange(0,len(ds_by_session_bin[i]), 6) #choose every 6th\r\n",
        "    new_x = np.array(ds_by_session_bin[i])[new_idx]\r\n",
        "    new_y = np.array(st_lst[i])[new_idx]\r\n",
        "    \r\n",
        "    newX[i] = new_x\r\n",
        "    newY[i] = new_y\r\n",
        "\r\n",
        "ds_by_session_bin_detrend = ds_by_session_bin.copy()"
      ],
      "execution_count": 34,
      "outputs": [
        {
          "output_type": "display_data",
          "data": {
            "application/vnd.jupyter.widget-view+json": {
              "model_id": "5b5e40c7f8e443139706f6edda9aa1bc",
              "version_minor": 0,
              "version_major": 2
            },
            "text/plain": [
              "HBox(children=(FloatProgress(value=0.0, max=10.0), HTML(value='')))"
            ]
          },
          "metadata": {
            "tags": []
          }
        },
        {
          "output_type": "stream",
          "text": [
            "\n"
          ],
          "name": "stdout"
        },
        {
          "output_type": "display_data",
          "data": {
            "application/vnd.jupyter.widget-view+json": {
              "model_id": "ce660684a5264ef69b586d3aa740d9c9",
              "version_minor": 0,
              "version_major": 2
            },
            "text/plain": [
              "HBox(children=(FloatProgress(value=0.0, max=10.0), HTML(value='')))"
            ]
          },
          "metadata": {
            "tags": []
          }
        },
        {
          "output_type": "stream",
          "text": [
            "\n"
          ],
          "name": "stdout"
        }
      ]
    },
    {
      "cell_type": "code",
      "metadata": {
        "id": "tCX3ERHQc8hk"
      },
      "source": [
        "# plotting seaborn pairplot\r\n",
        "if False:\r\n",
        "    col = [f'Column #{i+1}' for i in range(10)] + ['Labels']\r\n",
        "    for j, char in enumerate(tqdm(['ROI', 'EKG', 'PPG'])):\r\n",
        "        for i in tqdm(range(10),leave=False):\r\n",
        "            fname = dirpathimg + f'pairplot/pairplot_{char}_{i}.png'\r\n",
        "            if os.path.exists(fname):\r\n",
        "                pass\r\n",
        "            else:\r\n",
        "                fig, ax = plt.subplots(1,1)\r\n",
        "                ax = sns.set(rc={'axes.facecolor':'cornflowerblue', 'axes.grid':'False'});#, 'figure.facecolor':'cornflowerblue'\r\n",
        "                ax = sns.pairplot(pd.DataFrame(np.column_stack([newX[i][:,:,j], newY[i]]), columns=col), hue='Labels', palette=['purple','yellow'])\r\n",
        "                plt.savefig(fname, bbox_inches='tight')\r\n",
        "                \r\n",
        "                plt.cla() # Clear the current axes\r\n",
        "                plt.clf() # Clear the current figure\r\n",
        "                plt.close('all')   \r\n",
        "                plt.close(fig)\r\n",
        "                gc.collect()"
      ],
      "execution_count": 181,
      "outputs": []
    },
    {
      "cell_type": "code",
      "metadata": {
        "id": "IoqBe4kyMFag",
        "colab": {
          "base_uri": "https://localhost:8080/",
          "height": 359
        },
        "outputId": "0661ec60-5d19-488e-dafe-a1ae17e7e21f"
      },
      "source": [
        "# mean variance table\r\n",
        "col = [f'Column #{i+1}' for i in range(10)] + ['Labels']\r\n",
        "col_m = ['ROI(0)', 'ROI(1)','EKG(0)', 'EKG(1)','PPG(0)', 'PPG(1)']\r\n",
        "col = ['Value', 'Labels']\r\n",
        "\r\n",
        "df_mean = pd.DataFrame(columns=col_m)\r\n",
        "\r\n",
        "def check_neg(num):\r\n",
        "    if num < 0:\r\n",
        "        return f'({num})'\r\n",
        "    return num\r\n",
        "\r\n",
        "for i in range(10):\r\n",
        "    temp = [[]]\r\n",
        "    for j in range(3):\r\n",
        "        temp_df = pd.DataFrame(np.column_stack([newX[i][:,:,j].mean(axis=1), newY[i]]), columns=col).groupby('Labels')\r\n",
        "        mu = round(temp_df.mean(),2)\r\n",
        "        sig = round(temp_df.var(),2)\r\n",
        "        temp[0].append(f'u={check_neg(mu.iloc[0][0])}, s={check_neg(sig.iloc[0][0])}')\r\n",
        "        temp[0].append(f'u={check_neg(mu.iloc[1][0])}, s={check_neg(sig.iloc[1][0])}')\r\n",
        "    df_mean = df_mean.append(pd.DataFrame(np.array(temp), columns=col_m, index=[f'session(trial) #{i+1}']))\r\n",
        "\r\n",
        "df_mean"
      ],
      "execution_count": 180,
      "outputs": [
        {
          "output_type": "execute_result",
          "data": {
            "text/html": [
              "<div>\n",
              "<style scoped>\n",
              "    .dataframe tbody tr th:only-of-type {\n",
              "        vertical-align: middle;\n",
              "    }\n",
              "\n",
              "    .dataframe tbody tr th {\n",
              "        vertical-align: top;\n",
              "    }\n",
              "\n",
              "    .dataframe thead th {\n",
              "        text-align: right;\n",
              "    }\n",
              "</style>\n",
              "<table border=\"1\" class=\"dataframe\">\n",
              "  <thead>\n",
              "    <tr style=\"text-align: right;\">\n",
              "      <th></th>\n",
              "      <th>ROI(0)</th>\n",
              "      <th>ROI(1)</th>\n",
              "      <th>EKG(0)</th>\n",
              "      <th>EKG(1)</th>\n",
              "      <th>PPG(0)</th>\n",
              "      <th>PPG(1)</th>\n",
              "    </tr>\n",
              "  </thead>\n",
              "  <tbody>\n",
              "    <tr>\n",
              "      <th>session(trial) #1</th>\n",
              "      <td>u=(-0.38), s=2763.24</td>\n",
              "      <td>u=0.4, s=2728.02</td>\n",
              "      <td>u=(-0.02), s=0.51</td>\n",
              "      <td>u=0.02, s=0.59</td>\n",
              "      <td>u=0.05, s=0.41</td>\n",
              "      <td>u=(-0.05), s=0.4</td>\n",
              "    </tr>\n",
              "    <tr>\n",
              "      <th>session(trial) #2</th>\n",
              "      <td>u=0.31, s=2792.84</td>\n",
              "      <td>u=(-0.36), s=2414.69</td>\n",
              "      <td>u=(-0.01), s=0.54</td>\n",
              "      <td>u=0.01, s=0.56</td>\n",
              "      <td>u=0.03, s=0.47</td>\n",
              "      <td>u=(-0.03), s=0.52</td>\n",
              "    </tr>\n",
              "    <tr>\n",
              "      <th>session(trial) #3</th>\n",
              "      <td>u=0.62, s=2506.15</td>\n",
              "      <td>u=(-0.69), s=2980.8</td>\n",
              "      <td>u=0.0, s=0.56</td>\n",
              "      <td>u=0.0, s=0.58</td>\n",
              "      <td>u=0.02, s=0.42</td>\n",
              "      <td>u=(-0.02), s=0.42</td>\n",
              "    </tr>\n",
              "    <tr>\n",
              "      <th>session(trial) #4</th>\n",
              "      <td>u=(-0.03), s=2708.16</td>\n",
              "      <td>u=(-0.03), s=2696.41</td>\n",
              "      <td>u=(-0.01), s=0.55</td>\n",
              "      <td>u=0.01, s=0.58</td>\n",
              "      <td>u=0.09, s=0.3</td>\n",
              "      <td>u=(-0.1), s=0.29</td>\n",
              "    </tr>\n",
              "    <tr>\n",
              "      <th>session(trial) #5</th>\n",
              "      <td>u=1.91, s=2635.24</td>\n",
              "      <td>u=(-1.76), s=2836.31</td>\n",
              "      <td>u=(-0.02), s=0.57</td>\n",
              "      <td>u=0.02, s=0.58</td>\n",
              "      <td>u=0.02, s=0.29</td>\n",
              "      <td>u=(-0.02), s=0.32</td>\n",
              "    </tr>\n",
              "    <tr>\n",
              "      <th>session(trial) #6</th>\n",
              "      <td>u=0.09, s=2797.76</td>\n",
              "      <td>u=(-0.05), s=2825.97</td>\n",
              "      <td>u=0.03, s=0.62</td>\n",
              "      <td>u=(-0.03), s=0.58</td>\n",
              "      <td>u=(-0.03), s=0.27</td>\n",
              "      <td>u=0.04, s=0.27</td>\n",
              "    </tr>\n",
              "    <tr>\n",
              "      <th>session(trial) #7</th>\n",
              "      <td>u=(-0.32), s=2980.48</td>\n",
              "      <td>u=0.34, s=2989.46</td>\n",
              "      <td>u=0.0, s=0.59</td>\n",
              "      <td>u=-0.0, s=0.58</td>\n",
              "      <td>u=0.07, s=0.32</td>\n",
              "      <td>u=(-0.08), s=0.28</td>\n",
              "    </tr>\n",
              "    <tr>\n",
              "      <th>session(trial) #8</th>\n",
              "      <td>u=0.6, s=2078.31</td>\n",
              "      <td>u=(-0.68), s=2182.2</td>\n",
              "      <td>u=0.0, s=0.51</td>\n",
              "      <td>u=-0.0, s=0.53</td>\n",
              "      <td>u=0.05, s=0.49</td>\n",
              "      <td>u=(-0.06), s=0.48</td>\n",
              "    </tr>\n",
              "    <tr>\n",
              "      <th>session(trial) #9</th>\n",
              "      <td>u=(-0.5), s=2837.13</td>\n",
              "      <td>u=0.49, s=2884.86</td>\n",
              "      <td>u=-0.0, s=0.58</td>\n",
              "      <td>u=0.0, s=0.58</td>\n",
              "      <td>u=0.01, s=0.31</td>\n",
              "      <td>u=(-0.01), s=0.33</td>\n",
              "    </tr>\n",
              "    <tr>\n",
              "      <th>session(trial) #10</th>\n",
              "      <td>u=0.47, s=2645.64</td>\n",
              "      <td>u=(-0.45), s=2355.34</td>\n",
              "      <td>u=0.0, s=0.53</td>\n",
              "      <td>u=-0.0, s=0.55</td>\n",
              "      <td>u=(-0.03), s=0.49</td>\n",
              "      <td>u=0.03, s=0.53</td>\n",
              "    </tr>\n",
              "  </tbody>\n",
              "</table>\n",
              "</div>"
            ],
            "text/plain": [
              "                                  ROI(0)  ...             PPG(1)\n",
              "session(trial) #1   u=(-0.38), s=2763.24  ...   u=(-0.05), s=0.4\n",
              "session(trial) #2      u=0.31, s=2792.84  ...  u=(-0.03), s=0.52\n",
              "session(trial) #3      u=0.62, s=2506.15  ...  u=(-0.02), s=0.42\n",
              "session(trial) #4   u=(-0.03), s=2708.16  ...   u=(-0.1), s=0.29\n",
              "session(trial) #5      u=1.91, s=2635.24  ...  u=(-0.02), s=0.32\n",
              "session(trial) #6      u=0.09, s=2797.76  ...     u=0.04, s=0.27\n",
              "session(trial) #7   u=(-0.32), s=2980.48  ...  u=(-0.08), s=0.28\n",
              "session(trial) #8       u=0.6, s=2078.31  ...  u=(-0.06), s=0.48\n",
              "session(trial) #9    u=(-0.5), s=2837.13  ...  u=(-0.01), s=0.33\n",
              "session(trial) #10     u=0.47, s=2645.64  ...     u=0.03, s=0.53\n",
              "\n",
              "[10 rows x 6 columns]"
            ]
          },
          "metadata": {
            "tags": []
          },
          "execution_count": 180
        }
      ]
    },
    {
      "cell_type": "code",
      "metadata": {
        "id": "2OxOwQLpNrcb"
      },
      "source": [
        "#violin plots and strip plots\r\n",
        "col = ['Value', 'Labels']\r\n",
        "\r\n",
        "if True:\r\n",
        "    for k,_ in enumerate(['Violin', 'Strip']):\r\n",
        "        for j, dat in enumerate(['ROI', 'EKG', 'PPG']):\r\n",
        "            f = plt.figure(figsize=(6*5,6*2))\r\n",
        "            gs = f.add_gridspec(2,5)\r\n",
        "\r\n",
        "            for i in range(10):\r\n",
        "                rs=i//5\r\n",
        "                cs=i%5\r\n",
        "                ax = f.add_subplot(gs[rs,cs])\r\n",
        "                # f.suptitle(f'{dat}')\r\n",
        "                ax.set_title(f'Session{i+1}({dat})')      \r\n",
        "                tempx = pd.DataFrame(np.column_stack([newX[i][:,:,j].flatten(), newY[i].repeat(10)]), columns=col)  \r\n",
        "                # tempx = pd.DataFrame(np.column_stack([newX[i][:,:,j].mean(axis=1), newY[i]]), columns=col)\r\n",
        "                if k == 0:\r\n",
        "                    sns.violinplot(x='Labels', data=tempx, y='Value', orient='v', palette=['purple','yellow'])\r\n",
        "                else:\r\n",
        "                    sns.stripplot(x='Labels', y='Value', data=tempx, hue='Labels', palette=['purple','yellow'])                   \r\n",
        "                    \r\n",
        "                ax.legend([])\r\n",
        "\r\n",
        "            if k == 0:\r\n",
        "                plt.savefig(dirpathimg + f'violin/violinplot_{dat}.png', bbox_inches='tight')\r\n",
        "            else:\r\n",
        "                plt.savefig(dirpathimg + f'strip/stripplot_{dat}.png', bbox_inches='tight')\r\n",
        "            \r\n",
        "            plt.cla() # Clear the current axes\r\n",
        "            plt.clf() # Clear the current figure\r\n",
        "            plt.close('all')   \r\n",
        "            plt.close(fig)\r\n",
        "            gc.collect()    "
      ],
      "execution_count": 182,
      "outputs": []
    },
    {
      "cell_type": "markdown",
      "metadata": {
        "id": "0UAlcMHb_fmL"
      },
      "source": [
        "## Pairwise distance heatmap plotting"
      ]
    },
    {
      "cell_type": "code",
      "metadata": {
        "id": "UNMccF7aRHCY"
      },
      "source": [
        "from sklearn.metrics import pairwise_distances"
      ],
      "execution_count": 183,
      "outputs": []
    },
    {
      "cell_type": "code",
      "metadata": {
        "id": "7D_Lg6vKT4jF"
      },
      "source": [
        "metric = 'euclidean'\r\n",
        "x = np.array(ds_by_session_bin[1])[:,:,1]"
      ],
      "execution_count": 184,
      "outputs": []
    },
    {
      "cell_type": "code",
      "metadata": {
        "id": "VLCwvMAhW0HK",
        "colab": {
          "base_uri": "https://localhost:8080/"
        },
        "outputId": "1f842d7e-7afe-4721-8e65-b364051a6843"
      },
      "source": [
        "idx_lst = np.cumsum([0] + [round(x.shape[0]/6) for i in range(6)])\r\n",
        "idx_lst, x.shape[0]"
      ],
      "execution_count": 185,
      "outputs": [
        {
          "output_type": "execute_result",
          "data": {
            "text/plain": [
              "(array([    0, 11406, 22812, 34218, 45624, 57030, 68436]), 68439)"
            ]
          },
          "metadata": {
            "tags": []
          },
          "execution_count": 185
        }
      ]
    },
    {
      "cell_type": "code",
      "metadata": {
        "id": "hlRz3ojjSY4c",
        "colab": {
          "base_uri": "https://localhost:8080/",
          "height": 66,
          "referenced_widgets": [
            "713fcedd3ffa4287be2f931afb607c92",
            "87b1fb19d21843739c32424c63dd70cf",
            "6fc8e580fe5e403b9ef0e98cd59308d7",
            "1a31eacb638f4a4ebf827b53c4db851c",
            "8089d72854f0487ab2b163bf419e6a1a",
            "aaad43b0b5f24f72ac1e0f26aabc652c",
            "87bdd6f0322b4c95888f11e4b8af57d5",
            "9185b721683c41eb8e2311ac6c63fb7c",
            "654de9e98457402193ac724f0b1b11df",
            "b93f6c078b7e4be39cdbf170d4329951",
            "50e2f5a1d5f643839a37fc155585df11",
            "713d76f3db5a4191a6aaa37947bf028e",
            "f98d35c360b542f6898b1041a9770572",
            "862919b9585d417fadf29c3f3ec056f7",
            "a8f4a5dbca314e63a808d9b835263326",
            "5b40bb6ca61c44aab0550f35d2b73d07",
            "8df9ba4d7ca44d34ace0893a7b824aa0",
            "79430d4f846e4352959b692ce500b7e1",
            "6c8430e6d9e645f0af6f693e54963544",
            "0046f9b3676c49fc95bd92b2e66168b5",
            "bd472c434d824c59abbb0bb959dcce7f",
            "3a618554b07d4ef3ba5ed1b754ee9068",
            "f2cf9d64d71b483b9602919aba83823c",
            "e77c39a3b3a9461fb976d0d7d214fedb",
            "950289a31b5244c88cc487436c9414f8",
            "5c257e180e444dc588565931fde8f190",
            "af42b6b144b047f2982dd0de7519810d",
            "c0dd71b306a24a8ca2cd0e5d60960bac",
            "46aa77d6f4324fca9beb214bc2c0cb7d",
            "a9c1df7caf16445aa7a1abce331bbba7",
            "e0ab293f6d7b480e97aadb7ea2ac669f",
            "1316ed2cdc6f4cd8a004006192699934"
          ]
        },
        "outputId": "94672082-005a-4920-e3a7-a4036bd60e05"
      },
      "source": [
        "# pairwise distance heatmap\r\n",
        "if False:\r\n",
        "    n = idx_lst.shape[0]\r\n",
        "    sess_num = 1\r\n",
        "\r\n",
        "    dtype = ['ROI', 'EKG', 'PPG']\r\n",
        "\r\n",
        "    plt.style.use('ggplot')\r\n",
        "    sns.set(rc={'axes.grid':'False'});\r\n",
        "\r\n",
        "    for iii, dt in enumerate(tqdm(dtype)):\r\n",
        "\r\n",
        "        x = np.array(ds_by_session_bin[sess_num])[:,:,iii]\r\n",
        "\r\n",
        "        for ii, i in enumerate(tqdm(range(n-1), leave=False)):\r\n",
        "\r\n",
        "            # if ii < 4:\r\n",
        "            fig, (ax1,ax2) = plt.subplots(1,2, figsize=(20,10))\r\n",
        "            i_0 = idx_lst[i]\r\n",
        "            i_1 = idx_lst[i+1]\r\n",
        "            # fig.add_subplot(5,2,ii+1)\r\n",
        "            distx = pairwise_distances(x[i_0:i_1], metric=metric)\r\n",
        "            mlp = ax1.imshow(distx)\r\n",
        "            fig.colorbar(mlp, ax=ax1)\r\n",
        "            del distx\r\n",
        "\r\n",
        "            y = np.array(st_lst[sess_num])[i_0:i_1]\r\n",
        "            ax2.plot(np.arange(0,y.shape[0]), y)\r\n",
        "            filename = dirpathimg + f'heatmap/heatmap_{dt}_{ii}'\r\n",
        "            plt.savefig(filename, bbox_inches='tight')\r\n",
        "            \r\n",
        "            plt.cla() # Clear the current axes\r\n",
        "            plt.clf() # Clear the current figure\r\n",
        "            plt.close('all')   \r\n",
        "            plt.close(fig)\r\n",
        "            gc.collect()"
      ],
      "execution_count": 187,
      "outputs": [
        {
          "output_type": "display_data",
          "data": {
            "application/vnd.jupyter.widget-view+json": {
              "model_id": "713fcedd3ffa4287be2f931afb607c92",
              "version_minor": 0,
              "version_major": 2
            },
            "text/plain": [
              "HBox(children=(FloatProgress(value=0.0, max=3.0), HTML(value='')))"
            ]
          },
          "metadata": {
            "tags": []
          }
        },
        {
          "output_type": "display_data",
          "data": {
            "application/vnd.jupyter.widget-view+json": {
              "model_id": "654de9e98457402193ac724f0b1b11df",
              "version_minor": 0,
              "version_major": 2
            },
            "text/plain": [
              "HBox(children=(FloatProgress(value=0.0, max=6.0), HTML(value='')))"
            ]
          },
          "metadata": {
            "tags": []
          }
        },
        {
          "output_type": "display_data",
          "data": {
            "application/vnd.jupyter.widget-view+json": {
              "model_id": "8df9ba4d7ca44d34ace0893a7b824aa0",
              "version_minor": 0,
              "version_major": 2
            },
            "text/plain": [
              "HBox(children=(FloatProgress(value=0.0, max=6.0), HTML(value='')))"
            ]
          },
          "metadata": {
            "tags": []
          }
        },
        {
          "output_type": "display_data",
          "data": {
            "application/vnd.jupyter.widget-view+json": {
              "model_id": "950289a31b5244c88cc487436c9414f8",
              "version_minor": 0,
              "version_major": 2
            },
            "text/plain": [
              "HBox(children=(FloatProgress(value=0.0, max=6.0), HTML(value='')))"
            ]
          },
          "metadata": {
            "tags": []
          }
        },
        {
          "output_type": "stream",
          "text": [
            "\n"
          ],
          "name": "stdout"
        }
      ]
    },
    {
      "cell_type": "markdown",
      "metadata": {
        "id": "HtaXawmpGDSV"
      },
      "source": [
        "##############################"
      ]
    },
    {
      "cell_type": "code",
      "metadata": {
        "id": "PS8I0IufGuhv"
      },
      "source": [
        "end of notebook"
      ],
      "execution_count": null,
      "outputs": []
    },
    {
      "cell_type": "markdown",
      "metadata": {
        "id": "xCU_tQkbwyyB"
      },
      "source": [
        "## Note"
      ]
    },
    {
      "cell_type": "code",
      "metadata": {
        "id": "tlK0pIdeXJ2B"
      },
      "source": [
        "#size after binning\r\n",
        "len(ds_by_session_bin[0]), len(st_lst[0])"
      ],
      "execution_count": null,
      "outputs": []
    },
    {
      "cell_type": "code",
      "metadata": {
        "id": "GCC4YUlnUjGE"
      },
      "source": [
        "filename = 'df_stat_ind_crossover_k={}.pickle'.format(BIN_NUM)\r\n",
        "\r\n",
        "if os.path.exists(filename):\r\n",
        "    with open(filename, 'rb') as f:\r\n",
        "        df_stat = pickle.load(f, encoding='bytes')\r\n",
        "else:\r\n",
        "    # ds_by_session_bin, st_lst = binning(ds_by_session, k=BIN_NUM)\r\n",
        "\r\n",
        "    # makes separate lists of baseline (0) and stimulus (1)\r\n",
        "    ds_two_sample_bin = [[] for i in range(10)]\r\n",
        "\r\n",
        "    for ii, dat in enumerate(tqdm(ds_by_session_bin, desc=\"binarize\")):\r\n",
        "        temp_idx = check_discontinuity(st_lst[ii])\r\n",
        "        ds_two_sample_bin[ii].append([]) \r\n",
        "        ds_two_sample_bin[ii].append([])\r\n",
        "        try:\r\n",
        "            for i in range(6):                   \r\n",
        "                ds_two_sample_bin[ii][0].append(np.array(dat)[temp_idx[0][i+1]]) #skips the first baseline segment\r\n",
        "                ds_two_sample_bin[ii][1].append(np.array(dat)[temp_idx[1][i]])\r\n",
        "        except:\r\n",
        "            print('Index out of bound: there are more than 6 stimulations')\r\n",
        "\r\n",
        "    # resampling to average baseline length\r\n",
        "    ds_two_sample_bin_resampled = ds_two_sample_bin.copy()\r\n",
        "\r\n",
        "    for ii, dat in enumerate(tqdm(ds_two_sample_bin_resampled, desc=\"resampling\")):\r\n",
        "        avg = 0\r\n",
        "        for i in range(6):\r\n",
        "            avg += dat[0][i].shape[0] #assumes baseline to be longer\r\n",
        "        avg = avg // 6\r\n",
        "\r\n",
        "        for i in range(6):\r\n",
        "            ds_two_sample_bin_resampled[ii][0][i] = signal.resample(dat[0][i], avg)\r\n",
        "            ds_two_sample_bin_resampled[ii][1][i] = signal.resample(dat[1][i], avg)\r\n",
        "\r\n",
        "    col = ['Dataset', 'Session', 'Baseline', 'Stimulus']\r\n",
        "    for i in ['Hologram-ROI', 'EKG', 'PPG']:\r\n",
        "        for j in ['Dcorr']:\r\n",
        "            col.append(i+'('+j+')')\r\n",
        "    dat_name = '10_27'\r\n",
        "    df_stat = pd.DataFrame(columns=col)\r\n",
        "    data = ds_two_sample_bin_resampled.copy()\r\n",
        "\r\n",
        "    for i in tqdm(range(len(data)), desc=\"fast dcorr\"): #num of session\r\n",
        "        for j in tqdm(range(len(data[0][0])), leave=False): #num of baseline events\r\n",
        "            for stim in tqdm(range(len(data[0][0])), leave=False): #num of stimulus events\r\n",
        "                temp_row = [[dat_name, i, j, stim]]\r\n",
        "                for k in tqdm(range(len(data[0][0][0][0][0])), leave=False): #timeframe\r\n",
        "                    stat, pval = dcorr.test(data[i][0][j][:,:,k], data[i][1][stim][:,:,k], reps=0)\r\n",
        "                    # stat, pval = 1,1\r\n",
        "                    temp_row[0].append((stat, pval))\r\n",
        "                df_stat = df_stat.append(pd.DataFrame(temp_row, columns=col), ignore_index=True)\r\n",
        "\r\n",
        "    with open(filename, 'wb') as f:\r\n",
        "        pickle.dump(df_stat,f)"
      ],
      "execution_count": null,
      "outputs": []
    },
    {
      "cell_type": "code",
      "metadata": {
        "id": "RBcJnSWiVgJd"
      },
      "source": [
        "df_stat.head()"
      ],
      "execution_count": null,
      "outputs": []
    },
    {
      "cell_type": "code",
      "metadata": {
        "id": "SFnUcSh5Q5D4"
      },
      "source": [
        "#checking to make sure the samples are reshaped\r\n",
        "# ds_two_sample_bin_all_resampled[0][0].shape, ds_two_sample_bin_all_resampled[0][1].shape "
      ],
      "execution_count": null,
      "outputs": []
    },
    {
      "cell_type": "code",
      "metadata": {
        "id": "DBzhY4QCRSeY"
      },
      "source": [
        "filename = 'df_stat_ind_all_k={}.pickle'.format(BIN_NUM)\r\n",
        "\r\n",
        "if os.path.exists(filename):\r\n",
        "    with open(filename, 'rb') as f:\r\n",
        "        df_stat = pickle.load(f, encoding='bytes')\r\n",
        "else:\r\n",
        "    # makes separate lists of baseline (0) and stimulus (1)\r\n",
        "    ds_two_sample_bin_all = [[] for i in range(10)]\r\n",
        "\r\n",
        "    for ii, dat in enumerate(tqdm(ds_by_session_bin, desc=\"binarize\")):\r\n",
        "        temp_idx = check_discontinuity(st_lst[ii])\r\n",
        "        ds_two_sample_bin_all[ii].append([]) \r\n",
        "        ds_two_sample_bin_all[ii].append([]) \r\n",
        "        \r\n",
        "        try:\r\n",
        "            for i in range(6):                   \r\n",
        "                ds_two_sample_bin_all[ii][0] += np.array(dat)[temp_idx[0][i+1]].tolist() #skips the first baseline segment\r\n",
        "                ds_two_sample_bin_all[ii][1] += np.array(dat)[temp_idx[1][i]].tolist()\r\n",
        "        except:\r\n",
        "            print('Index out of bound: there are more than 6 stimulations')\r\n",
        "\r\n",
        "    # resampling to average baseline length\r\n",
        "    ds_two_sample_bin_all_resampled = ds_two_sample_bin_all.copy()\r\n",
        "\r\n",
        "    for ii, dat in enumerate(tqdm(ds_two_sample_bin_all_resampled, desc=\"resampling\")):\r\n",
        "        avg = len(dat[1])\r\n",
        "        ds_two_sample_bin_all_resampled[ii][0] = signal.resample(dat[0], avg)#signal.resample(dat[0][i], avg)\r\n",
        "        ds_two_sample_bin_all_resampled[ii][1] = np.array(dat[1])\r\n",
        "\r\n",
        "    col = ['Dataset', 'Session']\r\n",
        "    for i in ['Hologram-ROI', 'EKG', 'PPG']:\r\n",
        "        for j in ['Dcorr']:\r\n",
        "            col.append(i+'('+j+')')\r\n",
        "    dat_name = '10_27'\r\n",
        "    df_stat = pd.DataFrame(columns=col)\r\n",
        "    data = ds_two_sample_bin_all_resampled.copy()\r\n",
        "\r\n",
        "    for i in tqdm(range(len(data)), desc=\"fast dcorr\"): #num of session\r\n",
        "        temp_row = [[dat_name, i]]\r\n",
        "        for k in tqdm(range(len(data[0][0][0][0])), leave=False): #timeframe\r\n",
        "            stat, pval = dcorr.test(data[i][0][:,:,k], data[i][1][:,:,k], reps=0)\r\n",
        "            temp_row[0].append((stat, pval))\r\n",
        "        df_stat = df_stat.append(pd.DataFrame(temp_row, columns=col), ignore_index=True)\r\n",
        "\r\n",
        "    with open(filename, 'wb') as f:\r\n",
        "        pickle.dump(df_stat,f)"
      ],
      "execution_count": null,
      "outputs": []
    },
    {
      "cell_type": "code",
      "metadata": {
        "id": "gYp9gjUyXBhW"
      },
      "source": [
        "df_stat.head()"
      ],
      "execution_count": null,
      "outputs": []
    },
    {
      "cell_type": "code",
      "metadata": {
        "id": "OQOMw1qETAdh"
      },
      "source": [
        "stop here"
      ],
      "execution_count": null,
      "outputs": []
    },
    {
      "cell_type": "markdown",
      "metadata": {
        "id": "7bclOgMRYzBW"
      },
      "source": [
        "## Note below"
      ]
    },
    {
      "cell_type": "code",
      "metadata": {
        "id": "H_tQHMIAedsQ"
      },
      "source": [
        "# abnormality in time variable (resolved by Dexter)\r\n",
        "# fig, (ax1) = plt.subplots(1,1, figsize=(10,5))\r\n",
        "\r\n",
        "# ax1.plot(ds1[6])\r\n",
        "# # ax1.plot(ds1[1])\r\n",
        "# # ax1.plot(ds1[1])\r\n",
        "# # ax2.plot(ds1[1][113100:113200])\r\n",
        "# # ax3.plot(ds1[1][4450:4500])\r\n",
        "# ax1.set_ylabel('Time stamp')\r\n",
        "\r\n",
        "# fig.savefig('time.png', bbox_inches='tight')"
      ],
      "execution_count": null,
      "outputs": []
    },
    {
      "cell_type": "code",
      "metadata": {
        "id": "GKWU-fVAcM4S"
      },
      "source": [
        "# mgc.test(ds_two_sample_resampled_prereg[0][0][0][:,1], ds_two_sample_resampled_prereg[0][1][0][:,1], reps=0)"
      ],
      "execution_count": null,
      "outputs": []
    },
    {
      "cell_type": "code",
      "metadata": {
        "id": "7hf0_r_6cX5Y"
      },
      "source": [
        "%time dcorr.test(ds_two_sample_resampled_prereg[0][0][0][:,1], ds_two_sample_resampled_prereg[0][1][0][:,1], reps=0)"
      ],
      "execution_count": null,
      "outputs": []
    },
    {
      "cell_type": "code",
      "metadata": {
        "id": "LMrnpEKLKhQB"
      },
      "source": [
        "%time kmerf.test(ds_two_sample_resampled_prereg[0][0][0][:,1], ds_two_sample_resampled_prereg[0][1][0][:,1], reps=0)"
      ],
      "execution_count": null,
      "outputs": []
    },
    {
      "cell_type": "code",
      "metadata": {
        "id": "jjaVAvj3jJ0T"
      },
      "source": [
        "%time kmerf.test(ds_two_sample_resampled_prereg[0][0][0][:,1], ds_two_sample_resampled_prereg[0][1][0][:,1], workers=10, reps=0)"
      ],
      "execution_count": null,
      "outputs": []
    },
    {
      "cell_type": "code",
      "metadata": {
        "id": "cTmYuzGXDT5G"
      },
      "source": [
        "col = ['Dataset', 'Session', 'Stimulus']# ,'Hologram-ROI', 'EKG', 'PPG']\r\n",
        "for i in ['Hologram-ROI', 'EKG', 'PPG']:\r\n",
        "    for j in ['Dcorr', 'KMERF']:\r\n",
        "        col.append(i+'('+j+')')\r\n",
        "dat_name = '10_27'\r\n",
        "df_stat = pd.DataFrame(columns=col)\r\n",
        "for i in tqdm(range(len(ds_two_sample_resampled))):\r\n",
        "    for j in range(len(ds_two_sample_resampled[0][0])):\r\n",
        "        temp_row = [[dat_name, i , j]]\r\n",
        "        # df_stat['Dataset'] = dat_name\r\n",
        "        # df_stat['Session'] = i\r\n",
        "        # df_stat['Stimulus'] = j\r\n",
        "        for k in range(len(ds_two_sample_resampled[0][0][0][0])):\r\n",
        "            stat, pval = dcorr.test(ds_two_sample_resampled_prereg[i][0][j][:,k], ds_two_sample_resampled_prereg[i][1][j][:,k], reps=0)\r\n",
        "            temp_row[0].append((round(stat,5), round(pval,5)))\r\n",
        "            stat, pval = kmerf.test(ds_two_sample_resampled_prereg[i][0][j][:,k], ds_two_sample_resampled_prereg[i][1][j][:,k], reps=0)\r\n",
        "            # df_stat[col[k+3]] = (round(stat,2), round(pval,2))\r\n",
        "            temp_row[0].append((round(stat,5), round(pval,5)))\r\n",
        "        df_stat = df_stat.append(pd.DataFrame(temp_row, columns=col), ignore_index=True)\r\n",
        "    break"
      ],
      "execution_count": null,
      "outputs": []
    },
    {
      "cell_type": "code",
      "metadata": {
        "id": "htrRq9JWQAoP"
      },
      "source": [
        "df_stat"
      ],
      "execution_count": null,
      "outputs": []
    },
    {
      "cell_type": "code",
      "metadata": {
        "id": "Uc2g0JWrYdGh"
      },
      "source": [
        "# # makes separate lists of baseline (0) and stimulus (1)\r\n",
        "# ds_two_sample_bin = [[] for i in range(10)]\r\n",
        "\r\n",
        "# for ii, dat in enumerate(tqdm(ds_by_session_bin)):\r\n",
        "#     temp_idx = check_discontinuity(st_lst[ii])\r\n",
        "#     ds_two_sample_bin[ii].append([]) \r\n",
        "#     ds_two_sample_bin[ii].append([])\r\n",
        "#     try:\r\n",
        "#         for i in range(6):                   \r\n",
        "#             ds_two_sample_bin[ii][0].append(np.array(dat)[temp_idx[0][i+1]]) #skips the first baseline segment\r\n",
        "#             ds_two_sample_bin[ii][1].append(np.array(dat)[temp_idx[1][i]])\r\n",
        "#     except:\r\n",
        "#         print('Index out of bound: there are more than 6 stimulations')"
      ],
      "execution_count": null,
      "outputs": []
    },
    {
      "cell_type": "code",
      "metadata": {
        "id": "S_RT6C85YdGu"
      },
      "source": [
        "# ds_two_sample_bin[0][0][0].shape #1st session, baseline, 1 of 6"
      ],
      "execution_count": null,
      "outputs": []
    },
    {
      "cell_type": "code",
      "metadata": {
        "id": "BkbsTzRoYdGu"
      },
      "source": [
        "# # resampling to average baseline length\r\n",
        "# ds_two_sample_bin_resampled = ds_two_sample_bin.copy()\r\n",
        "\r\n",
        "# for ii, dat in enumerate(tqdm(ds_two_sample_bin_resampled)):\r\n",
        "#     avg = 0\r\n",
        "#     for i in range(6):\r\n",
        "#         avg += dat[0][i].shape[0] #assumes baseline to be longer\r\n",
        "#     avg = avg // 6\r\n",
        "\r\n",
        "#     for i in range(6):\r\n",
        "#         ds_two_sample_bin_resampled[ii][0][i] = signal.resample(dat[0][i], avg)\r\n",
        "#         ds_two_sample_bin_resampled[ii][1][i] = signal.resample(dat[1][i], avg)"
      ],
      "execution_count": null,
      "outputs": []
    },
    {
      "cell_type": "code",
      "metadata": {
        "id": "LbU3sj-sYdGv"
      },
      "source": [
        "# resampling check\r\n",
        "# ds_two_sample_bin_resampled[0][0][0].shape, ds_two_sample_bin_resampled[0][0][1].shape #1st session, baseline, 1 of 6"
      ],
      "execution_count": null,
      "outputs": []
    },
    {
      "cell_type": "code",
      "metadata": {
        "id": "SipkmwNzYdGv"
      },
      "source": [
        "# %time dcorr.test(ds_two_sample_bin_resampled[0][0][0][:,:,0], ds_two_sample_bin_resampled[0][1][0][:,:,0], reps=0)"
      ],
      "execution_count": null,
      "outputs": []
    },
    {
      "cell_type": "code",
      "metadata": {
        "id": "Ar__9Av6YdGv"
      },
      "source": [
        "# filename = 'df_stat_ind.pickle'\r\n",
        "\r\n",
        "# if os.path.exists(filename):\r\n",
        "#     with open(filename, 'rb') as f:\r\n",
        "#         df_stat = pickle.load(f, encoding='bytes')\r\n",
        "# else:\r\n",
        "#     col = ['Dataset', 'Session', 'Stimulus']# ,'Hologram-ROI', 'EKG', 'PPG']\r\n",
        "#     for i in ['Hologram-ROI', 'EKG', 'PPG']:\r\n",
        "#         for j in ['Dcorr']:\r\n",
        "#             col.append(i+'('+j+')')\r\n",
        "#     dat_name = '10_27'\r\n",
        "#     df_stat = pd.DataFrame(columns=col)\r\n",
        "#     data = ds_two_sample_bin_resampled.copy()\r\n",
        "\r\n",
        "#     for i in tqdm(range(len(data))): #num of session\r\n",
        "#         for j in tqdm(range(len(data[0][0])), leave=False): #num of stimulus events\r\n",
        "#             temp_row = [[dat_name, i, j]]\r\n",
        "#             for k in tqdm(range(len(data[0][0][0][0][0])), leave=False): #timeframe\r\n",
        "#                 stat, pval = dcorr.test(data[i][0][j][:,:,k], data[i][1][j][:,:,k], reps=0)\r\n",
        "#                 temp_row[0].append((stat, pval))\r\n",
        "#             df_stat = df_stat.append(pd.DataFrame(temp_row, columns=col), ignore_index=True)\r\n",
        "\r\n",
        "#     with open(filename, 'wb') as f:\r\n",
        "#         pickle.dump(df_stat,f)"
      ],
      "execution_count": null,
      "outputs": []
    },
    {
      "cell_type": "code",
      "metadata": {
        "id": "NnDSY44JYdGv"
      },
      "source": [
        "# df_stat.head()"
      ],
      "execution_count": null,
      "outputs": []
    },
    {
      "cell_type": "code",
      "metadata": {
        "id": "EutvKOEpYdGw"
      },
      "source": [
        "# filename = 'df_stat_ind_crossover_k={}.pickle'.format(BIN_NUM)\r\n",
        "\r\n",
        "# if os.path.exists(filename):\r\n",
        "#     with open(filename, 'rb') as f:\r\n",
        "#         df_stat = pickle.load(f, encoding='bytes')\r\n",
        "# else:\r\n",
        "#     col = ['Dataset', 'Session', 'Baseline', 'Stimulus']# ,'Hologram-ROI', 'EKG', 'PPG']\r\n",
        "#     for i in ['Hologram-ROI', 'EKG', 'PPG']:\r\n",
        "#         for j in ['Dcorr']:\r\n",
        "#             col.append(i+'('+j+')')\r\n",
        "#     dat_name = '10_27'\r\n",
        "#     df_stat = pd.DataFrame(columns=col)\r\n",
        "#     data = ds_two_sample_bin_resampled.copy()\r\n",
        "\r\n",
        "#     for i in tqdm(range(len(data))): #num of session\r\n",
        "#         for j in tqdm(range(len(data[0][0])), leave=False): #num of baseline events\r\n",
        "#             for stim in tqdm(range(len(data[0][0])), leave=False): #num of stimulus events\r\n",
        "#                 temp_row = [[dat_name, i, j, stim]]\r\n",
        "#                 for k in tqdm(range(len(data[0][0][0][0][0])), leave=False): #timeframe\r\n",
        "#                     stat, pval = dcorr.test(data[i][0][j][:,:,k], data[i][1][stim][:,:,k], reps=0)\r\n",
        "#                     # stat, pval = 1,1\r\n",
        "#                     temp_row[0].append((stat, pval))\r\n",
        "#                 df_stat = df_stat.append(pd.DataFrame(temp_row, columns=col), ignore_index=True)\r\n",
        "\r\n",
        "#     with open(filename, 'wb') as f:\r\n",
        "#         pickle.dump(df_stat,f)"
      ],
      "execution_count": null,
      "outputs": []
    },
    {
      "cell_type": "code",
      "metadata": {
        "id": "fUbf41S5YdGw"
      },
      "source": [
        "# df_stat.head()"
      ],
      "execution_count": null,
      "outputs": []
    },
    {
      "cell_type": "markdown",
      "metadata": {
        "id": "AK_06LrlXXK8"
      },
      "source": [
        "## NOTE"
      ]
    },
    {
      "cell_type": "code",
      "metadata": {
        "id": "rTS6rcGfjm03"
      },
      "source": [
        "# # makes separate lists of baseline (0) and stimulus (1)\r\n",
        "# ds_two_sample = [[] for i in range(10)]\r\n",
        "\r\n",
        "# for ii, dat in enumerate(ds_by_session):\r\n",
        "#     temp_idx = check_discontinuity(dat[1])\r\n",
        "#     ds_two_sample[ii].append([]) \r\n",
        "#     ds_two_sample[ii].append([]) \r\n",
        "#     try:\r\n",
        "#         for i in range(len(temp_idx[0])):\r\n",
        "#             ds_two_sample[ii][0].append(dat[2][temp_idx[0][i]]) \r\n",
        "#         for i in range(len(temp_idx[1])):\r\n",
        "#             ds_two_sample[ii][1].append(dat[2][temp_idx[1][i]])\r\n",
        "#             # print(dat[2][temp_idx[1][i]].shape)\r\n",
        "#     except:\r\n",
        "#         print('Index out of bound: there are more than 6 stimulations')"
      ],
      "execution_count": null,
      "outputs": []
    },
    {
      "cell_type": "code",
      "metadata": {
        "id": "r5f0nNXdJnWU"
      },
      "source": [
        "# # resampling to average baseline length\r\n",
        "# ds_two_sample_resampled = ds_two_sample.copy()\r\n",
        "\r\n",
        "# for ii, dat in enumerate(ds_two_sample_resampled):\r\n",
        "#     avg = 0\r\n",
        "#     for i in range(len(dat[0])):\r\n",
        "#         avg += dat[0][i].shape[0] #assumes baseline to be longer\r\n",
        "#     avg = avg // 6\r\n",
        "\r\n",
        "#     for i in range(len(dat[0])):\r\n",
        "#         ds_two_sample_resampled[ii][0][i] = signal.resample(dat[0][i], avg)\r\n",
        "#     for i in range(len(dat[1])):\r\n",
        "#         ds_two_sample_resampled[ii][1][i] = signal.resample(dat[1][i], avg)"
      ],
      "execution_count": null,
      "outputs": []
    },
    {
      "cell_type": "code",
      "metadata": {
        "id": "9S7-wjLrnxjD"
      },
      "source": [
        "# # plot concatenated resampled signal\r\n",
        "# fig, (ax1,ax2,ax3) = plt.subplots(3,1, figsize=(14,7*3))\r\n",
        "\r\n",
        "# labels = ['hologram ROI', 'EKG', 'PPG']\r\n",
        "# rnd = True #pre-registering\r\n",
        "\r\n",
        "# for k, ax in enumerate((ax1,ax2,ax3)):\r\n",
        "\r\n",
        "#     temp_array = np.array([])\r\n",
        "#     temp_idx = []\r\n",
        "\r\n",
        "#     for i in range(6):    \r\n",
        "#         for j in [1,0]:\r\n",
        "#             if rnd:\r\n",
        "#                 temp_array2 = ds_two_sample_resampled[0][j][i][:,k].copy()\r\n",
        "#                 np.random.shuffle(temp_array2)\r\n",
        "#                 temp_array = np.append(temp_array,temp_array2)\r\n",
        "#             else:\r\n",
        "#                 temp_array = np.append(temp_array,ds_two_sample_resampled[0][j][i][:,k])\r\n",
        "#             size = ds_two_sample_resampled[0][j][i][:,k].size\r\n",
        "#             temp_idx += [j]*size\r\n",
        "\r\n",
        "#     x_i = np.arange(0,len(temp_idx))\r\n",
        "#     ax.scatter(x_i, temp_array, c=temp_idx, s=1)\r\n",
        "#     ax.set_title(labels[k], fontsize=25)\r\n",
        "\r\n",
        "# if rnd:\r\n",
        "#     fig.savefig('data_visualization_resampled_preregistered.png', bbox_inches='tight')\r\n",
        "# else:\r\n",
        "#     fig.savefig('data_visualization_resampled.png', bbox_inches='tight')"
      ],
      "execution_count": null,
      "outputs": []
    },
    {
      "cell_type": "code",
      "metadata": {
        "id": "2_ooC5S1zhQX"
      },
      "source": [
        "# # session / stimulus / time / [ROI, EKG, PPG]\r\n",
        "# ds_two_sample_resampled_prereg = ds_two_sample_resampled.copy()\r\n",
        "# for i in range(2):\r\n",
        "#     for j in range(len(ds_two_sample_resampled[0][0])):\r\n",
        "#         for k in range(len(ds_two_sample_resampled[0][0][0][0])):\r\n",
        "#             np.random.shuffle(ds_two_sample_resampled_prereg[0][i][j][:,k])"
      ],
      "execution_count": null,
      "outputs": []
    },
    {
      "cell_type": "markdown",
      "metadata": {
        "id": "saShy3apX971"
      },
      "source": [
        "## NOTE"
      ]
    },
    {
      "cell_type": "code",
      "metadata": {
        "id": "ro_DfC9qX971"
      },
      "source": [
        "import scipy\r\n",
        "from scipy.optimize import curve_fit\r\n",
        "from sklearn.neighbors import KernelDensity"
      ],
      "execution_count": null,
      "outputs": []
    },
    {
      "cell_type": "code",
      "metadata": {
        "id": "2Cr2DMNqX972"
      },
      "source": [
        "# np.fft.fft((np.array(ds1[6])[aq])[:nlim])"
      ],
      "execution_count": null,
      "outputs": []
    },
    {
      "cell_type": "code",
      "metadata": {
        "id": "v2dB-LOWX972"
      },
      "source": [
        "# wave_p\r\n",
        "# nlim = 20000\r\n",
        "\r\n",
        "# kde = KernelDensity()\r\n",
        "# kde.fit(wave_p[:,None])\r\n",
        "# kde_idx = np.linspace(0,nlim,nlim)[:,None]#.reshape(-1,1)\r\n",
        "# # new_wavep = np.column_stack((np.linspace(0,nlim,nlim), wave_p))\r\n",
        "# # kde.fit(new_wavep)\r\n",
        "# kde_i = kde.score_samples(kde_idx)"
      ],
      "execution_count": null,
      "outputs": []
    },
    {
      "cell_type": "code",
      "metadata": {
        "id": "0QjAATAGX972"
      },
      "source": [
        "# np.column_stack((np.linspace(0,nlim,nlim), wave_p)).shape"
      ],
      "execution_count": null,
      "outputs": []
    },
    {
      "cell_type": "code",
      "metadata": {
        "id": "nRvOEoIJX973"
      },
      "source": [
        "# fig, ax = plt.subplots(1,1, figsize=(20,10))\r\n",
        "# wave_e = normalize(np.array(ds1[4])[aq][:nlim]) \r\n",
        "# wave_p = normalize(np.array(ds1[5])[aq][:nlim]) \r\n",
        "# wave_r = normalize(np.array(ds1[6])[aq][:nlim]) \r\n",
        "# ax.plot(normalize(wave_r - wave_e))\r\n",
        "# ax.plot(wave_r)\r\n",
        "# ax.plot(wave_e)\r\n",
        "# ax.plot(wave_p)\r\n",
        "# ax.plot(wave_p[:nlim])\r\n",
        "# ax.plot(normalize(np.sin(np.linspace(0, np.pi, nlim))))\r\n",
        "# ax.plot(normalize(wave_p + normalize(np.sin(np.linspace(0, np.pi, nlim)))))\r\n",
        "\r\n",
        "\r\n",
        "# ax.plot(wave_r, alpha=0.2)\r\n",
        "# ax.plot(normalize(wave_p + np.fft.fftshift(wave_p)))\r\n",
        "\r\n",
        "# kde = scipy.stats.kde.gaussian_kde(wave_p)\r\n",
        "# kde = KernelDensity()\r\n",
        "# ax.plot(normalize(kde_i))\r\n",
        "\r\n",
        "# ax.plot(normalize(kde_i))\r\n",
        "\r\n",
        "# ax.plot(wave_p[:nlim] - normalize(kde_i))\r\n",
        "\r\n",
        "# ax.plot(new_wavep[:,0],new_wavep[:,1])\r\n",
        "\r\n",
        "# temp_x = np.array(ds1[6])[aq][:nlim]\r\n",
        "# temp_fft = np.fft.fft(temp_x)\r\n",
        "# ax.plot(np.fft.ifft(temp_fft))\r\n",
        "\r\n",
        "# temp_x = np.array(ds1[6])[aq][19990:nlim]\r\n",
        "# temp_fft = np.fft.fft(temp_x)\r\n",
        "# ax.plot(temp_fft)\r\n",
        "# temp_x = np.array(ds1[5])[aq][:nlim]\r\n",
        "# temp_fft = temp_fft - np.fft.fft(temp_x)\r\n",
        "# # ax.plot(np.fft.ifft(temp_fft))\r\n",
        "# temp_x = np.array(ds1[4])[aq][:nlim]\r\n",
        "# temp_fft = temp_fft - np.fft.fft(temp_x)\r\n",
        "# temp_fft[100:] = 0\r\n",
        "# temp_fft = np.fft.fft(temp_x)\r\n",
        "# ax.plot(temp_fft)\r\n",
        "# ax.plot(np.fft.ifft(temp_fft))\r\n",
        "# ax.plot(np.array(ds1[6])[aq][:nlim])\r\n",
        "# ax.plot(normalize(np.array(ds1[5])[aq][:nlim]))\r\n",
        "# ax.plot(normalize(np.array(ds1[6])[aq][:nlim]))\r\n",
        "# ax.set_title('ALL', fontsize=18)"
      ],
      "execution_count": null,
      "outputs": []
    }
  ]
}